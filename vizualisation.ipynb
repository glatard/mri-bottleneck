{
 "cells": [
  {
   "cell_type": "code",
   "execution_count": 2,
   "metadata": {},
   "outputs": [],
   "source": [
    "import re\n",
    "\n",
    "import pandas as pd\n",
    "\n",
    "\n",
    "def data_preparation(df: pd.DataFrame, keep_ratio: float=0.8) -> pd.DataFrame:\n",
    "    stats = (\n",
    "        df.groupby([\"Module\", \"Function\"])\n",
    "        .agg(\n",
    "            mean_cpu=pd.NamedAgg(column=\"CPU Time\", aggfunc=\"mean\"),\n",
    "            std_cpu=pd.NamedAgg(column=\"CPU Time\", aggfunc=\"std\"),\n",
    "            mean_mem_bound=pd.NamedAgg(column=\"Memory Bound(%)\", aggfunc=\"mean\"),\n",
    "            std_mem_bound=pd.NamedAgg(column=\"Memory Bound(%)\", aggfunc=\"std\"),\n",
    "            mean_fp=pd.NamedAgg(column=\"Vectorization:% of FP Ops(%)\", aggfunc=\"mean\"),\n",
    "            std_fp=pd.NamedAgg(column=\"Vectorization:% of FP Ops(%)\", aggfunc=\"std\"),\n",
    "            \n",
    "        )\n",
    "        .sort_values(by=\"mean_cpu\", ascending=False)\n",
    "    )\n",
    "    stats[\"perc_makespan\"] = stats[\"mean_cpu\"] / stats[\"mean_cpu\"].sum() * 100\n",
    "    stats[\"cumperc_makespan\"] = stats[\"perc_makespan\"].cumsum()\n",
    "    hotspots = stats[\n",
    "        stats[\"cumperc_makespan\"] < max(keep_ratio * 100, stats[\"cumperc_makespan\"][0])\n",
    "    ]\n",
    "\n",
    "    # Total CPU Time per module\n",
    "    module_mean_cpu = hotspots.groupby(\"Module\")[\"mean_cpu\"].sum().to_dict()\n",
    "    hotspots = hotspots.reset_index()\n",
    "    hotspots[\"module_cpu\"] = hotspots[\"Module\"].map(module_mean_cpu)\n",
    "\n",
    "    # Clean Function and Module names\n",
    "    def clean_module(module: str)-> str:\n",
    "        if ( m := re.match(r\"^\\w+\\.so\", module) ):\n",
    "            return m.group(0)\n",
    "        return module\n",
    "\n",
    "    hotspots[\"clean_func\"] = hotspots[\"Function\"].apply(lambda x: re.sub(r\"<.*>\", \"\", x))\n",
    "    hotspots[\"clean_module\"] = hotspots[\"Module\"].apply(clean_module)\n",
    "\n",
    "    # CPU Time sorted by \"Module CPU Time\" -> \"CPU Time\".\n",
    "    hotspots = hotspots.sort_values(by=[\"module_cpu\", \"mean_cpu\"], ascending=False)\n",
    "    # Reorder the cumulative makespan for plotting.\n",
    "    hotspots[\"cumperc_makespan\"] = hotspots[\"perc_makespan\"].cumsum()\n",
    "    return hotspots"
   ]
  },
  {
   "cell_type": "code",
   "execution_count": 7,
   "metadata": {},
   "outputs": [
    {
     "data": {
      "text/html": [
       "<style>\n",
       "        .bk-notebook-logo {\n",
       "            display: block;\n",
       "            width: 20px;\n",
       "            height: 20px;\n",
       "            background-image: url(data:image/png;base64,iVBORw0KGgoAAAANSUhEUgAAABQAAAAUCAYAAACNiR0NAAAABHNCSVQICAgIfAhkiAAAAAlwSFlzAAALEgAACxIB0t1+/AAAABx0RVh0U29mdHdhcmUAQWRvYmUgRmlyZXdvcmtzIENTNui8sowAAAOkSURBVDiNjZRtaJVlGMd/1/08zzln5zjP1LWcU9N0NkN8m2CYjpgQYQXqSs0I84OLIC0hkEKoPtiH3gmKoiJDU7QpLgoLjLIQCpEsNJ1vqUOdO7ppbuec5+V+rj4ctwzd8IIbbi6u+8f1539dt3A78eXC7QizUF7gyV1fD1Yqg4JWz84yffhm0qkFqBogB9rM8tZdtwVsPUhWhGcFJngGeWrPzHm5oaMmkfEg1usvLFyc8jLRqDOMru7AyC8saQr7GG7f5fvDeH7Ej8CM66nIF+8yngt6HWaKh7k49Soy9nXurCi1o3qUbS3zWfrYeQDTB/Qj6kX6Ybhw4B+bOYoLKCC9H3Nu/leUTZ1JdRWkkn2ldcCamzrcf47KKXdAJllSlxAOkRgyHsGC/zRday5Qld9DyoM4/q/rUoy/CXh3jzOu3bHUVZeU+DEn8FInkPBFlu3+nW3Nw0mk6vCDiWg8CeJaxEwuHS3+z5RgY+YBR6V1Z1nxSOfoaPa4LASWxxdNp+VWTk7+4vzaou8v8PN+xo+KY2xsw6une2frhw05CTYOmQvsEhjhWjn0bmXPjpE1+kplmmkP3suftwTubK9Vq22qKmrBhpY4jvd5afdRA3wGjFAgcnTK2s4hY0/GPNIb0nErGMCRxWOOX64Z8RAC4oCXdklmEvcL8o0BfkNK4lUg9HTl+oPlQxdNo3Mg4Nv175e/1LDGzZen30MEjRUtmXSfiTVu1kK8W4txyV6BMKlbgk3lMwYCiusNy9fVfvvwMxv8Ynl6vxoByANLTWplvuj/nF9m2+PDtt1eiHPBr1oIfhCChQMBw6Aw0UulqTKZdfVvfG7VcfIqLG9bcldL/+pdWTLxLUy8Qq38heUIjh4XlzZxzQm19lLFlr8vdQ97rjZVOLf8nclzckbcD4wxXMidpX30sFd37Fv/GtwwhzhxGVAprjbg0gCAEeIgwCZyTV2Z1REEW8O4py0wsjeloKoMr6iCY6dP92H6Vw/oTyICIthibxjm/DfN9lVz8IqtqKYLUXfoKVMVQVVJOElGjrnnUt9T9wbgp8AyYKaGlqingHZU/uG2NTZSVqwHQTWkx9hxjkpWDaCg6Ckj5qebgBVbT3V3NNXMSiWSDdGV3hrtzla7J+duwPOToIg42ChPQOQjspnSlp1V+Gjdged7+8UN5CRAV7a5EdFNwCjEaBR27b3W890TE7g24NAP/mMDXRWrGoFPQI9ls/MWO2dWFAar/xcOIImbbpA3zgAAAABJRU5ErkJggg==);\n",
       "        }\n",
       "    </style>\n",
       "    <div>\n",
       "        <a href=\"https://bokeh.org\" target=\"_blank\" class=\"bk-notebook-logo\"></a>\n",
       "        <span id=\"p1479\">Loading BokehJS ...</span>\n",
       "    </div>\n"
      ]
     },
     "metadata": {},
     "output_type": "display_data"
    },
    {
     "data": {
      "application/javascript": "(function(root) {\n  function now() {\n    return new Date();\n  }\n\n  const force = true;\n\n  if (typeof root._bokeh_onload_callbacks === \"undefined\" || force === true) {\n    root._bokeh_onload_callbacks = [];\n    root._bokeh_is_loading = undefined;\n  }\n\nconst JS_MIME_TYPE = 'application/javascript';\n  const HTML_MIME_TYPE = 'text/html';\n  const EXEC_MIME_TYPE = 'application/vnd.bokehjs_exec.v0+json';\n  const CLASS_NAME = 'output_bokeh rendered_html';\n\n  /**\n   * Render data to the DOM node\n   */\n  function render(props, node) {\n    const script = document.createElement(\"script\");\n    node.appendChild(script);\n  }\n\n  /**\n   * Handle when an output is cleared or removed\n   */\n  function handleClearOutput(event, handle) {\n    const cell = handle.cell;\n\n    const id = cell.output_area._bokeh_element_id;\n    const server_id = cell.output_area._bokeh_server_id;\n    // Clean up Bokeh references\n    if (id != null && id in Bokeh.index) {\n      Bokeh.index[id].model.document.clear();\n      delete Bokeh.index[id];\n    }\n\n    if (server_id !== undefined) {\n      // Clean up Bokeh references\n      const cmd_clean = \"from bokeh.io.state import curstate; print(curstate().uuid_to_server['\" + server_id + \"'].get_sessions()[0].document.roots[0]._id)\";\n      cell.notebook.kernel.execute(cmd_clean, {\n        iopub: {\n          output: function(msg) {\n            const id = msg.content.text.trim();\n            if (id in Bokeh.index) {\n              Bokeh.index[id].model.document.clear();\n              delete Bokeh.index[id];\n            }\n          }\n        }\n      });\n      // Destroy server and session\n      const cmd_destroy = \"import bokeh.io.notebook as ion; ion.destroy_server('\" + server_id + \"')\";\n      cell.notebook.kernel.execute(cmd_destroy);\n    }\n  }\n\n  /**\n   * Handle when a new output is added\n   */\n  function handleAddOutput(event, handle) {\n    const output_area = handle.output_area;\n    const output = handle.output;\n\n    // limit handleAddOutput to display_data with EXEC_MIME_TYPE content only\n    if ((output.output_type != \"display_data\") || (!Object.prototype.hasOwnProperty.call(output.data, EXEC_MIME_TYPE))) {\n      return\n    }\n\n    const toinsert = output_area.element.find(\".\" + CLASS_NAME.split(' ')[0]);\n\n    if (output.metadata[EXEC_MIME_TYPE][\"id\"] !== undefined) {\n      toinsert[toinsert.length - 1].firstChild.textContent = output.data[JS_MIME_TYPE];\n      // store reference to embed id on output_area\n      output_area._bokeh_element_id = output.metadata[EXEC_MIME_TYPE][\"id\"];\n    }\n    if (output.metadata[EXEC_MIME_TYPE][\"server_id\"] !== undefined) {\n      const bk_div = document.createElement(\"div\");\n      bk_div.innerHTML = output.data[HTML_MIME_TYPE];\n      const script_attrs = bk_div.children[0].attributes;\n      for (let i = 0; i < script_attrs.length; i++) {\n        toinsert[toinsert.length - 1].firstChild.setAttribute(script_attrs[i].name, script_attrs[i].value);\n        toinsert[toinsert.length - 1].firstChild.textContent = bk_div.children[0].textContent\n      }\n      // store reference to server id on output_area\n      output_area._bokeh_server_id = output.metadata[EXEC_MIME_TYPE][\"server_id\"];\n    }\n  }\n\n  function register_renderer(events, OutputArea) {\n\n    function append_mime(data, metadata, element) {\n      // create a DOM node to render to\n      const toinsert = this.create_output_subarea(\n        metadata,\n        CLASS_NAME,\n        EXEC_MIME_TYPE\n      );\n      this.keyboard_manager.register_events(toinsert);\n      // Render to node\n      const props = {data: data, metadata: metadata[EXEC_MIME_TYPE]};\n      render(props, toinsert[toinsert.length - 1]);\n      element.append(toinsert);\n      return toinsert\n    }\n\n    /* Handle when an output is cleared or removed */\n    events.on('clear_output.CodeCell', handleClearOutput);\n    events.on('delete.Cell', handleClearOutput);\n\n    /* Handle when a new output is added */\n    events.on('output_added.OutputArea', handleAddOutput);\n\n    /**\n     * Register the mime type and append_mime function with output_area\n     */\n    OutputArea.prototype.register_mime_type(EXEC_MIME_TYPE, append_mime, {\n      /* Is output safe? */\n      safe: true,\n      /* Index of renderer in `output_area.display_order` */\n      index: 0\n    });\n  }\n\n  // register the mime type if in Jupyter Notebook environment and previously unregistered\n  if (root.Jupyter !== undefined) {\n    const events = require('base/js/events');\n    const OutputArea = require('notebook/js/outputarea').OutputArea;\n\n    if (OutputArea.prototype.mime_types().indexOf(EXEC_MIME_TYPE) == -1) {\n      register_renderer(events, OutputArea);\n    }\n  }\n  if (typeof (root._bokeh_timeout) === \"undefined\" || force === true) {\n    root._bokeh_timeout = Date.now() + 5000;\n    root._bokeh_failed_load = false;\n  }\n\n  const NB_LOAD_WARNING = {'data': {'text/html':\n     \"<div style='background-color: #fdd'>\\n\"+\n     \"<p>\\n\"+\n     \"BokehJS does not appear to have successfully loaded. If loading BokehJS from CDN, this \\n\"+\n     \"may be due to a slow or bad network connection. Possible fixes:\\n\"+\n     \"</p>\\n\"+\n     \"<ul>\\n\"+\n     \"<li>re-rerun `output_notebook()` to attempt to load from CDN again, or</li>\\n\"+\n     \"<li>use INLINE resources instead, as so:</li>\\n\"+\n     \"</ul>\\n\"+\n     \"<code>\\n\"+\n     \"from bokeh.resources import INLINE\\n\"+\n     \"output_notebook(resources=INLINE)\\n\"+\n     \"</code>\\n\"+\n     \"</div>\"}};\n\n  function display_loaded() {\n    const el = document.getElementById(\"p1479\");\n    if (el != null) {\n      el.textContent = \"BokehJS is loading...\";\n    }\n    if (root.Bokeh !== undefined) {\n      if (el != null) {\n        el.textContent = \"BokehJS \" + root.Bokeh.version + \" successfully loaded.\";\n      }\n    } else if (Date.now() < root._bokeh_timeout) {\n      setTimeout(display_loaded, 100)\n    }\n  }\n\n  function run_callbacks() {\n    try {\n      root._bokeh_onload_callbacks.forEach(function(callback) {\n        if (callback != null)\n          callback();\n      });\n    } finally {\n      delete root._bokeh_onload_callbacks\n    }\n    console.debug(\"Bokeh: all callbacks have finished\");\n  }\n\n  function load_libs(css_urls, js_urls, callback) {\n    if (css_urls == null) css_urls = [];\n    if (js_urls == null) js_urls = [];\n\n    root._bokeh_onload_callbacks.push(callback);\n    if (root._bokeh_is_loading > 0) {\n      console.debug(\"Bokeh: BokehJS is being loaded, scheduling callback at\", now());\n      return null;\n    }\n    if (js_urls == null || js_urls.length === 0) {\n      run_callbacks();\n      return null;\n    }\n    console.debug(\"Bokeh: BokehJS not loaded, scheduling load and callback at\", now());\n    root._bokeh_is_loading = css_urls.length + js_urls.length;\n\n    function on_load() {\n      root._bokeh_is_loading--;\n      if (root._bokeh_is_loading === 0) {\n        console.debug(\"Bokeh: all BokehJS libraries/stylesheets loaded\");\n        run_callbacks()\n      }\n    }\n\n    function on_error(url) {\n      console.error(\"failed to load \" + url);\n    }\n\n    for (let i = 0; i < css_urls.length; i++) {\n      const url = css_urls[i];\n      const element = document.createElement(\"link\");\n      element.onload = on_load;\n      element.onerror = on_error.bind(null, url);\n      element.rel = \"stylesheet\";\n      element.type = \"text/css\";\n      element.href = url;\n      console.debug(\"Bokeh: injecting link tag for BokehJS stylesheet: \", url);\n      document.body.appendChild(element);\n    }\n\n    for (let i = 0; i < js_urls.length; i++) {\n      const url = js_urls[i];\n      const element = document.createElement('script');\n      element.onload = on_load;\n      element.onerror = on_error.bind(null, url);\n      element.async = false;\n      element.src = url;\n      console.debug(\"Bokeh: injecting script tag for BokehJS library: \", url);\n      document.head.appendChild(element);\n    }\n  };\n\n  function inject_raw_css(css) {\n    const element = document.createElement(\"style\");\n    element.appendChild(document.createTextNode(css));\n    document.body.appendChild(element);\n  }\n\n  const js_urls = [\"https://cdn.bokeh.org/bokeh/release/bokeh-3.0.3.min.js\", \"https://cdn.bokeh.org/bokeh/release/bokeh-gl-3.0.3.min.js\", \"https://cdn.bokeh.org/bokeh/release/bokeh-widgets-3.0.3.min.js\", \"https://cdn.bokeh.org/bokeh/release/bokeh-tables-3.0.3.min.js\", \"https://cdn.bokeh.org/bokeh/release/bokeh-mathjax-3.0.3.min.js\"];\n  const css_urls = [];\n\n  const inline_js = [    function(Bokeh) {\n      Bokeh.set_log_level(\"info\");\n    },\nfunction(Bokeh) {\n    }\n  ];\n\n  function run_inline_js() {\n    if (root.Bokeh !== undefined || force === true) {\n          for (let i = 0; i < inline_js.length; i++) {\n      inline_js[i].call(root, root.Bokeh);\n    }\nif (force === true) {\n        display_loaded();\n      }} else if (Date.now() < root._bokeh_timeout) {\n      setTimeout(run_inline_js, 100);\n    } else if (!root._bokeh_failed_load) {\n      console.log(\"Bokeh: BokehJS failed to load within specified timeout.\");\n      root._bokeh_failed_load = true;\n    } else if (force !== true) {\n      const cell = $(document.getElementById(\"p1479\")).parents('.cell').data().cell;\n      cell.output_area.append_execute_result(NB_LOAD_WARNING)\n    }\n  }\n\n  if (root._bokeh_is_loading === 0) {\n    console.debug(\"Bokeh: BokehJS loaded, going straight to plotting\");\n    run_inline_js();\n  } else {\n    load_libs(css_urls, js_urls, function() {\n      console.debug(\"Bokeh: BokehJS plotting callback run at\", now());\n      run_inline_js();\n    });\n  }\n}(window));",
      "application/vnd.bokehjs_load.v0+json": ""
     },
     "metadata": {},
     "output_type": "display_data"
    }
   ],
   "source": [
    "import math\n",
    "\n",
    "from bokeh.io import output_notebook\n",
    "from bokeh.models import (\n",
    "    ColorBar,\n",
    "    ColumnDataSource, \n",
    "    FactorRange, \n",
    "    HoverTool, \n",
    "    LinearAxis, \n",
    "    LinearColorMapper,\n",
    "    Range1d, \n",
    "    Whisker,\n",
    ")\n",
    "from bokeh.plotting import figure, show\n",
    "from bokeh.transform import transform\n",
    "\n",
    "\n",
    "output_notebook()\n",
    "\n",
    "def plot_results(data, *, colorbar_on=\"mean_fp\", colorbar_title='% of FP operations'):\n",
    "    df = data_preparation(data, keep_ratio=.8)\n",
    "    xs = [(module, str(i)) for i, module in enumerate(df[\"clean_module\"], start=1)]\n",
    "    source = ColumnDataSource(data=dict(\n",
    "        x=xs,\n",
    "        module=df[\"clean_module\"].values,\n",
    "        func=df[\"clean_func\"].values,\n",
    "        perc_makespan=df[\"perc_makespan\"].values,\n",
    "        cumperc_makespan=df[\"cumperc_makespan\"].values,\n",
    "        mean_cpu=df[\"mean_cpu\"].values,\n",
    "        std_cpu=df[\"std_cpu\"].values,\n",
    "        std_lower_cpu=df[\"mean_cpu\"].values-df[\"std_cpu\"].values,\n",
    "        std_upper_cpu=df[\"mean_cpu\"].values+df[\"std_cpu\"].values,\n",
    "        mean_mem_bound=df[\"mean_mem_bound\"].values,\n",
    "        std_mem_bound=df[\"std_mem_bound\"].values,\n",
    "        mean_fp=df[\"mean_fp\"].values,\n",
    "        std_fp=df[\"std_fp\"].values,\n",
    "    ))\n",
    "\n",
    "    p = figure(\n",
    "        x_range=FactorRange(*xs),\n",
    "        title=\"Avg. CPU Time\",\n",
    "        width=1200,\n",
    "        toolbar_location=None,\n",
    "    )\n",
    "\n",
    "    # Tools\n",
    "    hover = HoverTool()\n",
    "    hover.tooltips = [\n",
    "        (\"Module\", \"@module\"),\n",
    "        (\"Function\", \"@func\"),\n",
    "        (\"Makespan contribution\", \"@perc_makespan{1.0}%\"),\n",
    "        (\"Makespan contribution (cumulative)\", \"@cumperc_makespan{1.0}%\"),\n",
    "        (\"CPU Time (mean ± std)\", \"@mean_cpu ± @std_cpu\"),\n",
    "        (\"% of memory bound (mean ± std)\", \"@mean_mem_bound ± @std_mem_bound\"),\n",
    "        (\"% of FP ops (mean ± std)\", \"@mean_fp ± @std_fp\"),\n",
    "    ]\n",
    "    p.tools.append(hover)\n",
    "\n",
    "    # Mean\n",
    "    color_mapper = LinearColorMapper(palette='Magma256', low=0, high=100)\n",
    "    color_bar = ColorBar(\n",
    "        color_mapper = color_mapper,\n",
    "        label_standoff = 14,\n",
    "        location = (0,0),\n",
    "        title = colorbar_title,\n",
    "    )\n",
    "    p.add_layout(color_bar, 'left')\n",
    "    p.vbar(\n",
    "        x=\"x\",\n",
    "        top=\"mean_cpu\", \n",
    "        width=0.9, \n",
    "        source=source, \n",
    "        color=transform(colorbar_on, color_mapper)\n",
    "    )\n",
    "    # Error\n",
    "    error = Whisker(base=\"x\", upper=\"std_upper_cpu\", lower=\"std_lower_cpu\", source=source,\n",
    "                    level=\"annotation\", line_width=2)\n",
    "    error.upper_head.size=20\n",
    "    error.lower_head.size=20\n",
    "    p.add_layout(error)\n",
    "\n",
    "    # Cumulative makespan\n",
    "    p.extra_y_ranges = {\"percentage\": Range1d(start=0, end=100)}\n",
    "    p.add_layout(LinearAxis(y_range_name=\"percentage\"), 'right')\n",
    "    p.scatter(x=\"x\", y=\"cumperc_makespan\", source=source, y_range_name=\"percentage\", color=\"red\", size=15)\n",
    "\n",
    "    # Style\n",
    "    y_limit = 1.05 * (df[\"mean_cpu\"].values+df[\"std_cpu\"].values).max()\n",
    "    p.y_range.end = y_limit\n",
    "    # p.y_range = Range1d(start=0, end=y_limit)\n",
    "    p.x_range.range_padding = 0.1\n",
    "    p.xaxis.major_label_orientation = math.pi/8\n",
    "    p.xaxis.group_label_orientation = math.pi/8\n",
    "    p.xaxis.separator_line_alpha = 0\n",
    "    p.xgrid.grid_line_color = None\n",
    "\n",
    "    return show(p)\n"
   ]
  },
  {
   "cell_type": "code",
   "execution_count": 8,
   "metadata": {},
   "outputs": [
    {
     "data": {
      "text/html": [
       "\n",
       "  <div id=\"87d44fe8-2e2e-45e1-96f8-1d727c92861e\" data-root-id=\"p1484\" style=\"display: contents;\"></div>\n"
      ]
     },
     "metadata": {},
     "output_type": "display_data"
    },
    {
     "data": {
      "application/javascript": "(function(root) {\n  function embed_document(root) {\n  const docs_json = {\"862064d6-7426-49da-93dd-40bdc871368e\":{\"version\":\"3.0.3\",\"title\":\"Bokeh Application\",\"defs\":[],\"roots\":[{\"type\":\"object\",\"name\":\"Figure\",\"id\":\"p1484\",\"attributes\":{\"width\":1200,\"x_range\":{\"type\":\"object\",\"name\":\"FactorRange\",\"id\":\"p1483\",\"attributes\":{\"factors\":[[\"libantsUtilities.so\",\"1\"],[\"libantsUtilities.so\",\"2\"],[\"libantsUtilities.so\",\"3\"],[\"libantsUtilities.so\",\"4\"],[\"libantsUtilities.so\",\"5\"],[\"libantsUtilities.so\",\"6\"],[\"libantsUtilities.so\",\"7\"],[\"libantsUtilities.so\",\"8\"],[\"libantsUtilities.so\",\"9\"],[\"libantsUtilities.so\",\"10\"],[\"libantsUtilities.so\",\"11\"],[\"libantsUtilities.so\",\"12\"],[\"libantsUtilities.so\",\"13\"],[\"libantsUtilities.so\",\"14\"],[\"libantsUtilities.so\",\"15\"],[\"libantsUtilities.so\",\"16\"],[\"libantsUtilities.so\",\"17\"],[\"libantsUtilities.so\",\"18\"],[\"libantsUtilities.so\",\"19\"],[\"libantsUtilities.so\",\"20\"],[\"libantsUtilities.so\",\"21\"],[\"libantsUtilities.so\",\"22\"],[\"libantsUtilities.so\",\"23\"],[\"libantsUtilities.so\",\"24\"],[\"libantsUtilities.so\",\"25\"],[\"libantsUtilities.so\",\"26\"],[\"libantsUtilities.so\",\"27\"],[\"libl_N4BiasFieldCorrection.so\",\"28\"],[\"libl_antsAI.so\",\"29\"],[\"libl_antsAI.so\",\"30\"]],\"range_padding\":0.1}},\"y_range\":{\"type\":\"object\",\"name\":\"DataRange1d\",\"id\":\"p1486\",\"attributes\":{\"end\":663.7201566383217}},\"x_scale\":{\"type\":\"object\",\"name\":\"CategoricalScale\",\"id\":\"p1497\"},\"y_scale\":{\"type\":\"object\",\"name\":\"LinearScale\",\"id\":\"p1499\"},\"extra_y_ranges\":{\"type\":\"map\",\"entries\":[[\"percentage\",{\"type\":\"object\",\"name\":\"Range1d\",\"id\":\"p1551\",\"attributes\":{\"end\":100}}]]},\"title\":{\"type\":\"object\",\"name\":\"Title\",\"id\":\"p1487\",\"attributes\":{\"text\":\"Avg. CPU Time\"}},\"renderers\":[{\"type\":\"object\",\"name\":\"GlyphRenderer\",\"id\":\"p1540\",\"attributes\":{\"data_source\":{\"type\":\"object\",\"name\":\"ColumnDataSource\",\"id\":\"p1480\",\"attributes\":{\"selected\":{\"type\":\"object\",\"name\":\"Selection\",\"id\":\"p1481\",\"attributes\":{\"indices\":[],\"line_indices\":[]}},\"selection_policy\":{\"type\":\"object\",\"name\":\"UnionRenderers\",\"id\":\"p1482\"},\"data\":{\"type\":\"map\",\"entries\":[[\"x\",[[\"libantsUtilities.so\",\"1\"],[\"libantsUtilities.so\",\"2\"],[\"libantsUtilities.so\",\"3\"],[\"libantsUtilities.so\",\"4\"],[\"libantsUtilities.so\",\"5\"],[\"libantsUtilities.so\",\"6\"],[\"libantsUtilities.so\",\"7\"],[\"libantsUtilities.so\",\"8\"],[\"libantsUtilities.so\",\"9\"],[\"libantsUtilities.so\",\"10\"],[\"libantsUtilities.so\",\"11\"],[\"libantsUtilities.so\",\"12\"],[\"libantsUtilities.so\",\"13\"],[\"libantsUtilities.so\",\"14\"],[\"libantsUtilities.so\",\"15\"],[\"libantsUtilities.so\",\"16\"],[\"libantsUtilities.so\",\"17\"],[\"libantsUtilities.so\",\"18\"],[\"libantsUtilities.so\",\"19\"],[\"libantsUtilities.so\",\"20\"],[\"libantsUtilities.so\",\"21\"],[\"libantsUtilities.so\",\"22\"],[\"libantsUtilities.so\",\"23\"],[\"libantsUtilities.so\",\"24\"],[\"libantsUtilities.so\",\"25\"],[\"libantsUtilities.so\",\"26\"],[\"libantsUtilities.so\",\"27\"],[\"libl_N4BiasFieldCorrection.so\",\"28\"],[\"libl_antsAI.so\",\"29\"],[\"libl_antsAI.so\",\"30\"]]],[\"module\",{\"type\":\"ndarray\",\"array\":[\"libantsUtilities.so\",\"libantsUtilities.so\",\"libantsUtilities.so\",\"libantsUtilities.so\",\"libantsUtilities.so\",\"libantsUtilities.so\",\"libantsUtilities.so\",\"libantsUtilities.so\",\"libantsUtilities.so\",\"libantsUtilities.so\",\"libantsUtilities.so\",\"libantsUtilities.so\",\"libantsUtilities.so\",\"libantsUtilities.so\",\"libantsUtilities.so\",\"libantsUtilities.so\",\"libantsUtilities.so\",\"libantsUtilities.so\",\"libantsUtilities.so\",\"libantsUtilities.so\",\"libantsUtilities.so\",\"libantsUtilities.so\",\"libantsUtilities.so\",\"libantsUtilities.so\",\"libantsUtilities.so\",\"libantsUtilities.so\",\"libantsUtilities.so\",\"libl_N4BiasFieldCorrection.so\",\"libl_antsAI.so\",\"libl_antsAI.so\"],\"shape\":[30],\"dtype\":\"object\",\"order\":\"little\"}],[\"func\",{\"type\":\"ndarray\",\"array\":[\"itk::LinearInterpolateImageFunction::EvaluateOptimized\",\"itk::VectorLinearInterpolateImageFunction::EvaluateAtContinuousIndex\",\"itk::DisplacementFieldTransform::TransformPoint\",\"itk::MattesMutualInformationImageToImageMetricv4GetValueAndDerivativeThreader::ProcessPoint\",\"itk::CompositeTransform::TransformPoint\",\"itk::ImageToImageMetricv4::TransformAndEvaluateFixedPoint\",\"itk::CompositeTransform::ComputeJacobianWithRespectToParametersCachedTemporaries\",\"itk::ImageBase\",\"itk::Image::GetPixel\",\"itk::ImageToImageMetricv4::TransformAndEvaluateMovingPoint\",\"itk::LinearInterpolateImageFunction::EvaluateAtContinuousIndex\",\"itk::Matrix::operator*\",\"itk::ANTSNeighborhoodCorrelationImageToImageMetricv4GetValueAndDerivativeThreader::UpdateQueuesToNextScanWindow\",\"itk::ConstNeighborhoodIterator::operator++\",\"itk::ImageToImageMetricv4GetValueAndDerivativeThreaderBase::ProcessVirtualPoint\",\"itk::ConstNeighborhoodIterator::IndexInBounds\",\"itk::ImageFunction::IsInsideBuffer\",\"itk::InterpolateImageFunction::Evaluate\",\"itk::PointSet::GetPoint\",\"itk::ImageFunction::IsInsideBuffer\",\"itk::Point::operator+\",\"itk::BSplineKernelFunction::Evaluate\",\"itk::ObjectToObjectMetric::TransformVirtualIndexToPhysicalPoint\",\"itk::MattesMutualInformationImageToImageMetricv4::DerivativeBufferManager::ReduceBuffer\",\"itk::MatrixOffsetTransformBase::TransformPoint\",\"itk::CentralDifferenceImageFunction\",\"itk::Math::Detail::Floor_64\",\"itk::BSplineScatteredDataPointSetToImageFilter::ThreadedGenerateDataForFitting\",\"itk::LinearInterpolateImageFunction::EvaluateOptimized\",\"itk::MattesMutualInformationImageToImageMetricv4GetValueAndDerivativeThreader::ProcessPoint\"],\"shape\":[30],\"dtype\":\"object\",\"order\":\"little\"}],[\"perc_makespan\",{\"type\":\"ndarray\",\"array\":{\"type\":\"bytes\",\"data\":\"sG5AK0wvNEAdbCr1bjIrQE2WU3ydiRJAUCH9D0ZQDkCG9drVu2UNQFcVjvux4AdAISi/lRMKBkDUZan2/GEAQJ2leM83HgBAuHa4cobK/z/N8myvfCr/P2cKzZ4Gd/s/fgVovPXM+j+BfUVIk6r1P6s1Db4RwfI/djwUus6R8T/kvdLwKGnxPwOL2mgSWvE/qL9va0m27j/yqkIXCajqP0os6o2lU+k/ZugL+3Aw6T+nbMcULRroP87sfmvDBuc/Hrj9HkC55T8n7+QtZw7lP1n2RbGP+uM/FQHE4lbQA0Csh6jsoZvwP8jF0JDJg+M/\"},\"shape\":[30],\"dtype\":\"float64\",\"order\":\"little\"}],[\"cumperc_makespan\",{\"type\":\"ndarray\",\"array\":{\"type\":\"bytes\",\"data\":\"sG5AK0wvNEBf0urSQeRAQClFdYJ1NUNAPhd143kaRUCWxtKg1fBGQOuni8DgbkhAbZrn+YHPSUDKMFLJodVKQCS7SUaF10tA2n7fednVTEBw5lpfLc9NQMNOUZTlqk5A7440Qk2BT0BuXTvuUBdQQEWSMzVVYlBAN+MbcJyoUEAvLt8TQe5QQFuYgl2pM1FA2ndZ8BVxUUAw/YcCZqZRQInRo00N2VFAWumZL24LUkAzeMOJojtSQA12mhCwaVJAfXHYkCKVUkBbOzRfP79SQEjHln4051JAUeesNbeFU0BwiV+9JchTQPwqgVAt71NA\"},\"shape\":[30],\"dtype\":\"float64\",\"order\":\"little\"}],[\"mean_cpu\",{\"type\":\"ndarray\",\"array\":{\"type\":\"bytes\",\"data\":\"4SDGEPk/gUDmwYKgGD53QDA2CM40r19AY19XOO7nWUAvJ7Igfh9ZQHHDlO3oZ1RA44NDFLjVUkDKFE+AXQBMQLfNZ1OIjEtAGsRiLy8rS0COBBpsaqJKQDK+vR23eEdAQmm5fWDnRkBDz8GOGoRCQHuMTYb+BkBAkwd9RKcHPkCqhzGyLcI9QD6rcdtjqD1AEJMVaBw/OkCDhoJC0sc2QDoU9M3spDVAaUGDqNaGNUAyaNdzCJk0QBqD806qrTNAyvUAJ6WQMkBx4eWOo/4xQElAo47nEjFAx9eeWdLuUEAObPAZ5GI8QFpciHpmrTBA\"},\"shape\":[30],\"dtype\":\"float64\",\"order\":\"little\"}],[\"std_cpu\",{\"type\":\"ndarray\",\"array\":{\"type\":\"bytes\",\"data\":\"/2WKYIoHVEAgNz8Aq5IMQHwl52IdSgFAg/rGRdOYK0C4awab+csiQNDh++0FrANASIbvB468I0BVz+xvHadQQLUCpI3UCTlAHxzpDF5WA0AxpsOsj6cIQCtoZLHJ10VAWS+va5Km5D/d7UpEdB3nP4S9hVLRfApAIajM+YOeLEDz0XKskik+QHBHiYFsovQ/IRrfkVCaJ0AcdGyAOiQuQP6xkJYFKAJACoddGcqAB0AIy9v1XIXgP0gdOuJcBQRAeEBOLzoA/D8cyd0gyhT+P3fIArojqDNAwJCcfHNp7j/8nlTLWbrmP5L9x+dCIug/\"},\"shape\":[30],\"dtype\":\"float64\",\"order\":\"little\"}],[\"std_lower_cpu\",{\"type\":\"ndarray\",\"array\":{\"type\":\"bytes\",\"data\":\"QqhpiQ9+fUB4Q4JK8wR3QAT98OLjJF9AE4Cez9N0VkC4WVHt/sVWQGLkJL6IylNAGpNFUyZeUECAJyp+dTclwLmYKxk8Dz5AWDKUTsn1SUAryk1x8RdJQHBglcXWDgpAhawKNMaURkCMo7C9pCdCQEZhSuJivjxABWctj8pwL0BAklKQPtnZv8cWWRM9XjxA/wtMPujjLEDUMTEJ1NYeQPr9IRvsXzNAiJBXZb2WMkDaiSiM3RQ0QHE/rLL+LDFAwhEMhKHQMEDfBNjsVh0wQHBB/FrhqQTApp6lcv+xUEAWx5VLEa07QNs4lMao2C9A\"},\"shape\":[30],\"dtype\":\"float64\",\"order\":\"little\"}],[\"std_upper_cpu\",{\"type\":\"ndarray\",\"array\":{\"type\":\"bytes\",\"data\":\"oW3XXOrAg0BUQIP2PXd3QK63j9zCHGBAsz4QoQhbXUCm9BJU/XhbQICiBB1JBVVArHRB1UlNVUC6WRQwTKdeQInnHE25CFRA3FUxEJVgTEDxPuZm4yxMQC4TkWdAqFZA/yVox/o5R0D6+tJfkOBCQFPodZvLrkFA0q2xoHQrRkDOLFIv4PVNQLU/iqOK8j5AEJCCWCIGQ0BIYFzB9+xCQHoqxoDt6TdASvKu6+92OECKRoZbMx01QMPGOutVLjZA0tn1yahQNEADvvMw8N8zQGAEU6SFXUJA6BCYQKUrUUAGEUvothg9QEecxpF4bjFA\"},\"shape\":[30],\"dtype\":\"float64\",\"order\":\"little\"}],[\"mean_mem_bound\",{\"type\":\"ndarray\",\"array\":{\"type\":\"bytes\",\"data\":\"ZmZmZmY+SkAehetRuJ4xQClcj8L1mDBA9ihcj8I1EkBI4XoUrpczQClcj8L1GDZA9ihcj8L1DUA2stgKseYqQLBLKh/G/TJAcT0K16MAOEC4HoXrUdg2QEfSPzzxSSdApHA9CtdjJUD2KFyPwvUKQOJ6FK5HMTVAw/UoXI/CGkBOAnGh5iQlQNejcD0KxzdAMzMzMzPbQkCLsiiLsigxQHsUrkfh+hxAmpmZmZmZBUCamZmZmRkPQLgehetRuABAKlyPwvXIKkBSuB6F6yE7QGx5KLiS2zFAAAAAAABEOUCamZmZmekyQKNwPQrXIy5A\"},\"shape\":[30],\"dtype\":\"float64\",\"order\":\"little\"}],[\"std_mem_bound\",{\"type\":\"ndarray\",\"array\":{\"type\":\"bytes\",\"data\":\"wT9xkh2WEkDxhimpWaHvP+egl64iQfY/htlZp12J6j9+9p6fecr3P+HMkcaPWP4/uJqVqG0H6T9/PWWgQTwnQNDlmtsLGB9A++72WNmKBEDgycoEpgMHQFC0aVzFpSNALJlDYdRp+D/Y1NdXgSb5P1VdQhJZgQxAWYYf5I8bB0CdPXPHHg0oQJO9abgLXgZAJBavcaB1L0CvPYPbwvclQGkdcnuvkfk/JZtelmmZ8z/azXAo/QoHQC6MTCYke/M/vIgV2cRrB0BXPNDzCoIOQMWdydaBRzJA+ILbqygu7z9eAWiFaSMCQJ+y93E9QwdA\"},\"shape\":[30],\"dtype\":\"float64\",\"order\":\"little\"}],[\"mean_fp\",{\"type\":\"ndarray\",\"array\":{\"type\":\"bytes\",\"data\":\"j8L1KFwfNEAzMzMzM1MrQB6F61G4XjZAuB6F61EYLkCamZmZmZk3QNajcD0KNzpA61G4HoV7M0B6+dMWGjA0QN7d3d3d3cE/61G4HoVrPkDNzMzMzPRMQG3LMKLoow9ACtejcD06MkCuR+F6FK63PwrXo3A9GkRArkfhehSu5D9jyS+W/OI3QGZmZmZm5kJAcD0K16OQPEAMAiuHFtFAQEjhehSudzRAcD0K16PwLEAVrkfhejQ0QIXrUbgehSZACtejcD36O0DNzMzMzHw9QKO/k9XyJi5AMzMzMzMrK0Bcj8L1KEwzQFK4HoXr8SxA\"},\"shape\":[30],\"dtype\":\"float64\",\"order\":\"little\"}],[\"std_fp\",{\"type\":\"ndarray\",\"array\":{\"type\":\"bytes\",\"data\":\"Q4v3rggN4j9rr/gPzUPTP/ItaKJkl+I/43gPypyv4z+hgYeNM9zlP9zCFPxI9vA/V8SWk6Lh4T+0Eh/WAiYrQNeBb84vm7U/bmszd30A+D8iSFuP7Jb/P/GvKmaWhRFAA4B4hs+y6z83YdMOrE2tP44MWBDIdgBAfqrx2O5M4D/QFRz144Y0QAdNH/p+VhdAQpQHhg41CkDKzo8NAFgyQJLCuV1W0wRAdIUY/hk07j/BJsgMrnz3P7q56TWiU+0/v2OTP/rd/j93p2MmUG4CQJM3CwSwBDFAufz6ZLoT1T9ujdn7rOP5P9Cp2IHUnPM/\"},\"shape\":[30],\"dtype\":\"float64\",\"order\":\"little\"}]]}}},\"view\":{\"type\":\"object\",\"name\":\"CDSView\",\"id\":\"p1541\",\"attributes\":{\"filter\":{\"type\":\"object\",\"name\":\"AllIndices\",\"id\":\"p1542\"}}},\"glyph\":{\"type\":\"object\",\"name\":\"VBar\",\"id\":\"p1537\",\"attributes\":{\"x\":{\"type\":\"field\",\"field\":\"x\"},\"width\":{\"type\":\"value\",\"value\":0.9},\"top\":{\"type\":\"field\",\"field\":\"mean_cpu\"},\"line_color\":{\"type\":\"field\",\"field\":\"mean_fp\",\"transform\":{\"type\":\"object\",\"name\":\"LinearColorMapper\",\"id\":\"p1531\",\"attributes\":{\"palette\":[\"#000003\",\"#000004\",\"#000006\",\"#010007\",\"#010109\",\"#01010B\",\"#02020D\",\"#02020F\",\"#030311\",\"#040313\",\"#040415\",\"#050417\",\"#060519\",\"#07051B\",\"#08061D\",\"#09071F\",\"#0A0722\",\"#0B0824\",\"#0C0926\",\"#0D0A28\",\"#0E0A2A\",\"#0F0B2C\",\"#100C2F\",\"#110C31\",\"#120D33\",\"#140D35\",\"#150E38\",\"#160E3A\",\"#170F3C\",\"#180F3F\",\"#1A1041\",\"#1B1044\",\"#1C1046\",\"#1E1049\",\"#1F114B\",\"#20114D\",\"#221150\",\"#231152\",\"#251155\",\"#261157\",\"#281159\",\"#2A115C\",\"#2B115E\",\"#2D1060\",\"#2F1062\",\"#301065\",\"#321067\",\"#341068\",\"#350F6A\",\"#370F6C\",\"#390F6E\",\"#3B0F6F\",\"#3C0F71\",\"#3E0F72\",\"#400F73\",\"#420F74\",\"#430F75\",\"#450F76\",\"#470F77\",\"#481078\",\"#4A1079\",\"#4B1079\",\"#4D117A\",\"#4F117B\",\"#50127B\",\"#52127C\",\"#53137C\",\"#55137D\",\"#57147D\",\"#58157E\",\"#5A157E\",\"#5B167E\",\"#5D177E\",\"#5E177F\",\"#60187F\",\"#61187F\",\"#63197F\",\"#651A80\",\"#661A80\",\"#681B80\",\"#691C80\",\"#6B1C80\",\"#6C1D80\",\"#6E1E81\",\"#6F1E81\",\"#711F81\",\"#731F81\",\"#742081\",\"#762181\",\"#772181\",\"#792281\",\"#7A2281\",\"#7C2381\",\"#7E2481\",\"#7F2481\",\"#812581\",\"#822581\",\"#842681\",\"#852681\",\"#872781\",\"#892881\",\"#8A2881\",\"#8C2980\",\"#8D2980\",\"#8F2A80\",\"#912A80\",\"#922B80\",\"#942B80\",\"#952C80\",\"#972C7F\",\"#992D7F\",\"#9A2D7F\",\"#9C2E7F\",\"#9E2E7E\",\"#9F2F7E\",\"#A12F7E\",\"#A3307E\",\"#A4307D\",\"#A6317D\",\"#A7317D\",\"#A9327C\",\"#AB337C\",\"#AC337B\",\"#AE347B\",\"#B0347B\",\"#B1357A\",\"#B3357A\",\"#B53679\",\"#B63679\",\"#B83778\",\"#B93778\",\"#BB3877\",\"#BD3977\",\"#BE3976\",\"#C03A75\",\"#C23A75\",\"#C33B74\",\"#C53C74\",\"#C63C73\",\"#C83D72\",\"#CA3E72\",\"#CB3E71\",\"#CD3F70\",\"#CE4070\",\"#D0416F\",\"#D1426E\",\"#D3426D\",\"#D4436D\",\"#D6446C\",\"#D7456B\",\"#D9466A\",\"#DA4769\",\"#DC4869\",\"#DD4968\",\"#DE4A67\",\"#E04B66\",\"#E14C66\",\"#E24D65\",\"#E44E64\",\"#E55063\",\"#E65162\",\"#E75262\",\"#E85461\",\"#EA5560\",\"#EB5660\",\"#EC585F\",\"#ED595F\",\"#EE5B5E\",\"#EE5D5D\",\"#EF5E5D\",\"#F0605D\",\"#F1615C\",\"#F2635C\",\"#F3655C\",\"#F3675B\",\"#F4685B\",\"#F56A5B\",\"#F56C5B\",\"#F66E5B\",\"#F6705B\",\"#F7715B\",\"#F7735C\",\"#F8755C\",\"#F8775C\",\"#F9795C\",\"#F97B5D\",\"#F97D5D\",\"#FA7F5E\",\"#FA805E\",\"#FA825F\",\"#FB8460\",\"#FB8660\",\"#FB8861\",\"#FB8A62\",\"#FC8C63\",\"#FC8E63\",\"#FC9064\",\"#FC9265\",\"#FC9366\",\"#FD9567\",\"#FD9768\",\"#FD9969\",\"#FD9B6A\",\"#FD9D6B\",\"#FD9F6C\",\"#FDA16E\",\"#FDA26F\",\"#FDA470\",\"#FEA671\",\"#FEA873\",\"#FEAA74\",\"#FEAC75\",\"#FEAE76\",\"#FEAF78\",\"#FEB179\",\"#FEB37B\",\"#FEB57C\",\"#FEB77D\",\"#FEB97F\",\"#FEBB80\",\"#FEBC82\",\"#FEBE83\",\"#FEC085\",\"#FEC286\",\"#FEC488\",\"#FEC689\",\"#FEC78B\",\"#FEC98D\",\"#FECB8E\",\"#FDCD90\",\"#FDCF92\",\"#FDD193\",\"#FDD295\",\"#FDD497\",\"#FDD698\",\"#FDD89A\",\"#FDDA9C\",\"#FDDC9D\",\"#FDDD9F\",\"#FDDFA1\",\"#FDE1A3\",\"#FCE3A5\",\"#FCE5A6\",\"#FCE6A8\",\"#FCE8AA\",\"#FCEAAC\",\"#FCECAE\",\"#FCEEB0\",\"#FCF0B1\",\"#FCF1B3\",\"#FCF3B5\",\"#FCF5B7\",\"#FBF7B9\",\"#FBF9BB\",\"#FBFABD\",\"#FBFCBF\"],\"low\":0,\"high\":100}}},\"fill_color\":{\"type\":\"field\",\"field\":\"mean_fp\",\"transform\":{\"id\":\"p1531\"}},\"hatch_color\":{\"type\":\"field\",\"field\":\"mean_fp\",\"transform\":{\"id\":\"p1531\"}}}},\"nonselection_glyph\":{\"type\":\"object\",\"name\":\"VBar\",\"id\":\"p1538\",\"attributes\":{\"x\":{\"type\":\"field\",\"field\":\"x\"},\"width\":{\"type\":\"value\",\"value\":0.9},\"top\":{\"type\":\"field\",\"field\":\"mean_cpu\"},\"line_color\":{\"type\":\"field\",\"field\":\"mean_fp\",\"transform\":{\"id\":\"p1531\"}},\"line_alpha\":{\"type\":\"value\",\"value\":0.1},\"fill_color\":{\"type\":\"field\",\"field\":\"mean_fp\",\"transform\":{\"id\":\"p1531\"}},\"fill_alpha\":{\"type\":\"value\",\"value\":0.1},\"hatch_color\":{\"type\":\"field\",\"field\":\"mean_fp\",\"transform\":{\"id\":\"p1531\"}},\"hatch_alpha\":{\"type\":\"value\",\"value\":0.1}}},\"muted_glyph\":{\"type\":\"object\",\"name\":\"VBar\",\"id\":\"p1539\",\"attributes\":{\"x\":{\"type\":\"field\",\"field\":\"x\"},\"width\":{\"type\":\"value\",\"value\":0.9},\"top\":{\"type\":\"field\",\"field\":\"mean_cpu\"},\"line_color\":{\"type\":\"field\",\"field\":\"mean_fp\",\"transform\":{\"id\":\"p1531\"}},\"line_alpha\":{\"type\":\"value\",\"value\":0.2},\"fill_color\":{\"type\":\"field\",\"field\":\"mean_fp\",\"transform\":{\"id\":\"p1531\"}},\"fill_alpha\":{\"type\":\"value\",\"value\":0.2},\"hatch_color\":{\"type\":\"field\",\"field\":\"mean_fp\",\"transform\":{\"id\":\"p1531\"}},\"hatch_alpha\":{\"type\":\"value\",\"value\":0.2}}}}},{\"type\":\"object\",\"name\":\"GlyphRenderer\",\"id\":\"p1562\",\"attributes\":{\"y_range_name\":\"percentage\",\"data_source\":{\"id\":\"p1480\"},\"view\":{\"type\":\"object\",\"name\":\"CDSView\",\"id\":\"p1563\",\"attributes\":{\"filter\":{\"type\":\"object\",\"name\":\"AllIndices\",\"id\":\"p1564\"}}},\"glyph\":{\"type\":\"object\",\"name\":\"Scatter\",\"id\":\"p1559\",\"attributes\":{\"x\":{\"type\":\"field\",\"field\":\"x\"},\"y\":{\"type\":\"field\",\"field\":\"cumperc_makespan\"},\"size\":{\"type\":\"value\",\"value\":15},\"line_color\":{\"type\":\"value\",\"value\":\"red\"},\"fill_color\":{\"type\":\"value\",\"value\":\"red\"},\"hatch_color\":{\"type\":\"value\",\"value\":\"red\"}}},\"nonselection_glyph\":{\"type\":\"object\",\"name\":\"Scatter\",\"id\":\"p1560\",\"attributes\":{\"x\":{\"type\":\"field\",\"field\":\"x\"},\"y\":{\"type\":\"field\",\"field\":\"cumperc_makespan\"},\"size\":{\"type\":\"value\",\"value\":15},\"line_color\":{\"type\":\"value\",\"value\":\"red\"},\"line_alpha\":{\"type\":\"value\",\"value\":0.1},\"fill_color\":{\"type\":\"value\",\"value\":\"red\"},\"fill_alpha\":{\"type\":\"value\",\"value\":0.1},\"hatch_color\":{\"type\":\"value\",\"value\":\"red\"},\"hatch_alpha\":{\"type\":\"value\",\"value\":0.1}}},\"muted_glyph\":{\"type\":\"object\",\"name\":\"Scatter\",\"id\":\"p1561\",\"attributes\":{\"x\":{\"type\":\"field\",\"field\":\"x\"},\"y\":{\"type\":\"field\",\"field\":\"cumperc_makespan\"},\"size\":{\"type\":\"value\",\"value\":15},\"line_color\":{\"type\":\"value\",\"value\":\"red\"},\"line_alpha\":{\"type\":\"value\",\"value\":0.2},\"fill_color\":{\"type\":\"value\",\"value\":\"red\"},\"fill_alpha\":{\"type\":\"value\",\"value\":0.2},\"hatch_color\":{\"type\":\"value\",\"value\":\"red\"},\"hatch_alpha\":{\"type\":\"value\",\"value\":0.2}}}}}],\"toolbar\":{\"type\":\"object\",\"name\":\"Toolbar\",\"id\":\"p1489\",\"attributes\":{\"tools\":[{\"type\":\"object\",\"name\":\"PanTool\",\"id\":\"p1514\"},{\"type\":\"object\",\"name\":\"WheelZoomTool\",\"id\":\"p1515\"},{\"type\":\"object\",\"name\":\"BoxZoomTool\",\"id\":\"p1516\",\"attributes\":{\"overlay\":{\"type\":\"object\",\"name\":\"BoxAnnotation\",\"id\":\"p1517\",\"attributes\":{\"syncable\":false,\"level\":\"overlay\",\"visible\":false,\"left_units\":\"canvas\",\"right_units\":\"canvas\",\"bottom_units\":\"canvas\",\"top_units\":\"canvas\",\"line_color\":\"black\",\"line_alpha\":1.0,\"line_width\":2,\"line_dash\":[4,4],\"fill_color\":\"lightgrey\",\"fill_alpha\":0.5}}}},{\"type\":\"object\",\"name\":\"SaveTool\",\"id\":\"p1518\"},{\"type\":\"object\",\"name\":\"ResetTool\",\"id\":\"p1519\"},{\"type\":\"object\",\"name\":\"HelpTool\",\"id\":\"p1520\"},{\"type\":\"object\",\"name\":\"HoverTool\",\"id\":\"p1529\",\"attributes\":{\"renderers\":\"auto\",\"tooltips\":[[\"Module\",\"@module\"],[\"Function\",\"@func\"],[\"Makespan contribution\",\"@perc_makespan{1.0}%\"],[\"Makespan contribution (cumulative)\",\"@cumperc_makespan{1.0}%\"],[\"CPU Time (mean \\u00b1 std)\",\"@mean_cpu \\u00b1 @std_cpu\"],[\"% of memory bound (mean \\u00b1 std)\",\"@mean_mem_bound \\u00b1 @std_mem_bound\"],[\"% of FP ops (mean \\u00b1 std)\",\"@mean_fp \\u00b1 @std_fp\"]]}}]}},\"toolbar_location\":null,\"left\":[{\"type\":\"object\",\"name\":\"LinearAxis\",\"id\":\"p1507\",\"attributes\":{\"ticker\":{\"type\":\"object\",\"name\":\"BasicTicker\",\"id\":\"p1510\",\"attributes\":{\"mantissas\":[1,2,5]}},\"formatter\":{\"type\":\"object\",\"name\":\"BasicTickFormatter\",\"id\":\"p1508\"},\"major_label_policy\":{\"type\":\"object\",\"name\":\"AllLabels\",\"id\":\"p1509\"}}},{\"type\":\"object\",\"name\":\"ColorBar\",\"id\":\"p1532\",\"attributes\":{\"location\":[0,0],\"title\":\"% of FP operations\",\"major_label_policy\":{\"type\":\"object\",\"name\":\"NoOverlap\",\"id\":\"p1533\"},\"label_standoff\":14,\"color_mapper\":{\"id\":\"p1531\"}}}],\"right\":[{\"type\":\"object\",\"name\":\"LinearAxis\",\"id\":\"p1552\",\"attributes\":{\"y_range_name\":\"percentage\",\"ticker\":{\"type\":\"object\",\"name\":\"BasicTicker\",\"id\":\"p1555\",\"attributes\":{\"mantissas\":[1,2,5]}},\"formatter\":{\"type\":\"object\",\"name\":\"BasicTickFormatter\",\"id\":\"p1553\"},\"major_label_policy\":{\"type\":\"object\",\"name\":\"AllLabels\",\"id\":\"p1554\"}}}],\"below\":[{\"type\":\"object\",\"name\":\"CategoricalAxis\",\"id\":\"p1501\",\"attributes\":{\"ticker\":{\"type\":\"object\",\"name\":\"CategoricalTicker\",\"id\":\"p1504\"},\"formatter\":{\"type\":\"object\",\"name\":\"CategoricalTickFormatter\",\"id\":\"p1502\"},\"major_label_orientation\":0.39269908169872414,\"major_label_policy\":{\"type\":\"object\",\"name\":\"AllLabels\",\"id\":\"p1503\"},\"separator_line_alpha\":0,\"group_label_orientation\":0.39269908169872414}}],\"center\":[{\"type\":\"object\",\"name\":\"Grid\",\"id\":\"p1506\",\"attributes\":{\"axis\":{\"id\":\"p1501\"},\"grid_line_color\":null}},{\"type\":\"object\",\"name\":\"Grid\",\"id\":\"p1513\",\"attributes\":{\"dimension\":1,\"axis\":{\"id\":\"p1507\"}}},{\"type\":\"object\",\"name\":\"Whisker\",\"id\":\"p1543\",\"attributes\":{\"level\":\"annotation\",\"source\":{\"id\":\"p1480\"},\"lower\":{\"type\":\"field\",\"field\":\"std_lower_cpu\"},\"lower_head\":{\"type\":\"object\",\"name\":\"TeeHead\",\"id\":\"p1547\",\"attributes\":{\"size\":{\"type\":\"value\",\"value\":20}}},\"upper\":{\"type\":\"field\",\"field\":\"std_upper_cpu\"},\"upper_head\":{\"type\":\"object\",\"name\":\"TeeHead\",\"id\":\"p1548\",\"attributes\":{\"size\":{\"type\":\"value\",\"value\":20}}},\"base\":{\"type\":\"field\",\"field\":\"x\"},\"line_width\":{\"type\":\"value\",\"value\":2}}}]}}]}};\n  const render_items = [{\"docid\":\"862064d6-7426-49da-93dd-40bdc871368e\",\"roots\":{\"p1484\":\"87d44fe8-2e2e-45e1-96f8-1d727c92861e\"},\"root_ids\":[\"p1484\"]}];\n  root.Bokeh.embed.embed_items_notebook(docs_json, render_items);\n  }\n  if (root.Bokeh !== undefined) {\n    embed_document(root);\n  } else {\n    let attempts = 0;\n    const timer = setInterval(function(root) {\n      if (root.Bokeh !== undefined) {\n        clearInterval(timer);\n        embed_document(root);\n      } else {\n        attempts++;\n        if (attempts > 100) {\n          clearInterval(timer);\n          console.log(\"Bokeh: ERROR: Unable to run BokehJS code because BokehJS library is missing\");\n        }\n      }\n    }, 10, root)\n  }\n})(window);",
      "application/vnd.bokehjs_exec.v0+json": ""
     },
     "metadata": {
      "application/vnd.bokehjs_exec.v0+json": {
       "id": "p1484"
      }
     },
     "output_type": "display_data"
    }
   ],
   "source": [
    "import pandas as pd\n",
    "from pathlib import Path\n",
    "\n",
    "\n",
    "def read_profiling_data(path: Path, *, delimiter: str =\"\\t\") -> pd.DataFrame:\n",
    "    return pd.concat(\n",
    "        (\n",
    "            pd.read_csv(filename, delimiter=delimiter) \n",
    "            for filename \n",
    "            in path.rglob(\"*.csv\")\n",
    "        ),\n",
    "        ignore_index=True\n",
    "    )\n",
    "\n",
    "profiling_dir = Path(\"/mnt\", \"lustre\", \"mathdugre\", \"mri-bottleneck\", \"vtune_output\")\n",
    "experiments: dict[str, tuple[str]] = {\n",
    "    \"ants\": (\n",
    "        \"brainExtraction\",\n",
    "    ),\n",
    "}\n",
    "\n",
    "for toolkit, pipelines in experiments.items():\n",
    "    for pipeline in pipelines:\n",
    "        profiling_data = read_profiling_data(profiling_dir / toolkit / pipeline)\n",
    "        plot_results(profiling_data)"
   ]
  },
  {
   "cell_type": "code",
   "execution_count": null,
   "metadata": {},
   "outputs": [],
   "source": []
  }
 ],
 "metadata": {
  "kernelspec": {
   "display_name": "neuro-bottleneck",
   "language": "python",
   "name": "python3"
  },
  "language_info": {
   "codemirror_mode": {
    "name": "ipython",
    "version": 3
   },
   "file_extension": ".py",
   "mimetype": "text/x-python",
   "name": "python",
   "nbconvert_exporter": "python",
   "pygments_lexer": "ipython3",
   "version": "3.10.8"
  },
  "orig_nbformat": 4
 },
 "nbformat": 4,
 "nbformat_minor": 2
}
