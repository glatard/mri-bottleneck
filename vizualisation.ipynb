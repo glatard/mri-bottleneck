{
 "cells": [
  {
   "cell_type": "code",
   "execution_count": 62,
   "metadata": {},
   "outputs": [],
   "source": [
    "import re\n",
    "\n",
    "import pandas as pd\n",
    "\n",
    "\n",
    "def data_preparation(df: pd.DataFrame, keep_ratio: float = 0.8) -> pd.DataFrame:\n",
    "    stats = (\n",
    "        df.groupby([\"Module\", \"Function\"])\n",
    "        .agg(\n",
    "            mean_cpu=pd.NamedAgg(column=\"CPU Time\", aggfunc=\"mean\"),\n",
    "            std_cpu=pd.NamedAgg(column=\"CPU Time\", aggfunc=\"std\"),\n",
    "            mean_mem_bound=pd.NamedAgg(column=\"Memory Bound(%)\", aggfunc=\"mean\"),\n",
    "            std_mem_bound=pd.NamedAgg(column=\"Memory Bound(%)\", aggfunc=\"std\"),\n",
    "            mean_fp=pd.NamedAgg(column=\"Vectorization:% of FP Ops(%)\", aggfunc=\"mean\"),\n",
    "            std_fp=pd.NamedAgg(column=\"Vectorization:% of FP Ops(%)\", aggfunc=\"std\"),\n",
    "        )\n",
    "        .sort_values(by=\"mean_cpu\", ascending=False)\n",
    "    )\n",
    "    stats[\"perc_makespan\"] = stats[\"mean_cpu\"] / stats[\"mean_cpu\"].sum() * 100\n",
    "    stats[\"cumperc_makespan\"] = stats[\"perc_makespan\"].cumsum()\n",
    "    hotspots = stats[\n",
    "        stats[\"cumperc_makespan\"] < max(keep_ratio * 100, stats[\"cumperc_makespan\"][0])\n",
    "    ]\n",
    "\n",
    "    # Total CPU Time per module\n",
    "    module_mean_cpu = hotspots.groupby(\"Module\")[\"mean_cpu\"].sum().to_dict()\n",
    "    hotspots = hotspots.reset_index()\n",
    "    hotspots[\"module_cpu\"] = hotspots[\"Module\"].map(module_mean_cpu)\n",
    "\n",
    "    # Clean Function and Module names\n",
    "    def clean_module(module: str) -> str:\n",
    "        if m := re.match(r\"^\\w+\\.so\", module):\n",
    "            return m.group(0)\n",
    "        return module\n",
    "\n",
    "    hotspots[\"clean_func\"] = hotspots[\"Function\"].apply(\n",
    "        lambda x: re.sub(r\"<.*>\", \"\", x)\n",
    "    )\n",
    "    hotspots[\"clean_module\"] = hotspots[\"Module\"].apply(clean_module)\n",
    "\n",
    "    # CPU Time sorted by \"Module CPU Time\" -> \"CPU Time\".\n",
    "    hotspots = hotspots.sort_values(by=[\"module_cpu\", \"mean_cpu\"], ascending=False)\n",
    "    # Reorder the cumulative makespan for plotting.\n",
    "    hotspots[\"cumperc_makespan\"] = hotspots[\"perc_makespan\"].cumsum()\n",
    "    hotspots = hotspots.reset_index()\n",
    "    hotspots.index += 1\n",
    "    return hotspots"
   ]
  },
  {
   "cell_type": "code",
   "execution_count": 63,
   "metadata": {},
   "outputs": [
    {
     "data": {
      "text/html": [
       "<style>\n",
       "        .bk-notebook-logo {\n",
       "            display: block;\n",
       "            width: 20px;\n",
       "            height: 20px;\n",
       "            background-image: url(data:image/png;base64,iVBORw0KGgoAAAANSUhEUgAAABQAAAAUCAYAAACNiR0NAAAABHNCSVQICAgIfAhkiAAAAAlwSFlzAAALEgAACxIB0t1+/AAAABx0RVh0U29mdHdhcmUAQWRvYmUgRmlyZXdvcmtzIENTNui8sowAAAOkSURBVDiNjZRtaJVlGMd/1/08zzln5zjP1LWcU9N0NkN8m2CYjpgQYQXqSs0I84OLIC0hkEKoPtiH3gmKoiJDU7QpLgoLjLIQCpEsNJ1vqUOdO7ppbuec5+V+rj4ctwzd8IIbbi6u+8f1539dt3A78eXC7QizUF7gyV1fD1Yqg4JWz84yffhm0qkFqBogB9rM8tZdtwVsPUhWhGcFJngGeWrPzHm5oaMmkfEg1usvLFyc8jLRqDOMru7AyC8saQr7GG7f5fvDeH7Ej8CM66nIF+8yngt6HWaKh7k49Soy9nXurCi1o3qUbS3zWfrYeQDTB/Qj6kX6Ybhw4B+bOYoLKCC9H3Nu/leUTZ1JdRWkkn2ldcCamzrcf47KKXdAJllSlxAOkRgyHsGC/zRday5Qld9DyoM4/q/rUoy/CXh3jzOu3bHUVZeU+DEn8FInkPBFlu3+nW3Nw0mk6vCDiWg8CeJaxEwuHS3+z5RgY+YBR6V1Z1nxSOfoaPa4LASWxxdNp+VWTk7+4vzaou8v8PN+xo+KY2xsw6une2frhw05CTYOmQvsEhjhWjn0bmXPjpE1+kplmmkP3suftwTubK9Vq22qKmrBhpY4jvd5afdRA3wGjFAgcnTK2s4hY0/GPNIb0nErGMCRxWOOX64Z8RAC4oCXdklmEvcL8o0BfkNK4lUg9HTl+oPlQxdNo3Mg4Nv175e/1LDGzZen30MEjRUtmXSfiTVu1kK8W4txyV6BMKlbgk3lMwYCiusNy9fVfvvwMxv8Ynl6vxoByANLTWplvuj/nF9m2+PDtt1eiHPBr1oIfhCChQMBw6Aw0UulqTKZdfVvfG7VcfIqLG9bcldL/+pdWTLxLUy8Qq38heUIjh4XlzZxzQm19lLFlr8vdQ97rjZVOLf8nclzckbcD4wxXMidpX30sFd37Fv/GtwwhzhxGVAprjbg0gCAEeIgwCZyTV2Z1REEW8O4py0wsjeloKoMr6iCY6dP92H6Vw/oTyICIthibxjm/DfN9lVz8IqtqKYLUXfoKVMVQVVJOElGjrnnUt9T9wbgp8AyYKaGlqingHZU/uG2NTZSVqwHQTWkx9hxjkpWDaCg6Ckj5qebgBVbT3V3NNXMSiWSDdGV3hrtzla7J+duwPOToIg42ChPQOQjspnSlp1V+Gjdged7+8UN5CRAV7a5EdFNwCjEaBR27b3W890TE7g24NAP/mMDXRWrGoFPQI9ls/MWO2dWFAar/xcOIImbbpA3zgAAAABJRU5ErkJggg==);\n",
       "        }\n",
       "    </style>\n",
       "    <div>\n",
       "        <a href=\"https://bokeh.org\" target=\"_blank\" class=\"bk-notebook-logo\"></a>\n",
       "        <span id=\"p28144\">Loading BokehJS ...</span>\n",
       "    </div>\n"
      ]
     },
     "metadata": {},
     "output_type": "display_data"
    },
    {
     "data": {
      "application/javascript": "(function(root) {\n  function now() {\n    return new Date();\n  }\n\n  const force = true;\n\n  if (typeof root._bokeh_onload_callbacks === \"undefined\" || force === true) {\n    root._bokeh_onload_callbacks = [];\n    root._bokeh_is_loading = undefined;\n  }\n\nconst JS_MIME_TYPE = 'application/javascript';\n  const HTML_MIME_TYPE = 'text/html';\n  const EXEC_MIME_TYPE = 'application/vnd.bokehjs_exec.v0+json';\n  const CLASS_NAME = 'output_bokeh rendered_html';\n\n  /**\n   * Render data to the DOM node\n   */\n  function render(props, node) {\n    const script = document.createElement(\"script\");\n    node.appendChild(script);\n  }\n\n  /**\n   * Handle when an output is cleared or removed\n   */\n  function handleClearOutput(event, handle) {\n    const cell = handle.cell;\n\n    const id = cell.output_area._bokeh_element_id;\n    const server_id = cell.output_area._bokeh_server_id;\n    // Clean up Bokeh references\n    if (id != null && id in Bokeh.index) {\n      Bokeh.index[id].model.document.clear();\n      delete Bokeh.index[id];\n    }\n\n    if (server_id !== undefined) {\n      // Clean up Bokeh references\n      const cmd_clean = \"from bokeh.io.state import curstate; print(curstate().uuid_to_server['\" + server_id + \"'].get_sessions()[0].document.roots[0]._id)\";\n      cell.notebook.kernel.execute(cmd_clean, {\n        iopub: {\n          output: function(msg) {\n            const id = msg.content.text.trim();\n            if (id in Bokeh.index) {\n              Bokeh.index[id].model.document.clear();\n              delete Bokeh.index[id];\n            }\n          }\n        }\n      });\n      // Destroy server and session\n      const cmd_destroy = \"import bokeh.io.notebook as ion; ion.destroy_server('\" + server_id + \"')\";\n      cell.notebook.kernel.execute(cmd_destroy);\n    }\n  }\n\n  /**\n   * Handle when a new output is added\n   */\n  function handleAddOutput(event, handle) {\n    const output_area = handle.output_area;\n    const output = handle.output;\n\n    // limit handleAddOutput to display_data with EXEC_MIME_TYPE content only\n    if ((output.output_type != \"display_data\") || (!Object.prototype.hasOwnProperty.call(output.data, EXEC_MIME_TYPE))) {\n      return\n    }\n\n    const toinsert = output_area.element.find(\".\" + CLASS_NAME.split(' ')[0]);\n\n    if (output.metadata[EXEC_MIME_TYPE][\"id\"] !== undefined) {\n      toinsert[toinsert.length - 1].firstChild.textContent = output.data[JS_MIME_TYPE];\n      // store reference to embed id on output_area\n      output_area._bokeh_element_id = output.metadata[EXEC_MIME_TYPE][\"id\"];\n    }\n    if (output.metadata[EXEC_MIME_TYPE][\"server_id\"] !== undefined) {\n      const bk_div = document.createElement(\"div\");\n      bk_div.innerHTML = output.data[HTML_MIME_TYPE];\n      const script_attrs = bk_div.children[0].attributes;\n      for (let i = 0; i < script_attrs.length; i++) {\n        toinsert[toinsert.length - 1].firstChild.setAttribute(script_attrs[i].name, script_attrs[i].value);\n        toinsert[toinsert.length - 1].firstChild.textContent = bk_div.children[0].textContent\n      }\n      // store reference to server id on output_area\n      output_area._bokeh_server_id = output.metadata[EXEC_MIME_TYPE][\"server_id\"];\n    }\n  }\n\n  function register_renderer(events, OutputArea) {\n\n    function append_mime(data, metadata, element) {\n      // create a DOM node to render to\n      const toinsert = this.create_output_subarea(\n        metadata,\n        CLASS_NAME,\n        EXEC_MIME_TYPE\n      );\n      this.keyboard_manager.register_events(toinsert);\n      // Render to node\n      const props = {data: data, metadata: metadata[EXEC_MIME_TYPE]};\n      render(props, toinsert[toinsert.length - 1]);\n      element.append(toinsert);\n      return toinsert\n    }\n\n    /* Handle when an output is cleared or removed */\n    events.on('clear_output.CodeCell', handleClearOutput);\n    events.on('delete.Cell', handleClearOutput);\n\n    /* Handle when a new output is added */\n    events.on('output_added.OutputArea', handleAddOutput);\n\n    /**\n     * Register the mime type and append_mime function with output_area\n     */\n    OutputArea.prototype.register_mime_type(EXEC_MIME_TYPE, append_mime, {\n      /* Is output safe? */\n      safe: true,\n      /* Index of renderer in `output_area.display_order` */\n      index: 0\n    });\n  }\n\n  // register the mime type if in Jupyter Notebook environment and previously unregistered\n  if (root.Jupyter !== undefined) {\n    const events = require('base/js/events');\n    const OutputArea = require('notebook/js/outputarea').OutputArea;\n\n    if (OutputArea.prototype.mime_types().indexOf(EXEC_MIME_TYPE) == -1) {\n      register_renderer(events, OutputArea);\n    }\n  }\n  if (typeof (root._bokeh_timeout) === \"undefined\" || force === true) {\n    root._bokeh_timeout = Date.now() + 5000;\n    root._bokeh_failed_load = false;\n  }\n\n  const NB_LOAD_WARNING = {'data': {'text/html':\n     \"<div style='background-color: #fdd'>\\n\"+\n     \"<p>\\n\"+\n     \"BokehJS does not appear to have successfully loaded. If loading BokehJS from CDN, this \\n\"+\n     \"may be due to a slow or bad network connection. Possible fixes:\\n\"+\n     \"</p>\\n\"+\n     \"<ul>\\n\"+\n     \"<li>re-rerun `output_notebook()` to attempt to load from CDN again, or</li>\\n\"+\n     \"<li>use INLINE resources instead, as so:</li>\\n\"+\n     \"</ul>\\n\"+\n     \"<code>\\n\"+\n     \"from bokeh.resources import INLINE\\n\"+\n     \"output_notebook(resources=INLINE)\\n\"+\n     \"</code>\\n\"+\n     \"</div>\"}};\n\n  function display_loaded() {\n    const el = document.getElementById(\"p28144\");\n    if (el != null) {\n      el.textContent = \"BokehJS is loading...\";\n    }\n    if (root.Bokeh !== undefined) {\n      if (el != null) {\n        el.textContent = \"BokehJS \" + root.Bokeh.version + \" successfully loaded.\";\n      }\n    } else if (Date.now() < root._bokeh_timeout) {\n      setTimeout(display_loaded, 100)\n    }\n  }\n\n  function run_callbacks() {\n    try {\n      root._bokeh_onload_callbacks.forEach(function(callback) {\n        if (callback != null)\n          callback();\n      });\n    } finally {\n      delete root._bokeh_onload_callbacks\n    }\n    console.debug(\"Bokeh: all callbacks have finished\");\n  }\n\n  function load_libs(css_urls, js_urls, callback) {\n    if (css_urls == null) css_urls = [];\n    if (js_urls == null) js_urls = [];\n\n    root._bokeh_onload_callbacks.push(callback);\n    if (root._bokeh_is_loading > 0) {\n      console.debug(\"Bokeh: BokehJS is being loaded, scheduling callback at\", now());\n      return null;\n    }\n    if (js_urls == null || js_urls.length === 0) {\n      run_callbacks();\n      return null;\n    }\n    console.debug(\"Bokeh: BokehJS not loaded, scheduling load and callback at\", now());\n    root._bokeh_is_loading = css_urls.length + js_urls.length;\n\n    function on_load() {\n      root._bokeh_is_loading--;\n      if (root._bokeh_is_loading === 0) {\n        console.debug(\"Bokeh: all BokehJS libraries/stylesheets loaded\");\n        run_callbacks()\n      }\n    }\n\n    function on_error(url) {\n      console.error(\"failed to load \" + url);\n    }\n\n    for (let i = 0; i < css_urls.length; i++) {\n      const url = css_urls[i];\n      const element = document.createElement(\"link\");\n      element.onload = on_load;\n      element.onerror = on_error.bind(null, url);\n      element.rel = \"stylesheet\";\n      element.type = \"text/css\";\n      element.href = url;\n      console.debug(\"Bokeh: injecting link tag for BokehJS stylesheet: \", url);\n      document.body.appendChild(element);\n    }\n\n    for (let i = 0; i < js_urls.length; i++) {\n      const url = js_urls[i];\n      const element = document.createElement('script');\n      element.onload = on_load;\n      element.onerror = on_error.bind(null, url);\n      element.async = false;\n      element.src = url;\n      console.debug(\"Bokeh: injecting script tag for BokehJS library: \", url);\n      document.head.appendChild(element);\n    }\n  };\n\n  function inject_raw_css(css) {\n    const element = document.createElement(\"style\");\n    element.appendChild(document.createTextNode(css));\n    document.body.appendChild(element);\n  }\n\n  const js_urls = [\"https://cdn.bokeh.org/bokeh/release/bokeh-3.0.3.min.js\", \"https://cdn.bokeh.org/bokeh/release/bokeh-gl-3.0.3.min.js\", \"https://cdn.bokeh.org/bokeh/release/bokeh-widgets-3.0.3.min.js\", \"https://cdn.bokeh.org/bokeh/release/bokeh-tables-3.0.3.min.js\", \"https://cdn.bokeh.org/bokeh/release/bokeh-mathjax-3.0.3.min.js\"];\n  const css_urls = [];\n\n  const inline_js = [    function(Bokeh) {\n      Bokeh.set_log_level(\"info\");\n    },\nfunction(Bokeh) {\n    }\n  ];\n\n  function run_inline_js() {\n    if (root.Bokeh !== undefined || force === true) {\n          for (let i = 0; i < inline_js.length; i++) {\n      inline_js[i].call(root, root.Bokeh);\n    }\nif (force === true) {\n        display_loaded();\n      }} else if (Date.now() < root._bokeh_timeout) {\n      setTimeout(run_inline_js, 100);\n    } else if (!root._bokeh_failed_load) {\n      console.log(\"Bokeh: BokehJS failed to load within specified timeout.\");\n      root._bokeh_failed_load = true;\n    } else if (force !== true) {\n      const cell = $(document.getElementById(\"p28144\")).parents('.cell').data().cell;\n      cell.output_area.append_execute_result(NB_LOAD_WARNING)\n    }\n  }\n\n  if (root._bokeh_is_loading === 0) {\n    console.debug(\"Bokeh: BokehJS loaded, going straight to plotting\");\n    run_inline_js();\n  } else {\n    load_libs(css_urls, js_urls, function() {\n      console.debug(\"Bokeh: BokehJS plotting callback run at\", now());\n      run_inline_js();\n    });\n  }\n}(window));",
      "application/vnd.bokehjs_load.v0+json": ""
     },
     "metadata": {},
     "output_type": "display_data"
    }
   ],
   "source": [
    "import math\n",
    "\n",
    "from bokeh.io import output_notebook\n",
    "from bokeh.models import (\n",
    "    ColorBar,\n",
    "    ColumnDataSource,\n",
    "    FactorRange,\n",
    "    HoverTool,\n",
    "    LinearAxis,\n",
    "    LinearColorMapper,\n",
    "    Range1d,\n",
    "    Whisker,\n",
    ")\n",
    "from bokeh.plotting import figure, show\n",
    "from bokeh.transform import transform\n",
    "\n",
    "\n",
    "output_notebook()\n",
    "\n",
    "\n",
    "def plot_hotspots(\n",
    "    data: pd.DataFrame,\n",
    "    *,\n",
    "    y_limit: float | None = None,\n",
    "    colorbar_color: str = \"Plasma256\",\n",
    "    colorbar_on: str,\n",
    "    colorbar_title: str,\n",
    "    pipeline: str,\n",
    "):\n",
    "    xs = [(module, str(i)) for i, module in enumerate(data[\"clean_module\"], start=1)]\n",
    "    source = ColumnDataSource(\n",
    "        data=dict(\n",
    "            x=xs,\n",
    "            module=data[\"clean_module\"].values,\n",
    "            func=data[\"clean_func\"].values,\n",
    "            perc_makespan=data[\"perc_makespan\"].values,\n",
    "            cumperc_makespan=data[\"cumperc_makespan\"].values,\n",
    "            mean_cpu=data[\"mean_cpu\"].values,\n",
    "            std_cpu=data[\"std_cpu\"].values,\n",
    "            std_lower_cpu=data[\"mean_cpu\"].values - data[\"std_cpu\"].values,\n",
    "            std_upper_cpu=data[\"mean_cpu\"].values + data[\"std_cpu\"].values,\n",
    "            mean_mem_bound=data[\"mean_mem_bound\"].values,\n",
    "            std_mem_bound=data[\"std_mem_bound\"].values,\n",
    "            mean_fp=data[\"mean_fp\"].values,\n",
    "            std_fp=data[\"std_fp\"].values,\n",
    "        )\n",
    "    )\n",
    "\n",
    "    p = figure(\n",
    "        x_range=FactorRange(*xs),\n",
    "        title=f\"Avg. CPU Time: {pipeline}\",\n",
    "        width=1200,\n",
    "        toolbar_location=None,\n",
    "    )\n",
    "\n",
    "    # Tools\n",
    "    hover = HoverTool()\n",
    "    hover.tooltips = [\n",
    "        (\"Module\", \"@module\"),\n",
    "        (\"Function\", \"@func\"),\n",
    "        (\"Makespan contribution\", \"@perc_makespan{1.1}%\"),\n",
    "        (\"Makespan contribution (cumulative)\", \"@cumperc_makespan{1.1}%\"),\n",
    "        (\"CPU Time (mean ± std)\", \"@mean_cpu{1.11} ± @std_cpu{1.11}\"),\n",
    "        (\n",
    "            \"% of memory bound (mean ± std)\",\n",
    "            \"@mean_mem_bound{1.11} ± @std_mem_bound{1.11}\",\n",
    "        ),\n",
    "        (\"% of FP ops (mean ± std)\", \"@mean_fp{1.11} ± @std_fp{1.11}\"),\n",
    "    ]\n",
    "    p.tools.append(hover)\n",
    "\n",
    "    # Mean\n",
    "    color_mapper = LinearColorMapper(palette=colorbar_color, low=0, high=100)\n",
    "    color_bar = ColorBar(\n",
    "        color_mapper=color_mapper,\n",
    "        label_standoff=14,\n",
    "        location=(0, 0),\n",
    "        title=colorbar_title,\n",
    "    )\n",
    "    p.add_layout(color_bar, \"left\")\n",
    "    p.vbar(\n",
    "        x=\"x\",\n",
    "        top=\"mean_cpu\",\n",
    "        width=0.9,\n",
    "        source=source,\n",
    "        color=transform(colorbar_on, color_mapper),\n",
    "    )\n",
    "    # Error\n",
    "    error = Whisker(\n",
    "        base=\"x\",\n",
    "        upper=\"std_upper_cpu\",\n",
    "        lower=\"std_lower_cpu\",\n",
    "        source=source,\n",
    "        level=\"annotation\",\n",
    "        line_width=2,\n",
    "    )\n",
    "    error.upper_head.size = 20\n",
    "    error.lower_head.size = 20\n",
    "    p.add_layout(error)\n",
    "\n",
    "    # Cumulative makespan\n",
    "    p.extra_y_ranges = {\"percentage\": Range1d(start=0, end=100)}\n",
    "    p.add_layout(LinearAxis(y_range_name=\"percentage\"), \"right\")\n",
    "    p.scatter(\n",
    "        x=\"x\",\n",
    "        y=\"cumperc_makespan\",\n",
    "        source=source,\n",
    "        y_range_name=\"percentage\",\n",
    "        color=\"lightgreen\",\n",
    "        size=15,\n",
    "    )\n",
    "\n",
    "    # Style\n",
    "    if not y_limit:\n",
    "        y_limit = 1.05 * (data[\"mean_cpu\"].values + data[\"std_cpu\"].values).max()\n",
    "    p.y_range.end = y_limit\n",
    "    # p.y_range = Range1d(start=0, end=y_limit)\n",
    "    p.x_range.range_padding = 0.1\n",
    "    p.xaxis.major_label_orientation = math.pi / 8\n",
    "    p.xaxis.group_label_orientation = math.pi / 8\n",
    "    p.xaxis.separator_line_alpha = 0\n",
    "    p.xgrid.grid_line_color = None\n",
    "\n",
    "    return show(p)"
   ]
  },
  {
   "cell_type": "code",
   "execution_count": 69,
   "metadata": {},
   "outputs": [],
   "source": [
    "from pathlib import Path\n",
    "\n",
    "from bokeh.palettes import Colorblind8\n",
    "from bokeh.transform import factor_cmap\n",
    "\n",
    "\n",
    "def plot_makespan(path: Path, *, nthreads: int = 1):\n",
    "    # Data preparation\n",
    "    data = pd.concat(\n",
    "        (\n",
    "            pd.read_csv(filename, delimiter=\"\\t\").assign(\n",
    "                filename=filename.stem,\n",
    "                pipeline=\"/\".join(filename.relative_to(path).parts[:2]),\n",
    "            )\n",
    "            for filename in path.rglob(\"*.csv\")\n",
    "        ),\n",
    "        ignore_index=True,\n",
    "    )\n",
    "\n",
    "    group = (\n",
    "        data.groupby([\"pipeline\", \"filename\"])[\"CPU Time\"]\n",
    "        .sum()\n",
    "        .divide(nthreads)\n",
    "        .groupby(\"pipeline\")\n",
    "        .agg([\"mean\", \"std\"])\n",
    "    )\n",
    "\n",
    "    source = ColumnDataSource(\n",
    "        data=dict(\n",
    "            pipeline=group.index.values,\n",
    "            mean=group[\"mean\"].values,\n",
    "            std=group[\"std\"].values,\n",
    "            std_lower=group[\"mean\"].values - group[\"std\"].values,\n",
    "            std_upper=group[\"mean\"].values + group[\"std\"].values,\n",
    "        )\n",
    "    )\n",
    "\n",
    "    # Plotting\n",
    "    cmap = factor_cmap(\n",
    "        \"pipeline\", palette=Colorblind8, factors=sorted(data[\"pipeline\"].unique())\n",
    "    )\n",
    "    p = figure(\n",
    "        x_range=group.index.values,\n",
    "        title=f\"Average Makespan\",\n",
    "        width=1200,\n",
    "        toolbar_location=None,\n",
    "        y_axis_label=\"Makespan (seconds)\"\n",
    "    )\n",
    "\n",
    "    p.vbar(\n",
    "        x=\"pipeline\",\n",
    "        top=\"mean\",\n",
    "        width=0.9,\n",
    "        source=source,\n",
    "        line_color=cmap,\n",
    "        fill_color=cmap,\n",
    "    )\n",
    "    # Error\n",
    "    error = Whisker(\n",
    "        base=\"pipeline\",\n",
    "        upper=\"std_upper\",\n",
    "        lower=\"std_lower\",\n",
    "        source=source,\n",
    "        level=\"annotation\",\n",
    "        line_width=2,\n",
    "    )\n",
    "    error.upper_head.size = 20\n",
    "    error.lower_head.size = 20\n",
    "    p.add_layout(error)\n",
    "\n",
    "    # Tools\n",
    "    hover = HoverTool()\n",
    "    hover.tooltips = [\n",
    "        (\"Pipeline\", \"@pipeline\"),\n",
    "        (\"Makespan (mean ± std)\", \"@mean{1.11} ± @std{1.11}\"),\n",
    "    ]\n",
    "    p.tools.append(hover)\n",
    "\n",
    "    # Appearance\n",
    "    p.y_range.end = 1.05 * (group[\"mean\"].values + group[\"std\"].values).max()\n",
    "    p.y_range.start = 0\n",
    "    p.xgrid.grid_line_color = None\n",
    "    p.outline_line_color = None\n",
    "\n",
    "\n",
    "    return show(p)"
   ]
  },
  {
   "cell_type": "code",
   "execution_count": 70,
   "metadata": {},
   "outputs": [],
   "source": [
    "def read_profiling_data(path: Path, *, delimiter: str = \"\\t\") -> pd.DataFrame:\n",
    "    return pd.concat(\n",
    "        (\n",
    "            pd.read_csv(filename, delimiter=delimiter)\n",
    "            for filename in path.rglob(\"*.csv\")\n",
    "        ),\n",
    "        ignore_index=True,\n",
    "    )"
   ]
  },
  {
   "attachments": {},
   "cell_type": "markdown",
   "metadata": {},
   "source": [
    "# Single-threaded"
   ]
  },
  {
   "cell_type": "code",
   "execution_count": 71,
   "metadata": {},
   "outputs": [
    {
     "data": {
      "text/html": [
       "\n",
       "  <div id=\"5e18d598-f992-4d28-9aeb-6f486bb3c4be\" data-root-id=\"p34992\" style=\"display: contents;\"></div>\n"
      ]
     },
     "metadata": {},
     "output_type": "display_data"
    },
    {
     "data": {
      "application/javascript": "(function(root) {\n  function embed_document(root) {\n  const docs_json = {\"284a5fc6-2a53-4951-9d20-88e205b7c8f3\":{\"version\":\"3.0.3\",\"title\":\"Bokeh Application\",\"defs\":[],\"roots\":[{\"type\":\"object\",\"name\":\"Figure\",\"id\":\"p34992\",\"attributes\":{\"width\":1200,\"x_range\":{\"type\":\"object\",\"name\":\"FactorRange\",\"id\":\"p35002\",\"attributes\":{\"factors\":[\"ants/brainExtraction\",\"ants/brainExtraction-fp\",\"ants/registrationSyN\",\"ants/registrationSyN-fp\",\"fsl/fast\"]}},\"y_range\":{\"type\":\"object\",\"name\":\"DataRange1d\",\"id\":\"p34994\",\"attributes\":{\"start\":0,\"end\":10199.88161738951}},\"x_scale\":{\"type\":\"object\",\"name\":\"CategoricalScale\",\"id\":\"p35006\"},\"y_scale\":{\"type\":\"object\",\"name\":\"LinearScale\",\"id\":\"p35008\"},\"title\":{\"type\":\"object\",\"name\":\"Title\",\"id\":\"p34995\",\"attributes\":{\"text\":\"Average Makespan\"}},\"outline_line_color\":null,\"renderers\":[{\"type\":\"object\",\"name\":\"GlyphRenderer\",\"id\":\"p35044\",\"attributes\":{\"data_source\":{\"type\":\"object\",\"name\":\"ColumnDataSource\",\"id\":\"p34988\",\"attributes\":{\"selected\":{\"type\":\"object\",\"name\":\"Selection\",\"id\":\"p34989\",\"attributes\":{\"indices\":[],\"line_indices\":[]}},\"selection_policy\":{\"type\":\"object\",\"name\":\"UnionRenderers\",\"id\":\"p34990\"},\"data\":{\"type\":\"map\",\"entries\":[[\"pipeline\",{\"type\":\"ndarray\",\"array\":[\"ants/brainExtraction\",\"ants/brainExtraction-fp\",\"ants/registrationSyN\",\"ants/registrationSyN-fp\",\"fsl/fast\"],\"shape\":[5],\"dtype\":\"object\",\"order\":\"little\"}],[\"mean\",{\"type\":\"ndarray\",\"array\":{\"type\":\"bytes\",\"data\":\"X2XIDFWasUDI1LgSm9izQAY7GT4GycFAy4xtCNFowkAOzMC3L5tiQA==\"},\"shape\":[5],\"dtype\":\"float64\",\"order\":\"little\"}],[\"std\",{\"type\":\"ndarray\",\"array\":{\"type\":\"bytes\",\"data\":\"7DxrWtQ5b0B7KjA4Mf1uQPTF9lv+AINAygE9MrKMcUBXuvCKMeQWQA==\"},\"shape\":[5],\"dtype\":\"float64\",\"order\":\"little\"}],[\"std_lower\",{\"type\":\"ndarray\",\"array\":{\"type\":\"bytes\",\"data\":\"eAv1aYagsEB0U/eIseCyQKfOWVj2mMBAvaTbdmvcwUA7RmkrDuRhQA==\"},\"shape\":[5],\"dtype\":\"float64\",\"order\":\"little\"}],[\"std_upper\",{\"type\":\"ndarray\",\"array\":{\"type\":\"bytes\",\"data\":\"Rr+bryOUskAcVnqchNC0QGWn2CMW+cJA2XT/mTb1wkDhURhEUVJjQA==\"},\"shape\":[5],\"dtype\":\"float64\",\"order\":\"little\"}]]}}},\"view\":{\"type\":\"object\",\"name\":\"CDSView\",\"id\":\"p35045\",\"attributes\":{\"filter\":{\"type\":\"object\",\"name\":\"AllIndices\",\"id\":\"p35046\"}}},\"glyph\":{\"type\":\"object\",\"name\":\"VBar\",\"id\":\"p35041\",\"attributes\":{\"x\":{\"type\":\"field\",\"field\":\"pipeline\"},\"width\":{\"type\":\"value\",\"value\":0.9},\"top\":{\"type\":\"field\",\"field\":\"mean\"},\"line_color\":{\"type\":\"field\",\"field\":\"pipeline\",\"transform\":{\"type\":\"object\",\"name\":\"CategoricalColorMapper\",\"id\":\"p34991\",\"attributes\":{\"palette\":[\"#0072B2\",\"#E69F00\",\"#F0E442\",\"#009E73\",\"#56B4E9\",\"#D55E00\",\"#CC79A7\",\"#000000\"],\"factors\":[\"ants/brainExtraction\",\"ants/brainExtraction-fp\",\"ants/registrationSyN\",\"ants/registrationSyN-fp\",\"fsl/fast\"]}}},\"fill_color\":{\"type\":\"field\",\"field\":\"pipeline\",\"transform\":{\"id\":\"p34991\"}}}},\"nonselection_glyph\":{\"type\":\"object\",\"name\":\"VBar\",\"id\":\"p35042\",\"attributes\":{\"x\":{\"type\":\"field\",\"field\":\"pipeline\"},\"width\":{\"type\":\"value\",\"value\":0.9},\"top\":{\"type\":\"field\",\"field\":\"mean\"},\"line_color\":{\"type\":\"field\",\"field\":\"pipeline\",\"transform\":{\"id\":\"p34991\"}},\"line_alpha\":{\"type\":\"value\",\"value\":0.1},\"fill_color\":{\"type\":\"field\",\"field\":\"pipeline\",\"transform\":{\"id\":\"p34991\"}},\"fill_alpha\":{\"type\":\"value\",\"value\":0.1},\"hatch_alpha\":{\"type\":\"value\",\"value\":0.1}}},\"muted_glyph\":{\"type\":\"object\",\"name\":\"VBar\",\"id\":\"p35043\",\"attributes\":{\"x\":{\"type\":\"field\",\"field\":\"pipeline\"},\"width\":{\"type\":\"value\",\"value\":0.9},\"top\":{\"type\":\"field\",\"field\":\"mean\"},\"line_color\":{\"type\":\"field\",\"field\":\"pipeline\",\"transform\":{\"id\":\"p34991\"}},\"line_alpha\":{\"type\":\"value\",\"value\":0.2},\"fill_color\":{\"type\":\"field\",\"field\":\"pipeline\",\"transform\":{\"id\":\"p34991\"}},\"fill_alpha\":{\"type\":\"value\",\"value\":0.2},\"hatch_alpha\":{\"type\":\"value\",\"value\":0.2}}}}}],\"toolbar\":{\"type\":\"object\",\"name\":\"Toolbar\",\"id\":\"p35001\",\"attributes\":{\"tools\":[{\"type\":\"object\",\"name\":\"PanTool\",\"id\":\"p35023\"},{\"type\":\"object\",\"name\":\"WheelZoomTool\",\"id\":\"p35024\"},{\"type\":\"object\",\"name\":\"BoxZoomTool\",\"id\":\"p35025\",\"attributes\":{\"overlay\":{\"type\":\"object\",\"name\":\"BoxAnnotation\",\"id\":\"p35026\",\"attributes\":{\"syncable\":false,\"level\":\"overlay\",\"visible\":false,\"left_units\":\"canvas\",\"right_units\":\"canvas\",\"bottom_units\":\"canvas\",\"top_units\":\"canvas\",\"line_color\":\"black\",\"line_alpha\":1.0,\"line_width\":2,\"line_dash\":[4,4],\"fill_color\":\"lightgrey\",\"fill_alpha\":0.5}}}},{\"type\":\"object\",\"name\":\"SaveTool\",\"id\":\"p35027\"},{\"type\":\"object\",\"name\":\"ResetTool\",\"id\":\"p35028\"},{\"type\":\"object\",\"name\":\"HelpTool\",\"id\":\"p35029\"},{\"type\":\"object\",\"name\":\"HoverTool\",\"id\":\"p35055\",\"attributes\":{\"renderers\":\"auto\",\"tooltips\":[[\"Pipeline\",\"@pipeline\"],[\"Makespan (mean \\u00b1 std)\",\"@mean{1.11} \\u00b1 @std{1.11}\"]]}}]}},\"toolbar_location\":null,\"left\":[{\"type\":\"object\",\"name\":\"LinearAxis\",\"id\":\"p35016\",\"attributes\":{\"ticker\":{\"type\":\"object\",\"name\":\"BasicTicker\",\"id\":\"p35017\",\"attributes\":{\"mantissas\":[1,2,5]}},\"formatter\":{\"type\":\"object\",\"name\":\"BasicTickFormatter\",\"id\":\"p35018\"},\"axis_label\":\"Makespan (seconds)\",\"major_label_policy\":{\"type\":\"object\",\"name\":\"AllLabels\",\"id\":\"p35019\"}}}],\"below\":[{\"type\":\"object\",\"name\":\"CategoricalAxis\",\"id\":\"p35010\",\"attributes\":{\"ticker\":{\"type\":\"object\",\"name\":\"CategoricalTicker\",\"id\":\"p35011\"},\"formatter\":{\"type\":\"object\",\"name\":\"CategoricalTickFormatter\",\"id\":\"p35012\"},\"major_label_policy\":{\"type\":\"object\",\"name\":\"AllLabels\",\"id\":\"p35013\"}}}],\"center\":[{\"type\":\"object\",\"name\":\"Grid\",\"id\":\"p35015\",\"attributes\":{\"axis\":{\"id\":\"p35010\"},\"grid_line_color\":null}},{\"type\":\"object\",\"name\":\"Grid\",\"id\":\"p35022\",\"attributes\":{\"dimension\":1,\"axis\":{\"id\":\"p35016\"}}},{\"type\":\"object\",\"name\":\"Whisker\",\"id\":\"p35047\",\"attributes\":{\"level\":\"annotation\",\"source\":{\"id\":\"p34988\"},\"lower\":{\"type\":\"field\",\"field\":\"std_lower\"},\"lower_head\":{\"type\":\"object\",\"name\":\"TeeHead\",\"id\":\"p35052\",\"attributes\":{\"size\":{\"type\":\"value\",\"value\":20}}},\"upper\":{\"type\":\"field\",\"field\":\"std_upper\"},\"upper_head\":{\"type\":\"object\",\"name\":\"TeeHead\",\"id\":\"p35051\",\"attributes\":{\"size\":{\"type\":\"value\",\"value\":20}}},\"base\":{\"type\":\"field\",\"field\":\"pipeline\"},\"line_width\":{\"type\":\"value\",\"value\":2}}}]}}]}};\n  const render_items = [{\"docid\":\"284a5fc6-2a53-4951-9d20-88e205b7c8f3\",\"roots\":{\"p34992\":\"5e18d598-f992-4d28-9aeb-6f486bb3c4be\"},\"root_ids\":[\"p34992\"]}];\n  root.Bokeh.embed.embed_items_notebook(docs_json, render_items);\n  }\n  if (root.Bokeh !== undefined) {\n    embed_document(root);\n  } else {\n    let attempts = 0;\n    const timer = setInterval(function(root) {\n      if (root.Bokeh !== undefined) {\n        clearInterval(timer);\n        embed_document(root);\n      } else {\n        attempts++;\n        if (attempts > 100) {\n          clearInterval(timer);\n          console.log(\"Bokeh: ERROR: Unable to run BokehJS code because BokehJS library is missing\");\n        }\n      }\n    }, 10, root)\n  }\n})(window);",
      "application/vnd.bokehjs_exec.v0+json": ""
     },
     "metadata": {
      "application/vnd.bokehjs_exec.v0+json": {
       "id": "p34992"
      }
     },
     "output_type": "display_data"
    }
   ],
   "source": [
    "profiling_dir = Path(\n",
    "    \"/\", \"mnt\", \"lustre\", \"mathdugre\", \"mri-bottleneck\", \"vtune_output\", \"1-threads\"\n",
    ")\n",
    "\n",
    "plot_makespan(profiling_dir)"
   ]
  },
  {
   "cell_type": "code",
   "execution_count": 72,
   "metadata": {},
   "outputs": [
    {
     "data": {
      "text/html": [
       "\n",
       "  <div id=\"04d1cea2-5f7d-4397-bca9-fb6a076b45b8\" data-root-id=\"p36155\" style=\"display: contents;\"></div>\n"
      ]
     },
     "metadata": {},
     "output_type": "display_data"
    },
    {
     "data": {
      "application/javascript": "(function(root) {\n  function embed_document(root) {\n  const docs_json = {\"0c13dbd1-85df-45b5-812f-527d1abbf45b\":{\"version\":\"3.0.3\",\"title\":\"Bokeh Application\",\"defs\":[],\"roots\":[{\"type\":\"object\",\"name\":\"Figure\",\"id\":\"p36155\",\"attributes\":{\"width\":1200,\"x_range\":{\"type\":\"object\",\"name\":\"FactorRange\",\"id\":\"p36154\",\"attributes\":{\"factors\":[[\"libantsUtilities.so\",\"1\"],[\"libantsUtilities.so\",\"2\"],[\"libantsUtilities.so\",\"3\"],[\"libantsUtilities.so\",\"4\"],[\"libantsUtilities.so\",\"5\"],[\"libantsUtilities.so\",\"6\"],[\"libantsUtilities.so\",\"7\"],[\"libantsUtilities.so\",\"8\"],[\"libantsUtilities.so\",\"9\"],[\"libantsUtilities.so\",\"10\"],[\"libantsUtilities.so\",\"11\"],[\"libantsUtilities.so\",\"12\"],[\"libantsUtilities.so\",\"13\"],[\"libantsUtilities.so\",\"14\"],[\"libantsUtilities.so\",\"15\"],[\"libantsUtilities.so\",\"16\"],[\"libantsUtilities.so\",\"17\"],[\"libantsUtilities.so\",\"18\"],[\"libantsUtilities.so\",\"19\"],[\"libantsUtilities.so\",\"20\"],[\"libantsUtilities.so\",\"21\"],[\"libantsUtilities.so\",\"22\"],[\"libantsUtilities.so\",\"23\"],[\"libantsUtilities.so\",\"24\"],[\"libantsUtilities.so\",\"25\"],[\"libantsUtilities.so\",\"26\"],[\"libantsUtilities.so\",\"27\"],[\"libl_N4BiasFieldCorrection.so\",\"28\"],[\"libl_antsAI.so\",\"29\"],[\"libl_antsAI.so\",\"30\"]],\"range_padding\":0.1}},\"y_range\":{\"type\":\"object\",\"name\":\"DataRange1d\",\"id\":\"p36157\",\"attributes\":{\"end\":700}},\"x_scale\":{\"type\":\"object\",\"name\":\"CategoricalScale\",\"id\":\"p36168\"},\"y_scale\":{\"type\":\"object\",\"name\":\"LinearScale\",\"id\":\"p36170\"},\"extra_y_ranges\":{\"type\":\"map\",\"entries\":[[\"percentage\",{\"type\":\"object\",\"name\":\"Range1d\",\"id\":\"p36222\",\"attributes\":{\"end\":100}}]]},\"title\":{\"type\":\"object\",\"name\":\"Title\",\"id\":\"p36158\",\"attributes\":{\"text\":\"Avg. CPU Time: ants.brainExtraction\"}},\"renderers\":[{\"type\":\"object\",\"name\":\"GlyphRenderer\",\"id\":\"p36211\",\"attributes\":{\"data_source\":{\"type\":\"object\",\"name\":\"ColumnDataSource\",\"id\":\"p36151\",\"attributes\":{\"selected\":{\"type\":\"object\",\"name\":\"Selection\",\"id\":\"p36152\",\"attributes\":{\"indices\":[],\"line_indices\":[]}},\"selection_policy\":{\"type\":\"object\",\"name\":\"UnionRenderers\",\"id\":\"p36153\"},\"data\":{\"type\":\"map\",\"entries\":[[\"x\",[[\"libantsUtilities.so\",\"1\"],[\"libantsUtilities.so\",\"2\"],[\"libantsUtilities.so\",\"3\"],[\"libantsUtilities.so\",\"4\"],[\"libantsUtilities.so\",\"5\"],[\"libantsUtilities.so\",\"6\"],[\"libantsUtilities.so\",\"7\"],[\"libantsUtilities.so\",\"8\"],[\"libantsUtilities.so\",\"9\"],[\"libantsUtilities.so\",\"10\"],[\"libantsUtilities.so\",\"11\"],[\"libantsUtilities.so\",\"12\"],[\"libantsUtilities.so\",\"13\"],[\"libantsUtilities.so\",\"14\"],[\"libantsUtilities.so\",\"15\"],[\"libantsUtilities.so\",\"16\"],[\"libantsUtilities.so\",\"17\"],[\"libantsUtilities.so\",\"18\"],[\"libantsUtilities.so\",\"19\"],[\"libantsUtilities.so\",\"20\"],[\"libantsUtilities.so\",\"21\"],[\"libantsUtilities.so\",\"22\"],[\"libantsUtilities.so\",\"23\"],[\"libantsUtilities.so\",\"24\"],[\"libantsUtilities.so\",\"25\"],[\"libantsUtilities.so\",\"26\"],[\"libantsUtilities.so\",\"27\"],[\"libl_N4BiasFieldCorrection.so\",\"28\"],[\"libl_antsAI.so\",\"29\"],[\"libl_antsAI.so\",\"30\"]]],[\"module\",{\"type\":\"ndarray\",\"array\":[\"libantsUtilities.so\",\"libantsUtilities.so\",\"libantsUtilities.so\",\"libantsUtilities.so\",\"libantsUtilities.so\",\"libantsUtilities.so\",\"libantsUtilities.so\",\"libantsUtilities.so\",\"libantsUtilities.so\",\"libantsUtilities.so\",\"libantsUtilities.so\",\"libantsUtilities.so\",\"libantsUtilities.so\",\"libantsUtilities.so\",\"libantsUtilities.so\",\"libantsUtilities.so\",\"libantsUtilities.so\",\"libantsUtilities.so\",\"libantsUtilities.so\",\"libantsUtilities.so\",\"libantsUtilities.so\",\"libantsUtilities.so\",\"libantsUtilities.so\",\"libantsUtilities.so\",\"libantsUtilities.so\",\"libantsUtilities.so\",\"libantsUtilities.so\",\"libl_N4BiasFieldCorrection.so\",\"libl_antsAI.so\",\"libl_antsAI.so\"],\"shape\":[30],\"dtype\":\"object\",\"order\":\"little\"}],[\"func\",{\"type\":\"ndarray\",\"array\":[\"itk::LinearInterpolateImageFunction::EvaluateOptimized\",\"itk::VectorLinearInterpolateImageFunction::EvaluateAtContinuousIndex\",\"itk::DisplacementFieldTransform::TransformPoint\",\"itk::MattesMutualInformationImageToImageMetricv4GetValueAndDerivativeThreader::ProcessPoint\",\"itk::CompositeTransform::TransformPoint\",\"itk::ImageToImageMetricv4::TransformAndEvaluateFixedPoint\",\"itk::CompositeTransform::ComputeJacobianWithRespectToParametersCachedTemporaries\",\"itk::Image::GetPixel\",\"itk::ImageBase\",\"itk::ImageToImageMetricv4::TransformAndEvaluateMovingPoint\",\"itk::LinearInterpolateImageFunction::EvaluateAtContinuousIndex\",\"itk::Matrix::operator*\",\"itk::ANTSNeighborhoodCorrelationImageToImageMetricv4GetValueAndDerivativeThreader::UpdateQueuesToNextScanWindow\",\"itk::ConstNeighborhoodIterator::operator++\",\"itk::ImageToImageMetricv4GetValueAndDerivativeThreaderBase::ProcessVirtualPoint\",\"itk::ConstNeighborhoodIterator::IndexInBounds\",\"itk::ImageFunction::IsInsideBuffer\",\"itk::InterpolateImageFunction::Evaluate\",\"itk::PointSet::GetPoint\",\"itk::ImageFunction::IsInsideBuffer\",\"itk::Point::operator+\",\"itk::BSplineKernelFunction::Evaluate\",\"itk::ObjectToObjectMetric::TransformVirtualIndexToPhysicalPoint\",\"itk::MattesMutualInformationImageToImageMetricv4::DerivativeBufferManager::ReduceBuffer\",\"itk::MatrixOffsetTransformBase::TransformPoint\",\"itk::CentralDifferenceImageFunction\",\"itk::Math::Detail::Floor_64\",\"itk::BSplineScatteredDataPointSetToImageFilter::ThreadedGenerateDataForFitting\",\"itk::LinearInterpolateImageFunction::EvaluateOptimized\",\"itk::MattesMutualInformationImageToImageMetricv4GetValueAndDerivativeThreader::ProcessPoint\"],\"shape\":[30],\"dtype\":\"object\",\"order\":\"little\"}],[\"perc_makespan\",{\"type\":\"ndarray\",\"array\":{\"type\":\"bytes\",\"data\":\"KHIicIxmNEAfMTeCmgorQEvWZKmiYxJAAddJXEZWDkBb4FDxsoMNQJnxsyvDtgdAjJxvbfJCBkBv01Ub8WwAQLzfvkMBSABAncrNYo+9/z9ZxOWU7x3/P9wg0zOv2fo/HvzvWLiU+j97IkOeTG31P99IK330zfI/Y5MYMpSB8T9yh4wiHFLxP9bq6AwmM/E/2N8ESK4g7j/bMpVPUKHqP9KpM64Goek/e7iXm/1Z6T+WztdkE8/nP5+XJovI0eY/H225fLW95T+8ik9HHPnkP/dRCdDx8OM/Rt3reWSyA0B7Qp29lGvwP9NB/abpZuM/\"},\"shape\":[30],\"dtype\":\"float64\",\"order\":\"little\"}],[\"cumperc_makespan\",{\"type\":\"ndarray\",\"array\":{\"type\":\"bytes\",\"data\":\"KHIicIxmNEBcBZ/Y7PVAQCWgyy1hQkNAlT2Qk8UnRUCbS6XCAABHQLWKYPVse0hAfoQ3HJzfSUC14ewta+ZKQLHPKELr6ktABj4/vdfoTEApbOY5x+FNQDAFhbOUuE5AEYVMdjqNT0AST59tUhxQQDX8kz+KZ1BAg15ckJCtUEChkOYA2fJQQEw0GpmlN1FADD6q9eZzUUByaEmWKalRQMbPpaNr3FFAN//cnh8PUkDUrqbFvT5SQAP8vFZhbFJA3W62wdyXUkDyDUX6zsFSQJYg5d2w6VJAgH+0AUSHU0CK9KpU8shTQA7v+CfA71NA\"},\"shape\":[30],\"dtype\":\"float64\",\"order\":\"little\"}],[\"mean_cpu\",{\"type\":\"ndarray\",\"array\":{\"type\":\"bytes\",\"data\":\"wTqOH0KFgUBAFw0ZTzl3QIhPlUoTll9A4MhNHuANWkB2a5kMB1lZQPL4B9u5XVRA73eDw2YeU0CW6X2HnzZMQFBN7bAt90tAi5AVV3BCS0B+G711WblKQPX9HsNLD0dAOds3UhHURkBugU5S6mZCQL5EBgNZJkBAGCDRBMoRPkBSQ4kEQcA9QDKi/sQSiz1A6rqm9tjfOUAtRrgk4t42QKC8NOrGAjZASGP+G8XFNUCBlq5gm3I0QLUN7a0SmTNAM80qIvmrMkCueDQfIQMyQCzMjMhBIDFA2TrdHonqUEAW/mcoSTQ8QNj1Zi+2qTBA\"},\"shape\":[30],\"dtype\":\"float64\",\"order\":\"little\"}],[\"std_cpu\",{\"type\":\"ndarray\",\"array\":{\"type\":\"bytes\",\"data\":\"xoYoN+o9V0AtX+qCyg8JQJM+aEUJ9Po/az2r5g+sL0AdMvHO3hwpQNDMu7CG+wZAgG0EjWKWJEDNrfICuxI4QFgxkqFes1BAivZhXjaBCkAm/vcsp08RQINdTsgG9kVAdSMV8zDf6j/yFQUMQiHnP5FXvKZiaBFAGzaEo3qjLEBRR3zLoTo+QKV1YwEn7fc/tNZzYJJUJ0ANqmd3ElcuQKA3v1amMQZAGfuw+bYqDEBXm7bYesjhP226G+xP9wZAKWwBeYkSAkAthw4LKG4CQOQo19+MxjNAuHdis6iM6z/TSw7zj6DhP7aLVlcEYug/\"},\"shape\":[30],\"dtype\":\"float64\",\"order\":\"little\"}],[\"std_lower_cpu\",{\"type\":\"ndarray\",\"array\":{\"type\":\"bytes\",\"data\":\"0FNSsQk7fUCCQgeELwd3QI6ufyVDKl9AM2F4IV4YVkAyRbsyazVWQIwagqXdpVNAP+ricZqLUECwkgQGQi1AQIBV3Eg+viXAInEv8VyaSUC5Gx6QZI9IQCAHCq1PlAFAq4ZrjpRoRkAWbR5KZQpCQJhzXVyZ8jtAFQoeZhmAL0DA/8C8MZjev9hq6FRADDxAIJ/ZjB9rLECaxBGkY80eQKzVXB+SPDNA5UPIPG5AMkCm4eiJV+QzQGeWabAoujBArp8K86dpMECRT6U7uGovQMDlUrpYMgXA6nV2zW+zUEC3i8+oRKc7QPWCWBlMzS9A\"},\"shape\":[30],\"dtype\":\"float64\",\"order\":\"little\"}],[\"std_upper_cpu\",{\"type\":\"ndarray\",\"array\":{\"type\":\"bytes\",\"data\":\"mktzZv9shED+6xKubmt3QEF41bfxAGBAjTAjG2IDXkC6kXfmonxcQFjXjRCWFVVAnwUkFTOxVUA+oHuE/h9UQADYCHr1rl5A9K/7vIPqTEBDG1xbTuNMQLyttkWpglZAxy8EFo4/R0DGlX5ab8NCQLDP3VdlU0JAk51Jq8MxRkBSxQJocf1NQIzZFDXlCT9AIlNwExHFQkCaDTawNQVDQJSjDLX7yDhAq4I0+xtLOUBcS3Q33wA1QAOFcKv8dzZAuPpKUUruNECUSZYg5lA0QIj6MVRnc0JAyP9DcKIhUUB1cACoTcE8QDaqIVLGbDFA\"},\"shape\":[30],\"dtype\":\"float64\",\"order\":\"little\"}],[\"mean_mem_bound\",{\"type\":\"ndarray\",\"array\":{\"type\":\"bytes\",\"data\":\"KlyPwvVgSkCuR+F6FL4xQB6F61G43jBAXI/C9SicEkDrUbgehWszQEjhehSu1zVA9ihcj8L1C0AJFG01eE4zQOugDuqgDipAPgrXo3C9N0DC9Shcj6I2QIanUDPi8iVAcT0K16PQJEApXI/C9agIQI/C9ShcvzVA4noUrkchG0CRrHPlAQkjQGZmZmZmdjdAzczMzMzcQkA4YtoTGcgwQJqZmZmZWRtAHoXrUbieAkDiehSuR2EKQBWuR+F6FAVAKlyPwvWoKUB7FK5H4To8QJ4cL5r4ITFASOF6FK5XOUCuR+F6FG4zQJqZmZmZeS5A\"},\"shape\":[30],\"dtype\":\"float64\",\"order\":\"little\"}],[\"std_mem_bound\",{\"type\":\"ndarray\",\"array\":{\"type\":\"bytes\",\"data\":\"uomLn1G5FECjyhVgVOfsP2SzahF41Pg/doUqbLB86j/3Uh61uZ7zPy7s5P914f4/vIJd22qN6D/f8fCMY14fQFk3vfgpcSRAvEw52UcaAkCqFVstqAMCQJZeUfc8myNAzJ89tlCN9D9RIcvU7eX2P1qPjaAsdg9Al5I3EU6PCkAPr3MNsoAfQMkT8zT1rwVAMz7y1j5XK0D6K5g6neAlQH9LLMGabPk/AaWqfNFs8D+UOqFHV4YBQEPW5rBQDPQ/S2XwUpHoA0A0p5xMD40UQBHsvJwnRTJA4rYI7BFG7T9heI170CMIQEBs/+kchQ5A\"},\"shape\":[30],\"dtype\":\"float64\",\"order\":\"little\"}],[\"mean_fp\",{\"type\":\"ndarray\",\"array\":{\"type\":\"bytes\",\"data\":\"KVyPwvU4NEC4HoXrUVgrQFyPwvUojDZAXY/C9Si8LUDrUbgehZs3QIXrUbgehTpA9ihcj8KFM0AUSjRwi4C+P2Vib5c90zNAmpmZmZkpPkCjcD0K13tMQPBxQ37dgw9AzczMzMx8MkA+CtejcD26Pz4K16NwLURAPgrXo3A95D/1KFyPwqU4QOtRuB6Fs0NAZmZmZmZmPEBKDAIrh+ZAQFK4HoXrkTRAAAAAAABALUCF61G4HvUzQClcj8L1yCZAuB6F61GYO0AqXI/C9cg9QAyITaUh1zBA9ihcj8LVKkAehetRuA4zQF2PwvUovCxA\"},\"shape\":[30],\"dtype\":\"float64\",\"order\":\"little\"}],[\"std_fp\",{\"type\":\"ndarray\",\"array\":{\"type\":\"bytes\",\"data\":\"132DnUDl3T9ThPrBg9HTP/jbmtUwdeQ/OFyBfviL4D9mu32jD2zmP7UzcEm5C/k/o4TtE4cE4T85rXYBCPqyPyG0gsPVxilAaRCExw0I+j+bPUspPFIBQB6/UftlzRdAm91n9MHy6T87nB2OSduxP4x+bJeu0/o/XiYLxFqU3j8jTpjKDWE0QG32BtYCdxdAbWwuXHhcC0DV8C8NHp8yQCpx9QKDWAdAH3NQPjy58T8SK9k5bb32P9/i0fR1I/E/5O9CaRO6/D8Vnfjodu/8Px8smhlWbTNAOgHXzGBr2D/ztvkttDn6P4aHhgrAfOw/\"},\"shape\":[30],\"dtype\":\"float64\",\"order\":\"little\"}]]}}},\"view\":{\"type\":\"object\",\"name\":\"CDSView\",\"id\":\"p36212\",\"attributes\":{\"filter\":{\"type\":\"object\",\"name\":\"AllIndices\",\"id\":\"p36213\"}}},\"glyph\":{\"type\":\"object\",\"name\":\"VBar\",\"id\":\"p36208\",\"attributes\":{\"x\":{\"type\":\"field\",\"field\":\"x\"},\"width\":{\"type\":\"value\",\"value\":0.9},\"top\":{\"type\":\"field\",\"field\":\"mean_cpu\"},\"line_color\":{\"type\":\"field\",\"field\":\"mean_mem_bound\",\"transform\":{\"type\":\"object\",\"name\":\"LinearColorMapper\",\"id\":\"p36202\",\"attributes\":{\"palette\":[\"#0C0786\",\"#100787\",\"#130689\",\"#15068A\",\"#18068B\",\"#1B068C\",\"#1D068D\",\"#1F058E\",\"#21058F\",\"#230590\",\"#250591\",\"#270592\",\"#290593\",\"#2B0594\",\"#2D0494\",\"#2F0495\",\"#310496\",\"#330497\",\"#340498\",\"#360498\",\"#380499\",\"#3A049A\",\"#3B039A\",\"#3D039B\",\"#3F039C\",\"#40039C\",\"#42039D\",\"#44039E\",\"#45039E\",\"#47029F\",\"#49029F\",\"#4A02A0\",\"#4C02A1\",\"#4E02A1\",\"#4F02A2\",\"#5101A2\",\"#5201A3\",\"#5401A3\",\"#5601A3\",\"#5701A4\",\"#5901A4\",\"#5A00A5\",\"#5C00A5\",\"#5E00A5\",\"#5F00A6\",\"#6100A6\",\"#6200A6\",\"#6400A7\",\"#6500A7\",\"#6700A7\",\"#6800A7\",\"#6A00A7\",\"#6C00A8\",\"#6D00A8\",\"#6F00A8\",\"#7000A8\",\"#7200A8\",\"#7300A8\",\"#7500A8\",\"#7601A8\",\"#7801A8\",\"#7901A8\",\"#7B02A8\",\"#7C02A7\",\"#7E03A7\",\"#7F03A7\",\"#8104A7\",\"#8204A7\",\"#8405A6\",\"#8506A6\",\"#8607A6\",\"#8807A5\",\"#8908A5\",\"#8B09A4\",\"#8C0AA4\",\"#8E0CA4\",\"#8F0DA3\",\"#900EA3\",\"#920FA2\",\"#9310A1\",\"#9511A1\",\"#9612A0\",\"#9713A0\",\"#99149F\",\"#9A159E\",\"#9B179E\",\"#9D189D\",\"#9E199C\",\"#9F1A9B\",\"#A01B9B\",\"#A21C9A\",\"#A31D99\",\"#A41E98\",\"#A51F97\",\"#A72197\",\"#A82296\",\"#A92395\",\"#AA2494\",\"#AC2593\",\"#AD2692\",\"#AE2791\",\"#AF2890\",\"#B02A8F\",\"#B12B8F\",\"#B22C8E\",\"#B42D8D\",\"#B52E8C\",\"#B62F8B\",\"#B7308A\",\"#B83289\",\"#B93388\",\"#BA3487\",\"#BB3586\",\"#BC3685\",\"#BD3784\",\"#BE3883\",\"#BF3982\",\"#C03B81\",\"#C13C80\",\"#C23D80\",\"#C33E7F\",\"#C43F7E\",\"#C5407D\",\"#C6417C\",\"#C7427B\",\"#C8447A\",\"#C94579\",\"#CA4678\",\"#CB4777\",\"#CC4876\",\"#CD4975\",\"#CE4A75\",\"#CF4B74\",\"#D04D73\",\"#D14E72\",\"#D14F71\",\"#D25070\",\"#D3516F\",\"#D4526E\",\"#D5536D\",\"#D6556D\",\"#D7566C\",\"#D7576B\",\"#D8586A\",\"#D95969\",\"#DA5A68\",\"#DB5B67\",\"#DC5D66\",\"#DC5E66\",\"#DD5F65\",\"#DE6064\",\"#DF6163\",\"#DF6262\",\"#E06461\",\"#E16560\",\"#E26660\",\"#E3675F\",\"#E3685E\",\"#E46A5D\",\"#E56B5C\",\"#E56C5B\",\"#E66D5A\",\"#E76E5A\",\"#E87059\",\"#E87158\",\"#E97257\",\"#EA7356\",\"#EA7455\",\"#EB7654\",\"#EC7754\",\"#EC7853\",\"#ED7952\",\"#ED7B51\",\"#EE7C50\",\"#EF7D4F\",\"#EF7E4E\",\"#F0804D\",\"#F0814D\",\"#F1824C\",\"#F2844B\",\"#F2854A\",\"#F38649\",\"#F38748\",\"#F48947\",\"#F48A47\",\"#F58B46\",\"#F58D45\",\"#F68E44\",\"#F68F43\",\"#F69142\",\"#F79241\",\"#F79341\",\"#F89540\",\"#F8963F\",\"#F8983E\",\"#F9993D\",\"#F99A3C\",\"#FA9C3B\",\"#FA9D3A\",\"#FA9F3A\",\"#FAA039\",\"#FBA238\",\"#FBA337\",\"#FBA436\",\"#FCA635\",\"#FCA735\",\"#FCA934\",\"#FCAA33\",\"#FCAC32\",\"#FCAD31\",\"#FDAF31\",\"#FDB030\",\"#FDB22F\",\"#FDB32E\",\"#FDB52D\",\"#FDB62D\",\"#FDB82C\",\"#FDB92B\",\"#FDBB2B\",\"#FDBC2A\",\"#FDBE29\",\"#FDC029\",\"#FDC128\",\"#FDC328\",\"#FDC427\",\"#FDC626\",\"#FCC726\",\"#FCC926\",\"#FCCB25\",\"#FCCC25\",\"#FCCE25\",\"#FBD024\",\"#FBD124\",\"#FBD324\",\"#FAD524\",\"#FAD624\",\"#FAD824\",\"#F9D924\",\"#F9DB24\",\"#F8DD24\",\"#F8DF24\",\"#F7E024\",\"#F7E225\",\"#F6E425\",\"#F6E525\",\"#F5E726\",\"#F5E926\",\"#F4EA26\",\"#F3EC26\",\"#F3EE26\",\"#F2F026\",\"#F2F126\",\"#F1F326\",\"#F0F525\",\"#F0F623\",\"#EFF821\"],\"low\":0,\"high\":100}}},\"fill_color\":{\"type\":\"field\",\"field\":\"mean_mem_bound\",\"transform\":{\"id\":\"p36202\"}},\"hatch_color\":{\"type\":\"field\",\"field\":\"mean_mem_bound\",\"transform\":{\"id\":\"p36202\"}}}},\"nonselection_glyph\":{\"type\":\"object\",\"name\":\"VBar\",\"id\":\"p36209\",\"attributes\":{\"x\":{\"type\":\"field\",\"field\":\"x\"},\"width\":{\"type\":\"value\",\"value\":0.9},\"top\":{\"type\":\"field\",\"field\":\"mean_cpu\"},\"line_color\":{\"type\":\"field\",\"field\":\"mean_mem_bound\",\"transform\":{\"id\":\"p36202\"}},\"line_alpha\":{\"type\":\"value\",\"value\":0.1},\"fill_color\":{\"type\":\"field\",\"field\":\"mean_mem_bound\",\"transform\":{\"id\":\"p36202\"}},\"fill_alpha\":{\"type\":\"value\",\"value\":0.1},\"hatch_color\":{\"type\":\"field\",\"field\":\"mean_mem_bound\",\"transform\":{\"id\":\"p36202\"}},\"hatch_alpha\":{\"type\":\"value\",\"value\":0.1}}},\"muted_glyph\":{\"type\":\"object\",\"name\":\"VBar\",\"id\":\"p36210\",\"attributes\":{\"x\":{\"type\":\"field\",\"field\":\"x\"},\"width\":{\"type\":\"value\",\"value\":0.9},\"top\":{\"type\":\"field\",\"field\":\"mean_cpu\"},\"line_color\":{\"type\":\"field\",\"field\":\"mean_mem_bound\",\"transform\":{\"id\":\"p36202\"}},\"line_alpha\":{\"type\":\"value\",\"value\":0.2},\"fill_color\":{\"type\":\"field\",\"field\":\"mean_mem_bound\",\"transform\":{\"id\":\"p36202\"}},\"fill_alpha\":{\"type\":\"value\",\"value\":0.2},\"hatch_color\":{\"type\":\"field\",\"field\":\"mean_mem_bound\",\"transform\":{\"id\":\"p36202\"}},\"hatch_alpha\":{\"type\":\"value\",\"value\":0.2}}}}},{\"type\":\"object\",\"name\":\"GlyphRenderer\",\"id\":\"p36233\",\"attributes\":{\"y_range_name\":\"percentage\",\"data_source\":{\"id\":\"p36151\"},\"view\":{\"type\":\"object\",\"name\":\"CDSView\",\"id\":\"p36234\",\"attributes\":{\"filter\":{\"type\":\"object\",\"name\":\"AllIndices\",\"id\":\"p36235\"}}},\"glyph\":{\"type\":\"object\",\"name\":\"Scatter\",\"id\":\"p36230\",\"attributes\":{\"x\":{\"type\":\"field\",\"field\":\"x\"},\"y\":{\"type\":\"field\",\"field\":\"cumperc_makespan\"},\"size\":{\"type\":\"value\",\"value\":15},\"line_color\":{\"type\":\"value\",\"value\":\"lightgreen\"},\"fill_color\":{\"type\":\"value\",\"value\":\"lightgreen\"},\"hatch_color\":{\"type\":\"value\",\"value\":\"lightgreen\"}}},\"nonselection_glyph\":{\"type\":\"object\",\"name\":\"Scatter\",\"id\":\"p36231\",\"attributes\":{\"x\":{\"type\":\"field\",\"field\":\"x\"},\"y\":{\"type\":\"field\",\"field\":\"cumperc_makespan\"},\"size\":{\"type\":\"value\",\"value\":15},\"line_color\":{\"type\":\"value\",\"value\":\"lightgreen\"},\"line_alpha\":{\"type\":\"value\",\"value\":0.1},\"fill_color\":{\"type\":\"value\",\"value\":\"lightgreen\"},\"fill_alpha\":{\"type\":\"value\",\"value\":0.1},\"hatch_color\":{\"type\":\"value\",\"value\":\"lightgreen\"},\"hatch_alpha\":{\"type\":\"value\",\"value\":0.1}}},\"muted_glyph\":{\"type\":\"object\",\"name\":\"Scatter\",\"id\":\"p36232\",\"attributes\":{\"x\":{\"type\":\"field\",\"field\":\"x\"},\"y\":{\"type\":\"field\",\"field\":\"cumperc_makespan\"},\"size\":{\"type\":\"value\",\"value\":15},\"line_color\":{\"type\":\"value\",\"value\":\"lightgreen\"},\"line_alpha\":{\"type\":\"value\",\"value\":0.2},\"fill_color\":{\"type\":\"value\",\"value\":\"lightgreen\"},\"fill_alpha\":{\"type\":\"value\",\"value\":0.2},\"hatch_color\":{\"type\":\"value\",\"value\":\"lightgreen\"},\"hatch_alpha\":{\"type\":\"value\",\"value\":0.2}}}}}],\"toolbar\":{\"type\":\"object\",\"name\":\"Toolbar\",\"id\":\"p36164\",\"attributes\":{\"tools\":[{\"type\":\"object\",\"name\":\"PanTool\",\"id\":\"p36185\"},{\"type\":\"object\",\"name\":\"WheelZoomTool\",\"id\":\"p36186\"},{\"type\":\"object\",\"name\":\"BoxZoomTool\",\"id\":\"p36187\",\"attributes\":{\"overlay\":{\"type\":\"object\",\"name\":\"BoxAnnotation\",\"id\":\"p36188\",\"attributes\":{\"syncable\":false,\"level\":\"overlay\",\"visible\":false,\"left_units\":\"canvas\",\"right_units\":\"canvas\",\"bottom_units\":\"canvas\",\"top_units\":\"canvas\",\"line_color\":\"black\",\"line_alpha\":1.0,\"line_width\":2,\"line_dash\":[4,4],\"fill_color\":\"lightgrey\",\"fill_alpha\":0.5}}}},{\"type\":\"object\",\"name\":\"SaveTool\",\"id\":\"p36189\"},{\"type\":\"object\",\"name\":\"ResetTool\",\"id\":\"p36190\"},{\"type\":\"object\",\"name\":\"HelpTool\",\"id\":\"p36191\"},{\"type\":\"object\",\"name\":\"HoverTool\",\"id\":\"p36200\",\"attributes\":{\"renderers\":\"auto\",\"tooltips\":[[\"Module\",\"@module\"],[\"Function\",\"@func\"],[\"Makespan contribution\",\"@perc_makespan{1.1}%\"],[\"Makespan contribution (cumulative)\",\"@cumperc_makespan{1.1}%\"],[\"CPU Time (mean \\u00b1 std)\",\"@mean_cpu{1.11} \\u00b1 @std_cpu{1.11}\"],[\"% of memory bound (mean \\u00b1 std)\",\"@mean_mem_bound{1.11} \\u00b1 @std_mem_bound{1.11}\"],[\"% of FP ops (mean \\u00b1 std)\",\"@mean_fp{1.11} \\u00b1 @std_fp{1.11}\"]]}}]}},\"toolbar_location\":null,\"left\":[{\"type\":\"object\",\"name\":\"LinearAxis\",\"id\":\"p36178\",\"attributes\":{\"ticker\":{\"type\":\"object\",\"name\":\"BasicTicker\",\"id\":\"p36179\",\"attributes\":{\"mantissas\":[1,2,5]}},\"formatter\":{\"type\":\"object\",\"name\":\"BasicTickFormatter\",\"id\":\"p36180\"},\"major_label_policy\":{\"type\":\"object\",\"name\":\"AllLabels\",\"id\":\"p36181\"}}},{\"type\":\"object\",\"name\":\"ColorBar\",\"id\":\"p36203\",\"attributes\":{\"location\":[0,0],\"title\":\"% of memory bound\",\"major_label_policy\":{\"type\":\"object\",\"name\":\"NoOverlap\",\"id\":\"p36204\"},\"label_standoff\":14,\"color_mapper\":{\"id\":\"p36202\"}}}],\"right\":[{\"type\":\"object\",\"name\":\"LinearAxis\",\"id\":\"p36223\",\"attributes\":{\"y_range_name\":\"percentage\",\"ticker\":{\"type\":\"object\",\"name\":\"BasicTicker\",\"id\":\"p36224\",\"attributes\":{\"mantissas\":[1,2,5]}},\"formatter\":{\"type\":\"object\",\"name\":\"BasicTickFormatter\",\"id\":\"p36225\"},\"major_label_policy\":{\"type\":\"object\",\"name\":\"AllLabels\",\"id\":\"p36226\"}}}],\"below\":[{\"type\":\"object\",\"name\":\"CategoricalAxis\",\"id\":\"p36172\",\"attributes\":{\"ticker\":{\"type\":\"object\",\"name\":\"CategoricalTicker\",\"id\":\"p36173\"},\"formatter\":{\"type\":\"object\",\"name\":\"CategoricalTickFormatter\",\"id\":\"p36174\"},\"major_label_orientation\":0.39269908169872414,\"major_label_policy\":{\"type\":\"object\",\"name\":\"AllLabels\",\"id\":\"p36175\"},\"separator_line_alpha\":0,\"group_label_orientation\":0.39269908169872414}}],\"center\":[{\"type\":\"object\",\"name\":\"Grid\",\"id\":\"p36177\",\"attributes\":{\"axis\":{\"id\":\"p36172\"},\"grid_line_color\":null}},{\"type\":\"object\",\"name\":\"Grid\",\"id\":\"p36184\",\"attributes\":{\"dimension\":1,\"axis\":{\"id\":\"p36178\"}}},{\"type\":\"object\",\"name\":\"Whisker\",\"id\":\"p36214\",\"attributes\":{\"level\":\"annotation\",\"source\":{\"id\":\"p36151\"},\"lower\":{\"type\":\"field\",\"field\":\"std_lower_cpu\"},\"lower_head\":{\"type\":\"object\",\"name\":\"TeeHead\",\"id\":\"p36219\",\"attributes\":{\"size\":{\"type\":\"value\",\"value\":20}}},\"upper\":{\"type\":\"field\",\"field\":\"std_upper_cpu\"},\"upper_head\":{\"type\":\"object\",\"name\":\"TeeHead\",\"id\":\"p36218\",\"attributes\":{\"size\":{\"type\":\"value\",\"value\":20}}},\"base\":{\"type\":\"field\",\"field\":\"x\"},\"line_width\":{\"type\":\"value\",\"value\":2}}}]}}]}};\n  const render_items = [{\"docid\":\"0c13dbd1-85df-45b5-812f-527d1abbf45b\",\"roots\":{\"p36155\":\"04d1cea2-5f7d-4397-bca9-fb6a076b45b8\"},\"root_ids\":[\"p36155\"]}];\n  root.Bokeh.embed.embed_items_notebook(docs_json, render_items);\n  }\n  if (root.Bokeh !== undefined) {\n    embed_document(root);\n  } else {\n    let attempts = 0;\n    const timer = setInterval(function(root) {\n      if (root.Bokeh !== undefined) {\n        clearInterval(timer);\n        embed_document(root);\n      } else {\n        attempts++;\n        if (attempts > 100) {\n          clearInterval(timer);\n          console.log(\"Bokeh: ERROR: Unable to run BokehJS code because BokehJS library is missing\");\n        }\n      }\n    }, 10, root)\n  }\n})(window);",
      "application/vnd.bokehjs_exec.v0+json": ""
     },
     "metadata": {
      "application/vnd.bokehjs_exec.v0+json": {
       "id": "p36155"
      }
     },
     "output_type": "display_data"
    },
    {
     "name": "stdout",
     "output_type": "stream",
     "text": [
      "           clean_module                                                                                   clean_func    mean_cpu    std_cpu\n",
      "1   libantsUtilities.so                                       itk::LinearInterpolateImageFunction::EvaluateOptimized  560.657287  92.967420\n",
      "2   libantsUtilities.so                         itk::VectorLinearInterpolateImageFunction::EvaluateAtContinuousIndex  371.581811   3.132710\n",
      "3   libantsUtilities.so                                              itk::DisplacementFieldTransform::TransformPoint  126.344927   1.684579\n",
      "4   libantsUtilities.so  itk::MattesMutualInformationImageToImageMetricv4GetValueAndDerivativeThreader::ProcessPoint  104.216804  15.836059\n",
      "5   libantsUtilities.so                                                      itk::CompositeTransform::TransformPoint  101.391055  12.556387\n",
      "6   libantsUtilities.so                                    itk::ImageToImageMetricv4::TransformAndEvaluateFixedPoint   81.464469   2.872815\n",
      "7   libantsUtilities.so             itk::CompositeTransform::ComputeJacobianWithRespectToParametersCachedTemporaries   76.475022  10.293721\n",
      "8   libantsUtilities.so                                                                         itk::Image::GetPixel   56.426743  24.073166\n",
      "9   libantsUtilities.so                                                                               itk::ImageBase   55.931082  66.802651\n",
      "10  libantsUtilities.so                                   itk::ImageToImageMetricv4::TransformAndEvaluateMovingPoint   54.519053   3.313092\n"
     ]
    },
    {
     "data": {
      "text/html": [
       "\n",
       "  <div id=\"ca6e5463-27f3-43ae-8837-04d69f3ac2c4\" data-root-id=\"p37397\" style=\"display: contents;\"></div>\n"
      ]
     },
     "metadata": {},
     "output_type": "display_data"
    },
    {
     "data": {
      "application/javascript": "(function(root) {\n  function embed_document(root) {\n  const docs_json = {\"7c81afde-156b-4236-ba0c-57bfa74d4ead\":{\"version\":\"3.0.3\",\"title\":\"Bokeh Application\",\"defs\":[],\"roots\":[{\"type\":\"object\",\"name\":\"Figure\",\"id\":\"p37397\",\"attributes\":{\"width\":1200,\"x_range\":{\"type\":\"object\",\"name\":\"FactorRange\",\"id\":\"p37396\",\"attributes\":{\"factors\":[[\"libantsUtilities.so\",\"1\"],[\"libantsUtilities.so\",\"2\"],[\"libantsUtilities.so\",\"3\"],[\"libantsUtilities.so\",\"4\"],[\"libantsUtilities.so\",\"5\"],[\"libantsUtilities.so\",\"6\"],[\"libantsUtilities.so\",\"7\"],[\"libantsUtilities.so\",\"8\"],[\"libantsUtilities.so\",\"9\"],[\"libantsUtilities.so\",\"10\"],[\"libantsUtilities.so\",\"11\"],[\"libantsUtilities.so\",\"12\"],[\"libantsUtilities.so\",\"13\"],[\"libantsUtilities.so\",\"14\"],[\"libantsUtilities.so\",\"15\"],[\"libantsUtilities.so\",\"16\"],[\"libantsUtilities.so\",\"17\"],[\"libantsUtilities.so\",\"18\"],[\"libantsUtilities.so\",\"19\"],[\"libantsUtilities.so\",\"20\"],[\"libantsUtilities.so\",\"21\"],[\"libantsUtilities.so\",\"22\"],[\"libantsUtilities.so\",\"23\"],[\"libantsUtilities.so\",\"24\"],[\"libantsUtilities.so\",\"25\"],[\"libantsUtilities.so\",\"26\"],[\"libantsUtilities.so\",\"27\"],[\"libl_N4BiasFieldCorrection.so\",\"28\"],[\"libl_antsAI.so\",\"29\"]],\"range_padding\":0.1}},\"y_range\":{\"type\":\"object\",\"name\":\"DataRange1d\",\"id\":\"p37399\",\"attributes\":{\"end\":700}},\"x_scale\":{\"type\":\"object\",\"name\":\"CategoricalScale\",\"id\":\"p37410\"},\"y_scale\":{\"type\":\"object\",\"name\":\"LinearScale\",\"id\":\"p37412\"},\"extra_y_ranges\":{\"type\":\"map\",\"entries\":[[\"percentage\",{\"type\":\"object\",\"name\":\"Range1d\",\"id\":\"p37464\",\"attributes\":{\"end\":100}}]]},\"title\":{\"type\":\"object\",\"name\":\"Title\",\"id\":\"p37400\",\"attributes\":{\"text\":\"Avg. CPU Time: ants.brainExtraction-fp\"}},\"renderers\":[{\"type\":\"object\",\"name\":\"GlyphRenderer\",\"id\":\"p37453\",\"attributes\":{\"data_source\":{\"type\":\"object\",\"name\":\"ColumnDataSource\",\"id\":\"p37393\",\"attributes\":{\"selected\":{\"type\":\"object\",\"name\":\"Selection\",\"id\":\"p37394\",\"attributes\":{\"indices\":[],\"line_indices\":[]}},\"selection_policy\":{\"type\":\"object\",\"name\":\"UnionRenderers\",\"id\":\"p37395\"},\"data\":{\"type\":\"map\",\"entries\":[[\"x\",[[\"libantsUtilities.so\",\"1\"],[\"libantsUtilities.so\",\"2\"],[\"libantsUtilities.so\",\"3\"],[\"libantsUtilities.so\",\"4\"],[\"libantsUtilities.so\",\"5\"],[\"libantsUtilities.so\",\"6\"],[\"libantsUtilities.so\",\"7\"],[\"libantsUtilities.so\",\"8\"],[\"libantsUtilities.so\",\"9\"],[\"libantsUtilities.so\",\"10\"],[\"libantsUtilities.so\",\"11\"],[\"libantsUtilities.so\",\"12\"],[\"libantsUtilities.so\",\"13\"],[\"libantsUtilities.so\",\"14\"],[\"libantsUtilities.so\",\"15\"],[\"libantsUtilities.so\",\"16\"],[\"libantsUtilities.so\",\"17\"],[\"libantsUtilities.so\",\"18\"],[\"libantsUtilities.so\",\"19\"],[\"libantsUtilities.so\",\"20\"],[\"libantsUtilities.so\",\"21\"],[\"libantsUtilities.so\",\"22\"],[\"libantsUtilities.so\",\"23\"],[\"libantsUtilities.so\",\"24\"],[\"libantsUtilities.so\",\"25\"],[\"libantsUtilities.so\",\"26\"],[\"libantsUtilities.so\",\"27\"],[\"libl_N4BiasFieldCorrection.so\",\"28\"],[\"libl_antsAI.so\",\"29\"]]],[\"module\",{\"type\":\"ndarray\",\"array\":[\"libantsUtilities.so\",\"libantsUtilities.so\",\"libantsUtilities.so\",\"libantsUtilities.so\",\"libantsUtilities.so\",\"libantsUtilities.so\",\"libantsUtilities.so\",\"libantsUtilities.so\",\"libantsUtilities.so\",\"libantsUtilities.so\",\"libantsUtilities.so\",\"libantsUtilities.so\",\"libantsUtilities.so\",\"libantsUtilities.so\",\"libantsUtilities.so\",\"libantsUtilities.so\",\"libantsUtilities.so\",\"libantsUtilities.so\",\"libantsUtilities.so\",\"libantsUtilities.so\",\"libantsUtilities.so\",\"libantsUtilities.so\",\"libantsUtilities.so\",\"libantsUtilities.so\",\"libantsUtilities.so\",\"libantsUtilities.so\",\"libantsUtilities.so\",\"libl_N4BiasFieldCorrection.so\",\"libl_antsAI.so\"],\"shape\":[29],\"dtype\":\"object\",\"order\":\"little\"}],[\"func\",{\"type\":\"ndarray\",\"array\":[\"itk::VectorLinearInterpolateImageFunction::EvaluateAtContinuousIndex\",\"itk::LinearInterpolateImageFunction::EvaluateOptimized\",\"itk::DisplacementFieldTransform::TransformPoint\",\"itk::MattesMutualInformationImageToImageMetricv4GetValueAndDerivativeThreader::ProcessPoint\",\"itk::Matrix::operator*\",\"itk::CompositeTransform::ComputeJacobianWithRespectToParametersCachedTemporaries\",\"itk::MatrixOffsetTransformBase::TransformPoint\",\"itk::ImageToImageMetricv4::TransformAndEvaluateMovingPoint\",\"itk::ImageBase\",\"itk::LinearInterpolateImageFunction::EvaluateAtContinuousIndex\",\"itk::ANTSNeighborhoodCorrelationImageToImageMetricv4GetValueAndDerivativeThreader::UpdateQueuesToNextScanWindow\",\"itk::InterpolateImageFunction::Evaluate\",\"itk::ImageToImageMetricv4::TransformAndEvaluateFixedPoint\",\"itk::Point\",\"itk::ConstNeighborhoodIterator::operator++\",\"itk::Matrix::operator*\",\"itk::CompositeTransform::TransformPoint\",\"itk::ImageToImageMetricv4GetValueAndDerivativeThreaderBase::ProcessVirtualPoint\",\"itk::IdentityTransform::TransformPoint\",\"itk::ConstNeighborhoodIterator::IndexInBounds\",\"itk::Point::operator+\",\"itk::PointSet::GetPoint\",\"std::deque::rbegin\",\"itk::ObjectToObjectMetric::TransformVirtualIndexToPhysicalPoint\",\"itk::CentralDifferenceImageFunction\",\"itk::MattesMutualInformationImageToImageMetricv4::DerivativeBufferManager::ReduceBuffer\",\"itk::BSplineKernelFunction::Evaluate\",\"itk::BSplineScatteredDataPointSetToImageFilter::ThreadedGenerateDataForFitting\",\"itk::LinearInterpolateImageFunction::EvaluateOptimized\"],\"shape\":[29],\"dtype\":\"object\",\"order\":\"little\"}],[\"perc_makespan\",{\"type\":\"ndarray\",\"array\":{\"type\":\"bytes\",\"data\":\"OObCz+cyMkD17ce+3wcuQFWg++00xCBA1CC3GbzPCEB1F6ynrxIIQFnMf9IO3ANA8ggst8i5A0DkjBvOn9sBQNFTDUPzsP4/zL1Qf2oF/j/KqlblRq79PwyrBYk+OP0/XYaUlaJK/D/eP8D5IY/zP+bxkdpRsfI/+ouijciW8j8j+CI+VrTxP3un+N1hsPA/moqd6HCP8D9hOWYJE9DvPzC/VnSuMOk/EzHj0hND5j8TEeMSnzXmP+d5DcgLo+Q/phzKM8Pv4z9xJqRF0NzjP74/eGvqtuM/JcOMKo0pAUBnIkW19qvsPw==\"},\"shape\":[29],\"dtype\":\"float64\",\"order\":\"little\"}],[\"cumperc_makespan\",{\"type\":\"ndarray\",\"array\":{\"type\":\"bytes\",\"data\":\"OObCz+cyMkCZbpPXa5tAQK5WEhN5zERAu8it1HRZRkAyiijPn9pHQPiGULxgGElAh0fDR/1TSkBVAKVEt3FLQPRqvd4+Z0xA4vC3MmpXTUA4puJp3EROQJDTKl6eLk9A4btruXkIUEDgvFJBtlZQQKgEvYh7oVBA2I7zqtbrUEC5GuwDqDJRQFf9Y4tpdVFAgXMGT6e3UUD0Pxl1R/dRQHLtAdKoKVJA1LOn+S5WUkD2ec03moJSQOqUXU/gq1JAIynF1b/TUkBwcVB2eftSQO9hJ0vnIlNACMh7tDOsU0BNUuahi+VTQA==\"},\"shape\":[29],\"dtype\":\"float64\",\"order\":\"little\"}],[\"mean_cpu\",{\"type\":\"ndarray\",\"array\":{\"type\":\"bytes\",\"data\":\"muOBban1gUArLLgf0KJ9QApaN5TIi3BALpkZ7Dx8WECdTzesrMFXQJGdt7E5mVNAAeN07WZ3U0BG9wclh59RQAQAHqiqSU5A3qXUJWOgTUDw84TKZEpNQIDY0qPp1UxAfYSrTW3rS0DEb1S4T01DQIuD8A1qckJA+nIpDjpYQkDPukbLwXhBQIegDzs4eEBALN24ILZXQEAeudovBGU/QOI2vwbp2zhAIeo+ACn4NUAKFLGI4eo1QCmFLwKZXTRAPclnw6usM0A6MdqZ+JkzQCbg10iSdDNA+gDuw8vvUEBLDF3keUs8QA==\"},\"shape\":[29],\"dtype\":\"float64\",\"order\":\"little\"}],[\"std_cpu\",{\"type\":\"ndarray\",\"array\":{\"type\":\"bytes\",\"data\":\"oM1KeMMXEkCLImDrtIhNQI4Gh6tR1wZAhRWjj7WeL0D9BxhanyhFQGRzGG3eeytAmOzc57q6JUCOrXjUHH8IQEnGZSGWm1JAFFLSRb8rEkCsSs/N4HftP/Cg6lpFuQlAaLWP83PdB0Da7x5XIZABQBXGF9ALBes/0Svp2XM8Q0CZSt0touoQQAaF763tzRBA7w3ZWl7jEEDPpomL3yYwQHWT18lz6AlAmKvNFWvvIUAB8kBS/G4FQGJeM0hoeOA/zn2dq2IBBUDWOgvoKxUJQMgbvUCz2AhA5CN/7NUn8T+QSasxYWflPw==\"},\"shape\":[29],\"dtype\":\"float64\",\"order\":\"little\"}],[\"std_lower_cpu\",{\"type\":\"ndarray\",\"array\":{\"type\":\"bytes\",\"data\":\"/02R5nnRgUDaJ0yCufF5QP1L4PAZXnBAfTYlOmaIVEA9l1b+uVpKQCSPFOS9KVBAbkV5kA/AUEDaMWQ+jttQQDgytmoGtivAnFsaPetaS0DFtk1HhdRMQHEuJE5VOktAJolyDpZtSkDGgOKiTTRCQHMksN5VBkJA4Br3dzmH/L/4IhYL27Y+QMxfowr1vDxA3Ha7qpR2PECeJKJISXwuQHNEhI3anjVAqiiw6uYAKkDK9Wj+AT0zQDbq7b/V2TNAgxn0bX8MMUDfydgcU3cwQK08wOB7WTBAagQ8bCyrUED+sc/aPqA7QA==\"},\"shape\":[29],\"dtype\":\"float64\",\"order\":\"little\"}],[\"std_upper_cpu\",{\"type\":\"ndarray\",\"array\":{\"type\":\"bytes\",\"data\":\"NXly9NgZgkA+GJJe86mAQBdojjd3uXBA3/sNnhNwXEDOqaEs/iphQP6rWn+1CFdAlIBwSr4uVkCyvKsLgGNSQCZjuro14GBAIPCODtvlT0AbMbxNRMBNQI+Cgfl9cU5A1H/kjERpTUDCXsbNUWZEQKPiMD1+3kJAZk8J9FbKUkAiZAIRFpZDQCiRzfD1kUJA6v4T7CF0QkD2L7Ld8cVHQFEp+n/3GDxA7b8li97vPkBKMvkSwZg4QBwgcURc4TRA93jbGNhMNkCVmNsWnrw2QJ+D77CojzZAiv2fG2s0UUCYZurttPY8QA==\"},\"shape\":[29],\"dtype\":\"float64\",\"order\":\"little\"}],[\"mean_mem_bound\",{\"type\":\"ndarray\",\"array\":{\"type\":\"bytes\",\"data\":\"XI/C9ShsNkAK16NwPUJCQDMzMzMzkztAAAAAAACAEEDd/iBDZYdCQFK4HoXrUf8/CtejcD0qKEBmZmZmZpYyQJT4GSV+RjBAuR6F61F4OUA+CtejcH0YQFK4HoXrYUBAZmZmZmamJ0DC9Shcj5pFQM3MzMzMTARAqbKCcsMuJEDNzMzMzBwxQPYoXI/CxTJAzczMzMysJUC4HoXrURgQQAAAAAAAoC9AcD0K16OQP0A+CtejcB0kQDMzMzMzcxZApHA9CtfTM0A+CtejcD35P5qZmZmZmfY/rkfhehReOUDiehSuR8EyQA==\"},\"shape\":[29],\"dtype\":\"float64\",\"order\":\"little\"}],[\"std_mem_bound\",{\"type\":\"ndarray\",\"array\":{\"type\":\"bytes\",\"data\":\"Brz7g6Mb6T8ErVIeh8MRQGW/FEFxF+w/5f+M0Dr+7D9FxII5G7QqQGGSfhZY1uE/CcGcNjQY+z+63ldjfFQCQIMZ24chQyxAe/kHk01TA0Amb+i3HY7xP5jVlemvBgFA5Ziiu4qw9z9AbM0+cFwhQNX5TKa+sPU/5N1NLOGnHkD5o0JJhMoRQK0kaBRIcxJARus6/pS3/D9W821Efbj2P7PYpzk35AFAGiUaYwehJUAGCW7/RXoFQBtWWIOUHQZApr+lb0YnDEDaPv1G/UjpP3IzJpZt3Os/ear9klLf6z9j1A4wWFUIQA==\"},\"shape\":[29],\"dtype\":\"float64\",\"order\":\"little\"}],[\"mean_fp\",{\"type\":\"ndarray\",\"array\":{\"type\":\"bytes\",\"data\":\"pHA9CtdjIkDiehSuR6ElQOJ6FK5HISxAcT0K16OQMEADtwjowWoOQD0K16Nw3S5AuB6F61EwRUAK16NwPTo2QEdrtEZr1DpAPgrXo3ANNUCF61G4HuUlQB6F61G43kBAkML1KFxvPUAAAAAAAAAAACpcj8L1KLw/T+IIVvAkEECPwvUoXI82QI/C9ShcB0BA16NwPQoXJ0DiehSuR+HcP5qZmZmZiTNAzczMzMxMOEApXI/C9SjiPwrXo3A9OjRAmpmZmZkZMkCF61G4HkUmQArXo3A9KidAMzMzMzPzKkBcj8L1KMwyQA==\"},\"shape\":[29],\"dtype\":\"float64\",\"order\":\"little\"}],[\"std_fp\",{\"type\":\"ndarray\",\"array\":{\"type\":\"bytes\",\"data\":\"MKsVUGEUyj/Ko59UsffeP3aeiy5g2dY/ytFH+m/V5D+8WtYzaSr+P5rL8iC2reI/Q4lcSLd5/j/oqSAi0O73P7K6G3bG/TBAqck9hjYbAEATspE80sHiP5P1isfUk/Y/lq/obhJX9z8AAAAAAAAAAHM6oE7cMLA/C+zCZ+6cF0BrxbG84kEQQDKmcKMLkfU/txd+go144z+Br0FZ1kXSP/dUvOb++gNAsTl6baZoBkDxuud7+lDOP2qReTl0Nfc/JsQsIYeB9T+rYCpQ4rTuP3H2+AhPbvc/FSZBvgRW2z/POLRK0I3zPw==\"},\"shape\":[29],\"dtype\":\"float64\",\"order\":\"little\"}]]}}},\"view\":{\"type\":\"object\",\"name\":\"CDSView\",\"id\":\"p37454\",\"attributes\":{\"filter\":{\"type\":\"object\",\"name\":\"AllIndices\",\"id\":\"p37455\"}}},\"glyph\":{\"type\":\"object\",\"name\":\"VBar\",\"id\":\"p37450\",\"attributes\":{\"x\":{\"type\":\"field\",\"field\":\"x\"},\"width\":{\"type\":\"value\",\"value\":0.9},\"top\":{\"type\":\"field\",\"field\":\"mean_cpu\"},\"line_color\":{\"type\":\"field\",\"field\":\"mean_mem_bound\",\"transform\":{\"type\":\"object\",\"name\":\"LinearColorMapper\",\"id\":\"p37444\",\"attributes\":{\"palette\":[\"#0C0786\",\"#100787\",\"#130689\",\"#15068A\",\"#18068B\",\"#1B068C\",\"#1D068D\",\"#1F058E\",\"#21058F\",\"#230590\",\"#250591\",\"#270592\",\"#290593\",\"#2B0594\",\"#2D0494\",\"#2F0495\",\"#310496\",\"#330497\",\"#340498\",\"#360498\",\"#380499\",\"#3A049A\",\"#3B039A\",\"#3D039B\",\"#3F039C\",\"#40039C\",\"#42039D\",\"#44039E\",\"#45039E\",\"#47029F\",\"#49029F\",\"#4A02A0\",\"#4C02A1\",\"#4E02A1\",\"#4F02A2\",\"#5101A2\",\"#5201A3\",\"#5401A3\",\"#5601A3\",\"#5701A4\",\"#5901A4\",\"#5A00A5\",\"#5C00A5\",\"#5E00A5\",\"#5F00A6\",\"#6100A6\",\"#6200A6\",\"#6400A7\",\"#6500A7\",\"#6700A7\",\"#6800A7\",\"#6A00A7\",\"#6C00A8\",\"#6D00A8\",\"#6F00A8\",\"#7000A8\",\"#7200A8\",\"#7300A8\",\"#7500A8\",\"#7601A8\",\"#7801A8\",\"#7901A8\",\"#7B02A8\",\"#7C02A7\",\"#7E03A7\",\"#7F03A7\",\"#8104A7\",\"#8204A7\",\"#8405A6\",\"#8506A6\",\"#8607A6\",\"#8807A5\",\"#8908A5\",\"#8B09A4\",\"#8C0AA4\",\"#8E0CA4\",\"#8F0DA3\",\"#900EA3\",\"#920FA2\",\"#9310A1\",\"#9511A1\",\"#9612A0\",\"#9713A0\",\"#99149F\",\"#9A159E\",\"#9B179E\",\"#9D189D\",\"#9E199C\",\"#9F1A9B\",\"#A01B9B\",\"#A21C9A\",\"#A31D99\",\"#A41E98\",\"#A51F97\",\"#A72197\",\"#A82296\",\"#A92395\",\"#AA2494\",\"#AC2593\",\"#AD2692\",\"#AE2791\",\"#AF2890\",\"#B02A8F\",\"#B12B8F\",\"#B22C8E\",\"#B42D8D\",\"#B52E8C\",\"#B62F8B\",\"#B7308A\",\"#B83289\",\"#B93388\",\"#BA3487\",\"#BB3586\",\"#BC3685\",\"#BD3784\",\"#BE3883\",\"#BF3982\",\"#C03B81\",\"#C13C80\",\"#C23D80\",\"#C33E7F\",\"#C43F7E\",\"#C5407D\",\"#C6417C\",\"#C7427B\",\"#C8447A\",\"#C94579\",\"#CA4678\",\"#CB4777\",\"#CC4876\",\"#CD4975\",\"#CE4A75\",\"#CF4B74\",\"#D04D73\",\"#D14E72\",\"#D14F71\",\"#D25070\",\"#D3516F\",\"#D4526E\",\"#D5536D\",\"#D6556D\",\"#D7566C\",\"#D7576B\",\"#D8586A\",\"#D95969\",\"#DA5A68\",\"#DB5B67\",\"#DC5D66\",\"#DC5E66\",\"#DD5F65\",\"#DE6064\",\"#DF6163\",\"#DF6262\",\"#E06461\",\"#E16560\",\"#E26660\",\"#E3675F\",\"#E3685E\",\"#E46A5D\",\"#E56B5C\",\"#E56C5B\",\"#E66D5A\",\"#E76E5A\",\"#E87059\",\"#E87158\",\"#E97257\",\"#EA7356\",\"#EA7455\",\"#EB7654\",\"#EC7754\",\"#EC7853\",\"#ED7952\",\"#ED7B51\",\"#EE7C50\",\"#EF7D4F\",\"#EF7E4E\",\"#F0804D\",\"#F0814D\",\"#F1824C\",\"#F2844B\",\"#F2854A\",\"#F38649\",\"#F38748\",\"#F48947\",\"#F48A47\",\"#F58B46\",\"#F58D45\",\"#F68E44\",\"#F68F43\",\"#F69142\",\"#F79241\",\"#F79341\",\"#F89540\",\"#F8963F\",\"#F8983E\",\"#F9993D\",\"#F99A3C\",\"#FA9C3B\",\"#FA9D3A\",\"#FA9F3A\",\"#FAA039\",\"#FBA238\",\"#FBA337\",\"#FBA436\",\"#FCA635\",\"#FCA735\",\"#FCA934\",\"#FCAA33\",\"#FCAC32\",\"#FCAD31\",\"#FDAF31\",\"#FDB030\",\"#FDB22F\",\"#FDB32E\",\"#FDB52D\",\"#FDB62D\",\"#FDB82C\",\"#FDB92B\",\"#FDBB2B\",\"#FDBC2A\",\"#FDBE29\",\"#FDC029\",\"#FDC128\",\"#FDC328\",\"#FDC427\",\"#FDC626\",\"#FCC726\",\"#FCC926\",\"#FCCB25\",\"#FCCC25\",\"#FCCE25\",\"#FBD024\",\"#FBD124\",\"#FBD324\",\"#FAD524\",\"#FAD624\",\"#FAD824\",\"#F9D924\",\"#F9DB24\",\"#F8DD24\",\"#F8DF24\",\"#F7E024\",\"#F7E225\",\"#F6E425\",\"#F6E525\",\"#F5E726\",\"#F5E926\",\"#F4EA26\",\"#F3EC26\",\"#F3EE26\",\"#F2F026\",\"#F2F126\",\"#F1F326\",\"#F0F525\",\"#F0F623\",\"#EFF821\"],\"low\":0,\"high\":100}}},\"fill_color\":{\"type\":\"field\",\"field\":\"mean_mem_bound\",\"transform\":{\"id\":\"p37444\"}},\"hatch_color\":{\"type\":\"field\",\"field\":\"mean_mem_bound\",\"transform\":{\"id\":\"p37444\"}}}},\"nonselection_glyph\":{\"type\":\"object\",\"name\":\"VBar\",\"id\":\"p37451\",\"attributes\":{\"x\":{\"type\":\"field\",\"field\":\"x\"},\"width\":{\"type\":\"value\",\"value\":0.9},\"top\":{\"type\":\"field\",\"field\":\"mean_cpu\"},\"line_color\":{\"type\":\"field\",\"field\":\"mean_mem_bound\",\"transform\":{\"id\":\"p37444\"}},\"line_alpha\":{\"type\":\"value\",\"value\":0.1},\"fill_color\":{\"type\":\"field\",\"field\":\"mean_mem_bound\",\"transform\":{\"id\":\"p37444\"}},\"fill_alpha\":{\"type\":\"value\",\"value\":0.1},\"hatch_color\":{\"type\":\"field\",\"field\":\"mean_mem_bound\",\"transform\":{\"id\":\"p37444\"}},\"hatch_alpha\":{\"type\":\"value\",\"value\":0.1}}},\"muted_glyph\":{\"type\":\"object\",\"name\":\"VBar\",\"id\":\"p37452\",\"attributes\":{\"x\":{\"type\":\"field\",\"field\":\"x\"},\"width\":{\"type\":\"value\",\"value\":0.9},\"top\":{\"type\":\"field\",\"field\":\"mean_cpu\"},\"line_color\":{\"type\":\"field\",\"field\":\"mean_mem_bound\",\"transform\":{\"id\":\"p37444\"}},\"line_alpha\":{\"type\":\"value\",\"value\":0.2},\"fill_color\":{\"type\":\"field\",\"field\":\"mean_mem_bound\",\"transform\":{\"id\":\"p37444\"}},\"fill_alpha\":{\"type\":\"value\",\"value\":0.2},\"hatch_color\":{\"type\":\"field\",\"field\":\"mean_mem_bound\",\"transform\":{\"id\":\"p37444\"}},\"hatch_alpha\":{\"type\":\"value\",\"value\":0.2}}}}},{\"type\":\"object\",\"name\":\"GlyphRenderer\",\"id\":\"p37475\",\"attributes\":{\"y_range_name\":\"percentage\",\"data_source\":{\"id\":\"p37393\"},\"view\":{\"type\":\"object\",\"name\":\"CDSView\",\"id\":\"p37476\",\"attributes\":{\"filter\":{\"type\":\"object\",\"name\":\"AllIndices\",\"id\":\"p37477\"}}},\"glyph\":{\"type\":\"object\",\"name\":\"Scatter\",\"id\":\"p37472\",\"attributes\":{\"x\":{\"type\":\"field\",\"field\":\"x\"},\"y\":{\"type\":\"field\",\"field\":\"cumperc_makespan\"},\"size\":{\"type\":\"value\",\"value\":15},\"line_color\":{\"type\":\"value\",\"value\":\"lightgreen\"},\"fill_color\":{\"type\":\"value\",\"value\":\"lightgreen\"},\"hatch_color\":{\"type\":\"value\",\"value\":\"lightgreen\"}}},\"nonselection_glyph\":{\"type\":\"object\",\"name\":\"Scatter\",\"id\":\"p37473\",\"attributes\":{\"x\":{\"type\":\"field\",\"field\":\"x\"},\"y\":{\"type\":\"field\",\"field\":\"cumperc_makespan\"},\"size\":{\"type\":\"value\",\"value\":15},\"line_color\":{\"type\":\"value\",\"value\":\"lightgreen\"},\"line_alpha\":{\"type\":\"value\",\"value\":0.1},\"fill_color\":{\"type\":\"value\",\"value\":\"lightgreen\"},\"fill_alpha\":{\"type\":\"value\",\"value\":0.1},\"hatch_color\":{\"type\":\"value\",\"value\":\"lightgreen\"},\"hatch_alpha\":{\"type\":\"value\",\"value\":0.1}}},\"muted_glyph\":{\"type\":\"object\",\"name\":\"Scatter\",\"id\":\"p37474\",\"attributes\":{\"x\":{\"type\":\"field\",\"field\":\"x\"},\"y\":{\"type\":\"field\",\"field\":\"cumperc_makespan\"},\"size\":{\"type\":\"value\",\"value\":15},\"line_color\":{\"type\":\"value\",\"value\":\"lightgreen\"},\"line_alpha\":{\"type\":\"value\",\"value\":0.2},\"fill_color\":{\"type\":\"value\",\"value\":\"lightgreen\"},\"fill_alpha\":{\"type\":\"value\",\"value\":0.2},\"hatch_color\":{\"type\":\"value\",\"value\":\"lightgreen\"},\"hatch_alpha\":{\"type\":\"value\",\"value\":0.2}}}}}],\"toolbar\":{\"type\":\"object\",\"name\":\"Toolbar\",\"id\":\"p37406\",\"attributes\":{\"tools\":[{\"type\":\"object\",\"name\":\"PanTool\",\"id\":\"p37427\"},{\"type\":\"object\",\"name\":\"WheelZoomTool\",\"id\":\"p37428\"},{\"type\":\"object\",\"name\":\"BoxZoomTool\",\"id\":\"p37429\",\"attributes\":{\"overlay\":{\"type\":\"object\",\"name\":\"BoxAnnotation\",\"id\":\"p37430\",\"attributes\":{\"syncable\":false,\"level\":\"overlay\",\"visible\":false,\"left_units\":\"canvas\",\"right_units\":\"canvas\",\"bottom_units\":\"canvas\",\"top_units\":\"canvas\",\"line_color\":\"black\",\"line_alpha\":1.0,\"line_width\":2,\"line_dash\":[4,4],\"fill_color\":\"lightgrey\",\"fill_alpha\":0.5}}}},{\"type\":\"object\",\"name\":\"SaveTool\",\"id\":\"p37431\"},{\"type\":\"object\",\"name\":\"ResetTool\",\"id\":\"p37432\"},{\"type\":\"object\",\"name\":\"HelpTool\",\"id\":\"p37433\"},{\"type\":\"object\",\"name\":\"HoverTool\",\"id\":\"p37442\",\"attributes\":{\"renderers\":\"auto\",\"tooltips\":[[\"Module\",\"@module\"],[\"Function\",\"@func\"],[\"Makespan contribution\",\"@perc_makespan{1.1}%\"],[\"Makespan contribution (cumulative)\",\"@cumperc_makespan{1.1}%\"],[\"CPU Time (mean \\u00b1 std)\",\"@mean_cpu{1.11} \\u00b1 @std_cpu{1.11}\"],[\"% of memory bound (mean \\u00b1 std)\",\"@mean_mem_bound{1.11} \\u00b1 @std_mem_bound{1.11}\"],[\"% of FP ops (mean \\u00b1 std)\",\"@mean_fp{1.11} \\u00b1 @std_fp{1.11}\"]]}}]}},\"toolbar_location\":null,\"left\":[{\"type\":\"object\",\"name\":\"LinearAxis\",\"id\":\"p37420\",\"attributes\":{\"ticker\":{\"type\":\"object\",\"name\":\"BasicTicker\",\"id\":\"p37421\",\"attributes\":{\"mantissas\":[1,2,5]}},\"formatter\":{\"type\":\"object\",\"name\":\"BasicTickFormatter\",\"id\":\"p37422\"},\"major_label_policy\":{\"type\":\"object\",\"name\":\"AllLabels\",\"id\":\"p37423\"}}},{\"type\":\"object\",\"name\":\"ColorBar\",\"id\":\"p37445\",\"attributes\":{\"location\":[0,0],\"title\":\"% of memory bound\",\"major_label_policy\":{\"type\":\"object\",\"name\":\"NoOverlap\",\"id\":\"p37446\"},\"label_standoff\":14,\"color_mapper\":{\"id\":\"p37444\"}}}],\"right\":[{\"type\":\"object\",\"name\":\"LinearAxis\",\"id\":\"p37465\",\"attributes\":{\"y_range_name\":\"percentage\",\"ticker\":{\"type\":\"object\",\"name\":\"BasicTicker\",\"id\":\"p37466\",\"attributes\":{\"mantissas\":[1,2,5]}},\"formatter\":{\"type\":\"object\",\"name\":\"BasicTickFormatter\",\"id\":\"p37467\"},\"major_label_policy\":{\"type\":\"object\",\"name\":\"AllLabels\",\"id\":\"p37468\"}}}],\"below\":[{\"type\":\"object\",\"name\":\"CategoricalAxis\",\"id\":\"p37414\",\"attributes\":{\"ticker\":{\"type\":\"object\",\"name\":\"CategoricalTicker\",\"id\":\"p37415\"},\"formatter\":{\"type\":\"object\",\"name\":\"CategoricalTickFormatter\",\"id\":\"p37416\"},\"major_label_orientation\":0.39269908169872414,\"major_label_policy\":{\"type\":\"object\",\"name\":\"AllLabels\",\"id\":\"p37417\"},\"separator_line_alpha\":0,\"group_label_orientation\":0.39269908169872414}}],\"center\":[{\"type\":\"object\",\"name\":\"Grid\",\"id\":\"p37419\",\"attributes\":{\"axis\":{\"id\":\"p37414\"},\"grid_line_color\":null}},{\"type\":\"object\",\"name\":\"Grid\",\"id\":\"p37426\",\"attributes\":{\"dimension\":1,\"axis\":{\"id\":\"p37420\"}}},{\"type\":\"object\",\"name\":\"Whisker\",\"id\":\"p37456\",\"attributes\":{\"level\":\"annotation\",\"source\":{\"id\":\"p37393\"},\"lower\":{\"type\":\"field\",\"field\":\"std_lower_cpu\"},\"lower_head\":{\"type\":\"object\",\"name\":\"TeeHead\",\"id\":\"p37461\",\"attributes\":{\"size\":{\"type\":\"value\",\"value\":20}}},\"upper\":{\"type\":\"field\",\"field\":\"std_upper_cpu\"},\"upper_head\":{\"type\":\"object\",\"name\":\"TeeHead\",\"id\":\"p37460\",\"attributes\":{\"size\":{\"type\":\"value\",\"value\":20}}},\"base\":{\"type\":\"field\",\"field\":\"x\"},\"line_width\":{\"type\":\"value\",\"value\":2}}}]}}]}};\n  const render_items = [{\"docid\":\"7c81afde-156b-4236-ba0c-57bfa74d4ead\",\"roots\":{\"p37397\":\"ca6e5463-27f3-43ae-8837-04d69f3ac2c4\"},\"root_ids\":[\"p37397\"]}];\n  root.Bokeh.embed.embed_items_notebook(docs_json, render_items);\n  }\n  if (root.Bokeh !== undefined) {\n    embed_document(root);\n  } else {\n    let attempts = 0;\n    const timer = setInterval(function(root) {\n      if (root.Bokeh !== undefined) {\n        clearInterval(timer);\n        embed_document(root);\n      } else {\n        attempts++;\n        if (attempts > 100) {\n          clearInterval(timer);\n          console.log(\"Bokeh: ERROR: Unable to run BokehJS code because BokehJS library is missing\");\n        }\n      }\n    }, 10, root)\n  }\n})(window);",
      "application/vnd.bokehjs_exec.v0+json": ""
     },
     "metadata": {
      "application/vnd.bokehjs_exec.v0+json": {
       "id": "p37397"
      }
     },
     "output_type": "display_data"
    },
    {
     "name": "stdout",
     "output_type": "stream",
     "text": [
      "           clean_module                                                                                   clean_func    mean_cpu    std_cpu\n",
      "1   libantsUtilities.so                         itk::VectorLinearInterpolateImageFunction::EvaluateAtContinuousIndex  574.707728   4.523207\n",
      "2   libantsUtilities.so                                       itk::LinearInterpolateImageFunction::EvaluateOptimized  474.175811  59.068021\n",
      "3   libantsUtilities.so                                              itk::DisplacementFieldTransform::TransformPoint  264.736469   2.855136\n",
      "4   libantsUtilities.so  itk::MattesMutualInformationImageToImageMetricv4GetValueAndDerivativeThreader::ProcessPoint   97.941218  15.809979\n",
      "5   libantsUtilities.so                                                                       itk::Matrix::operator*   95.026164  42.317363\n",
      "6   libantsUtilities.so             itk::CompositeTransform::ComputeJacobianWithRespectToParametersCachedTemporaries   78.394146  13.741931\n",
      "7   libantsUtilities.so                                               itk::MatrixOffsetTransformBase::TransformPoint   77.865657  10.864707\n",
      "8   libantsUtilities.so                                   itk::ImageToImageMetricv4::TransformAndEvaluateMovingPoint   70.492624   3.062067\n",
      "9   libantsUtilities.so                                                                               itk::ImageBase   60.575521  74.431038\n",
      "10  libantsUtilities.so                               itk::LinearInterpolateImageFunction::EvaluateAtContinuousIndex   59.253026   4.542722\n"
     ]
    },
    {
     "data": {
      "text/html": [
       "\n",
       "  <div id=\"ee9d3a6b-2f61-4d6c-886d-7b6c8e33931d\" data-root-id=\"p38661\" style=\"display: contents;\"></div>\n"
      ]
     },
     "metadata": {},
     "output_type": "display_data"
    },
    {
     "data": {
      "application/javascript": "(function(root) {\n  function embed_document(root) {\n  const docs_json = {\"24236679-6bab-4a35-a170-75229d0a1266\":{\"version\":\"3.0.3\",\"title\":\"Bokeh Application\",\"defs\":[],\"roots\":[{\"type\":\"object\",\"name\":\"Figure\",\"id\":\"p38661\",\"attributes\":{\"width\":1200,\"x_range\":{\"type\":\"object\",\"name\":\"FactorRange\",\"id\":\"p38660\",\"attributes\":{\"factors\":[[\"libantsUtilities.so\",\"1\"],[\"libantsUtilities.so\",\"2\"],[\"libantsUtilities.so\",\"3\"],[\"libantsUtilities.so\",\"4\"],[\"libantsUtilities.so\",\"5\"],[\"libantsUtilities.so\",\"6\"],[\"libantsUtilities.so\",\"7\"],[\"libantsUtilities.so\",\"8\"],[\"libantsUtilities.so\",\"9\"],[\"libantsUtilities.so\",\"10\"],[\"libantsUtilities.so\",\"11\"],[\"libantsUtilities.so\",\"12\"],[\"libantsUtilities.so\",\"13\"],[\"libantsUtilities.so\",\"14\"]],\"range_padding\":0.1}},\"y_range\":{\"type\":\"object\",\"name\":\"DataRange1d\",\"id\":\"p38663\",\"attributes\":{\"end\":2000}},\"x_scale\":{\"type\":\"object\",\"name\":\"CategoricalScale\",\"id\":\"p38674\"},\"y_scale\":{\"type\":\"object\",\"name\":\"LinearScale\",\"id\":\"p38676\"},\"extra_y_ranges\":{\"type\":\"map\",\"entries\":[[\"percentage\",{\"type\":\"object\",\"name\":\"Range1d\",\"id\":\"p38728\",\"attributes\":{\"end\":100}}]]},\"title\":{\"type\":\"object\",\"name\":\"Title\",\"id\":\"p38664\",\"attributes\":{\"text\":\"Avg. CPU Time: ants.registrationSyN\"}},\"renderers\":[{\"type\":\"object\",\"name\":\"GlyphRenderer\",\"id\":\"p38717\",\"attributes\":{\"data_source\":{\"type\":\"object\",\"name\":\"ColumnDataSource\",\"id\":\"p38657\",\"attributes\":{\"selected\":{\"type\":\"object\",\"name\":\"Selection\",\"id\":\"p38658\",\"attributes\":{\"indices\":[],\"line_indices\":[]}},\"selection_policy\":{\"type\":\"object\",\"name\":\"UnionRenderers\",\"id\":\"p38659\"},\"data\":{\"type\":\"map\",\"entries\":[[\"x\",[[\"libantsUtilities.so\",\"1\"],[\"libantsUtilities.so\",\"2\"],[\"libantsUtilities.so\",\"3\"],[\"libantsUtilities.so\",\"4\"],[\"libantsUtilities.so\",\"5\"],[\"libantsUtilities.so\",\"6\"],[\"libantsUtilities.so\",\"7\"],[\"libantsUtilities.so\",\"8\"],[\"libantsUtilities.so\",\"9\"],[\"libantsUtilities.so\",\"10\"],[\"libantsUtilities.so\",\"11\"],[\"libantsUtilities.so\",\"12\"],[\"libantsUtilities.so\",\"13\"],[\"libantsUtilities.so\",\"14\"]]],[\"module\",{\"type\":\"ndarray\",\"array\":[\"libantsUtilities.so\",\"libantsUtilities.so\",\"libantsUtilities.so\",\"libantsUtilities.so\",\"libantsUtilities.so\",\"libantsUtilities.so\",\"libantsUtilities.so\",\"libantsUtilities.so\",\"libantsUtilities.so\",\"libantsUtilities.so\",\"libantsUtilities.so\",\"libantsUtilities.so\",\"libantsUtilities.so\",\"libantsUtilities.so\"],\"shape\":[14],\"dtype\":\"object\",\"order\":\"little\"}],[\"func\",{\"type\":\"ndarray\",\"array\":[\"itk::VectorLinearInterpolateImageFunction::EvaluateAtContinuousIndex\",\"itk::LinearInterpolateImageFunction::EvaluateOptimized\",\"itk::DisplacementFieldTransform::TransformPoint\",\"itk::ImageToImageMetricv4::TransformAndEvaluateFixedPoint\",\"itk::ANTSNeighborhoodCorrelationImageToImageMetricv4GetValueAndDerivativeThreader::UpdateQueuesToNextScanWindow\",\"itk::ImageBase\",\"itk::Image::GetPixel\",\"itk::ConstNeighborhoodIterator::operator++\",\"itk::ImageToImageMetricv4::TransformAndEvaluateMovingPoint\",\"itk::ImageFunction::IsInsideBuffer\",\"itk::Matrix::operator*\",\"itk::VectorNeighborhoodInnerProduct::operator()\",\"itk::LinearInterpolateImageFunction::EvaluateAtContinuousIndex\",\"itk::ConstNeighborhoodIterator::IndexInBounds\"],\"shape\":[14],\"dtype\":\"object\",\"order\":\"little\"}],[\"perc_makespan\",{\"type\":\"ndarray\",\"array\":{\"type\":\"bytes\",\"data\":\"ROZRTE2+PEDKxE1Aky0mQI12xv009CJAWOKr+ZZKEkBcI62F1YYLQJ6wSvsJPQtAphjwi/S5CEBYHRF+vvwFQIPAsabPlQNAIWbThQ4AAkDcaG7yCe4BQJIpOmOU+gBAycCTiZjY/j8sTz26GzD5Pw==\"},\"shape\":[14],\"dtype\":\"float64\",\"order\":\"little\"}],[\"cumperc_makespan\",{\"type\":\"ndarray\",\"array\":{\"type\":\"bytes\",\"data\":\"ROZRTE2+PEBUZDx2i+pDQPcBrrWYp0hAQn7jlOvwSkB4UD7tWKlMQIL78owpXU5ADP2x1cjoT0Bxh8leSqRQQHUV/9v4QFFAprAtUPnQUUDtI8GfaWBSQDr12kI+6FJAPUQBpaBjU0B6OeoTYchTQA==\"},\"shape\":[14],\"dtype\":\"float64\",\"order\":\"little\"}],[\"mean_cpu\",{\"type\":\"ndarray\",\"array\":{\"type\":\"bytes\",\"data\":\"za1dpr+9lUA+9KuPdsaAQEN4xj1TrHxAombAQLura0BbPCJHKNJkQNtSFeZWmmRAumwgyOqzYkA+oZwbh6FgQL0yRPrLoF1Aynddtvo6W0BxO4/luB9bQGoBF/5rr1lAKwfwsOhUV0DJdyl1SQ1TQA==\"},\"shape\":[14],\"dtype\":\"float64\",\"order\":\"little\"}],[\"std_cpu\",{\"type\":\"ndarray\",\"array\":{\"type\":\"bytes\",\"data\":\"zRgv1DjdVUAgAYHwoRREQJLGhJVnLjtA+GImIgIuLUAsgCPJ7wMnQFhNMCXVamhAl5yeCxiqOEAUjEaUPoUhQPbin/eWTCFAQSkRVhnpW0CaE3NZ1k5bQMH0ARdtiiRAC5+PKhIIE0ANcgoKtBw2QA==\"},\"shape\":[14],\"dtype\":\"float64\",\"order\":\"little\"}],[\"std_lower_cpu\",{\"type\":\"ndarray\",\"array\":{\"type\":\"bytes\",\"data\":\"QLwaGexflEBYyEfhWAp/QNorbsRs+XpAcgCeHtvYaUBYBJBK6WFjQOjT1/jxgz7ATjJZjU89X0D6cLBkZhJfQF42UBs5d1tA4C529tPDBcCAFOzxuY7nv9LCNlseHldAOg1HjmckVkCMtk3lOAxLQA==\"},\"shape\":[14],\"dtype\":\"float64\",\"order\":\"little\"}],[\"std_upper_cpu\",{\"type\":\"ndarray\",\"array\":{\"type\":\"bytes\",\"data\":\"Wp+gM5Mbl0BQBLSuwAeCQKzEHrc5X35A0sziYpt+bUBedLRDZ0JmQBrQogWWgnZATUCUyS3JZUD/CeEE27lhQBwvONleyl9AhlA3BgqSa0CGJ4GfRzdrQAJA96C5QFxAHAGZ02mFWEBMFKx3dpRYQA==\"},\"shape\":[14],\"dtype\":\"float64\",\"order\":\"little\"}],[\"mean_mem_bound\",{\"type\":\"ndarray\",\"array\":{\"type\":\"bytes\",\"data\":\"aleidiVqMUDwQPwOxO88QDoal6NxOTFA+B2I34F4OEB5G5K3IXkoQLxU5e6HGCpA+Iqv+IqvGUDrVKxOxeoIQDQzMzMzszBAqIM6qIOKIkBpSQqMj5YnQPwOxO9A/CVAOB+D8zE4JEBtSN6G5G0aQA==\"},\"shape\":[14],\"dtype\":\"float64\",\"order\":\"little\"}],[\"std_mem_bound\",{\"type\":\"ndarray\",\"array\":{\"type\":\"bytes\",\"data\":\"5mU3t3AN9T/uXUQ3DXkDQK6ARVdITPU/edizQB4tAkDlZS+ARIn3P11/jvEmQyFAJifrZZFa+T9k8jZJxlXqPyooh/jFEAFAwQtYHHPxHkBN8PwnuI0lQKLs29C5uO4/8EyHe83e9T8IdAYsaqwDQA==\"},\"shape\":[14],\"dtype\":\"float64\",\"order\":\"little\"}],[\"mean_fp\",{\"type\":\"ndarray\",\"array\":{\"type\":\"bytes\",\"data\":\"Z2F6FqZnK0CsTsXqVCw5QFSxOhWrUzZA1qlYnYrVK0BwPgbnY/AxQIkyBRN8mjVA+xOwPwH7wz+bmZmZmZm5PwAAAAAAADRAfWPHN3Z8OECrJ/4LsvoRQDI4H4PzMR5AA/E7EL8DTEDI4HwMzsfgPw==\"},\"shape\":[14],\"dtype\":\"float64\",\"order\":\"little\"}],[\"std_fp\",{\"type\":\"ndarray\",\"array\":{\"type\":\"bytes\",\"data\":\"q/Jgf0LWyT8fiky6T5fqP+aUNKR/2+A/VGiZZe5I3z/7WTbEpmzgP87ZM+ZR7SdA9T5otUtlrj/SwTKQZdSjPwEPFl7jv+k/fV9fZgFuNECBYqgFoqMRQNjiTFfcG9I/GmEOXifv+z/IgR5DNTvYPw==\"},\"shape\":[14],\"dtype\":\"float64\",\"order\":\"little\"}]]}}},\"view\":{\"type\":\"object\",\"name\":\"CDSView\",\"id\":\"p38718\",\"attributes\":{\"filter\":{\"type\":\"object\",\"name\":\"AllIndices\",\"id\":\"p38719\"}}},\"glyph\":{\"type\":\"object\",\"name\":\"VBar\",\"id\":\"p38714\",\"attributes\":{\"x\":{\"type\":\"field\",\"field\":\"x\"},\"width\":{\"type\":\"value\",\"value\":0.9},\"top\":{\"type\":\"field\",\"field\":\"mean_cpu\"},\"line_color\":{\"type\":\"field\",\"field\":\"mean_mem_bound\",\"transform\":{\"type\":\"object\",\"name\":\"LinearColorMapper\",\"id\":\"p38708\",\"attributes\":{\"palette\":[\"#0C0786\",\"#100787\",\"#130689\",\"#15068A\",\"#18068B\",\"#1B068C\",\"#1D068D\",\"#1F058E\",\"#21058F\",\"#230590\",\"#250591\",\"#270592\",\"#290593\",\"#2B0594\",\"#2D0494\",\"#2F0495\",\"#310496\",\"#330497\",\"#340498\",\"#360498\",\"#380499\",\"#3A049A\",\"#3B039A\",\"#3D039B\",\"#3F039C\",\"#40039C\",\"#42039D\",\"#44039E\",\"#45039E\",\"#47029F\",\"#49029F\",\"#4A02A0\",\"#4C02A1\",\"#4E02A1\",\"#4F02A2\",\"#5101A2\",\"#5201A3\",\"#5401A3\",\"#5601A3\",\"#5701A4\",\"#5901A4\",\"#5A00A5\",\"#5C00A5\",\"#5E00A5\",\"#5F00A6\",\"#6100A6\",\"#6200A6\",\"#6400A7\",\"#6500A7\",\"#6700A7\",\"#6800A7\",\"#6A00A7\",\"#6C00A8\",\"#6D00A8\",\"#6F00A8\",\"#7000A8\",\"#7200A8\",\"#7300A8\",\"#7500A8\",\"#7601A8\",\"#7801A8\",\"#7901A8\",\"#7B02A8\",\"#7C02A7\",\"#7E03A7\",\"#7F03A7\",\"#8104A7\",\"#8204A7\",\"#8405A6\",\"#8506A6\",\"#8607A6\",\"#8807A5\",\"#8908A5\",\"#8B09A4\",\"#8C0AA4\",\"#8E0CA4\",\"#8F0DA3\",\"#900EA3\",\"#920FA2\",\"#9310A1\",\"#9511A1\",\"#9612A0\",\"#9713A0\",\"#99149F\",\"#9A159E\",\"#9B179E\",\"#9D189D\",\"#9E199C\",\"#9F1A9B\",\"#A01B9B\",\"#A21C9A\",\"#A31D99\",\"#A41E98\",\"#A51F97\",\"#A72197\",\"#A82296\",\"#A92395\",\"#AA2494\",\"#AC2593\",\"#AD2692\",\"#AE2791\",\"#AF2890\",\"#B02A8F\",\"#B12B8F\",\"#B22C8E\",\"#B42D8D\",\"#B52E8C\",\"#B62F8B\",\"#B7308A\",\"#B83289\",\"#B93388\",\"#BA3487\",\"#BB3586\",\"#BC3685\",\"#BD3784\",\"#BE3883\",\"#BF3982\",\"#C03B81\",\"#C13C80\",\"#C23D80\",\"#C33E7F\",\"#C43F7E\",\"#C5407D\",\"#C6417C\",\"#C7427B\",\"#C8447A\",\"#C94579\",\"#CA4678\",\"#CB4777\",\"#CC4876\",\"#CD4975\",\"#CE4A75\",\"#CF4B74\",\"#D04D73\",\"#D14E72\",\"#D14F71\",\"#D25070\",\"#D3516F\",\"#D4526E\",\"#D5536D\",\"#D6556D\",\"#D7566C\",\"#D7576B\",\"#D8586A\",\"#D95969\",\"#DA5A68\",\"#DB5B67\",\"#DC5D66\",\"#DC5E66\",\"#DD5F65\",\"#DE6064\",\"#DF6163\",\"#DF6262\",\"#E06461\",\"#E16560\",\"#E26660\",\"#E3675F\",\"#E3685E\",\"#E46A5D\",\"#E56B5C\",\"#E56C5B\",\"#E66D5A\",\"#E76E5A\",\"#E87059\",\"#E87158\",\"#E97257\",\"#EA7356\",\"#EA7455\",\"#EB7654\",\"#EC7754\",\"#EC7853\",\"#ED7952\",\"#ED7B51\",\"#EE7C50\",\"#EF7D4F\",\"#EF7E4E\",\"#F0804D\",\"#F0814D\",\"#F1824C\",\"#F2844B\",\"#F2854A\",\"#F38649\",\"#F38748\",\"#F48947\",\"#F48A47\",\"#F58B46\",\"#F58D45\",\"#F68E44\",\"#F68F43\",\"#F69142\",\"#F79241\",\"#F79341\",\"#F89540\",\"#F8963F\",\"#F8983E\",\"#F9993D\",\"#F99A3C\",\"#FA9C3B\",\"#FA9D3A\",\"#FA9F3A\",\"#FAA039\",\"#FBA238\",\"#FBA337\",\"#FBA436\",\"#FCA635\",\"#FCA735\",\"#FCA934\",\"#FCAA33\",\"#FCAC32\",\"#FCAD31\",\"#FDAF31\",\"#FDB030\",\"#FDB22F\",\"#FDB32E\",\"#FDB52D\",\"#FDB62D\",\"#FDB82C\",\"#FDB92B\",\"#FDBB2B\",\"#FDBC2A\",\"#FDBE29\",\"#FDC029\",\"#FDC128\",\"#FDC328\",\"#FDC427\",\"#FDC626\",\"#FCC726\",\"#FCC926\",\"#FCCB25\",\"#FCCC25\",\"#FCCE25\",\"#FBD024\",\"#FBD124\",\"#FBD324\",\"#FAD524\",\"#FAD624\",\"#FAD824\",\"#F9D924\",\"#F9DB24\",\"#F8DD24\",\"#F8DF24\",\"#F7E024\",\"#F7E225\",\"#F6E425\",\"#F6E525\",\"#F5E726\",\"#F5E926\",\"#F4EA26\",\"#F3EC26\",\"#F3EE26\",\"#F2F026\",\"#F2F126\",\"#F1F326\",\"#F0F525\",\"#F0F623\",\"#EFF821\"],\"low\":0,\"high\":100}}},\"fill_color\":{\"type\":\"field\",\"field\":\"mean_mem_bound\",\"transform\":{\"id\":\"p38708\"}},\"hatch_color\":{\"type\":\"field\",\"field\":\"mean_mem_bound\",\"transform\":{\"id\":\"p38708\"}}}},\"nonselection_glyph\":{\"type\":\"object\",\"name\":\"VBar\",\"id\":\"p38715\",\"attributes\":{\"x\":{\"type\":\"field\",\"field\":\"x\"},\"width\":{\"type\":\"value\",\"value\":0.9},\"top\":{\"type\":\"field\",\"field\":\"mean_cpu\"},\"line_color\":{\"type\":\"field\",\"field\":\"mean_mem_bound\",\"transform\":{\"id\":\"p38708\"}},\"line_alpha\":{\"type\":\"value\",\"value\":0.1},\"fill_color\":{\"type\":\"field\",\"field\":\"mean_mem_bound\",\"transform\":{\"id\":\"p38708\"}},\"fill_alpha\":{\"type\":\"value\",\"value\":0.1},\"hatch_color\":{\"type\":\"field\",\"field\":\"mean_mem_bound\",\"transform\":{\"id\":\"p38708\"}},\"hatch_alpha\":{\"type\":\"value\",\"value\":0.1}}},\"muted_glyph\":{\"type\":\"object\",\"name\":\"VBar\",\"id\":\"p38716\",\"attributes\":{\"x\":{\"type\":\"field\",\"field\":\"x\"},\"width\":{\"type\":\"value\",\"value\":0.9},\"top\":{\"type\":\"field\",\"field\":\"mean_cpu\"},\"line_color\":{\"type\":\"field\",\"field\":\"mean_mem_bound\",\"transform\":{\"id\":\"p38708\"}},\"line_alpha\":{\"type\":\"value\",\"value\":0.2},\"fill_color\":{\"type\":\"field\",\"field\":\"mean_mem_bound\",\"transform\":{\"id\":\"p38708\"}},\"fill_alpha\":{\"type\":\"value\",\"value\":0.2},\"hatch_color\":{\"type\":\"field\",\"field\":\"mean_mem_bound\",\"transform\":{\"id\":\"p38708\"}},\"hatch_alpha\":{\"type\":\"value\",\"value\":0.2}}}}},{\"type\":\"object\",\"name\":\"GlyphRenderer\",\"id\":\"p38739\",\"attributes\":{\"y_range_name\":\"percentage\",\"data_source\":{\"id\":\"p38657\"},\"view\":{\"type\":\"object\",\"name\":\"CDSView\",\"id\":\"p38740\",\"attributes\":{\"filter\":{\"type\":\"object\",\"name\":\"AllIndices\",\"id\":\"p38741\"}}},\"glyph\":{\"type\":\"object\",\"name\":\"Scatter\",\"id\":\"p38736\",\"attributes\":{\"x\":{\"type\":\"field\",\"field\":\"x\"},\"y\":{\"type\":\"field\",\"field\":\"cumperc_makespan\"},\"size\":{\"type\":\"value\",\"value\":15},\"line_color\":{\"type\":\"value\",\"value\":\"lightgreen\"},\"fill_color\":{\"type\":\"value\",\"value\":\"lightgreen\"},\"hatch_color\":{\"type\":\"value\",\"value\":\"lightgreen\"}}},\"nonselection_glyph\":{\"type\":\"object\",\"name\":\"Scatter\",\"id\":\"p38737\",\"attributes\":{\"x\":{\"type\":\"field\",\"field\":\"x\"},\"y\":{\"type\":\"field\",\"field\":\"cumperc_makespan\"},\"size\":{\"type\":\"value\",\"value\":15},\"line_color\":{\"type\":\"value\",\"value\":\"lightgreen\"},\"line_alpha\":{\"type\":\"value\",\"value\":0.1},\"fill_color\":{\"type\":\"value\",\"value\":\"lightgreen\"},\"fill_alpha\":{\"type\":\"value\",\"value\":0.1},\"hatch_color\":{\"type\":\"value\",\"value\":\"lightgreen\"},\"hatch_alpha\":{\"type\":\"value\",\"value\":0.1}}},\"muted_glyph\":{\"type\":\"object\",\"name\":\"Scatter\",\"id\":\"p38738\",\"attributes\":{\"x\":{\"type\":\"field\",\"field\":\"x\"},\"y\":{\"type\":\"field\",\"field\":\"cumperc_makespan\"},\"size\":{\"type\":\"value\",\"value\":15},\"line_color\":{\"type\":\"value\",\"value\":\"lightgreen\"},\"line_alpha\":{\"type\":\"value\",\"value\":0.2},\"fill_color\":{\"type\":\"value\",\"value\":\"lightgreen\"},\"fill_alpha\":{\"type\":\"value\",\"value\":0.2},\"hatch_color\":{\"type\":\"value\",\"value\":\"lightgreen\"},\"hatch_alpha\":{\"type\":\"value\",\"value\":0.2}}}}}],\"toolbar\":{\"type\":\"object\",\"name\":\"Toolbar\",\"id\":\"p38670\",\"attributes\":{\"tools\":[{\"type\":\"object\",\"name\":\"PanTool\",\"id\":\"p38691\"},{\"type\":\"object\",\"name\":\"WheelZoomTool\",\"id\":\"p38692\"},{\"type\":\"object\",\"name\":\"BoxZoomTool\",\"id\":\"p38693\",\"attributes\":{\"overlay\":{\"type\":\"object\",\"name\":\"BoxAnnotation\",\"id\":\"p38694\",\"attributes\":{\"syncable\":false,\"level\":\"overlay\",\"visible\":false,\"left_units\":\"canvas\",\"right_units\":\"canvas\",\"bottom_units\":\"canvas\",\"top_units\":\"canvas\",\"line_color\":\"black\",\"line_alpha\":1.0,\"line_width\":2,\"line_dash\":[4,4],\"fill_color\":\"lightgrey\",\"fill_alpha\":0.5}}}},{\"type\":\"object\",\"name\":\"SaveTool\",\"id\":\"p38695\"},{\"type\":\"object\",\"name\":\"ResetTool\",\"id\":\"p38696\"},{\"type\":\"object\",\"name\":\"HelpTool\",\"id\":\"p38697\"},{\"type\":\"object\",\"name\":\"HoverTool\",\"id\":\"p38706\",\"attributes\":{\"renderers\":\"auto\",\"tooltips\":[[\"Module\",\"@module\"],[\"Function\",\"@func\"],[\"Makespan contribution\",\"@perc_makespan{1.1}%\"],[\"Makespan contribution (cumulative)\",\"@cumperc_makespan{1.1}%\"],[\"CPU Time (mean \\u00b1 std)\",\"@mean_cpu{1.11} \\u00b1 @std_cpu{1.11}\"],[\"% of memory bound (mean \\u00b1 std)\",\"@mean_mem_bound{1.11} \\u00b1 @std_mem_bound{1.11}\"],[\"% of FP ops (mean \\u00b1 std)\",\"@mean_fp{1.11} \\u00b1 @std_fp{1.11}\"]]}}]}},\"toolbar_location\":null,\"left\":[{\"type\":\"object\",\"name\":\"LinearAxis\",\"id\":\"p38684\",\"attributes\":{\"ticker\":{\"type\":\"object\",\"name\":\"BasicTicker\",\"id\":\"p38685\",\"attributes\":{\"mantissas\":[1,2,5]}},\"formatter\":{\"type\":\"object\",\"name\":\"BasicTickFormatter\",\"id\":\"p38686\"},\"major_label_policy\":{\"type\":\"object\",\"name\":\"AllLabels\",\"id\":\"p38687\"}}},{\"type\":\"object\",\"name\":\"ColorBar\",\"id\":\"p38709\",\"attributes\":{\"location\":[0,0],\"title\":\"% of memory bound\",\"major_label_policy\":{\"type\":\"object\",\"name\":\"NoOverlap\",\"id\":\"p38710\"},\"label_standoff\":14,\"color_mapper\":{\"id\":\"p38708\"}}}],\"right\":[{\"type\":\"object\",\"name\":\"LinearAxis\",\"id\":\"p38729\",\"attributes\":{\"y_range_name\":\"percentage\",\"ticker\":{\"type\":\"object\",\"name\":\"BasicTicker\",\"id\":\"p38730\",\"attributes\":{\"mantissas\":[1,2,5]}},\"formatter\":{\"type\":\"object\",\"name\":\"BasicTickFormatter\",\"id\":\"p38731\"},\"major_label_policy\":{\"type\":\"object\",\"name\":\"AllLabels\",\"id\":\"p38732\"}}}],\"below\":[{\"type\":\"object\",\"name\":\"CategoricalAxis\",\"id\":\"p38678\",\"attributes\":{\"ticker\":{\"type\":\"object\",\"name\":\"CategoricalTicker\",\"id\":\"p38679\"},\"formatter\":{\"type\":\"object\",\"name\":\"CategoricalTickFormatter\",\"id\":\"p38680\"},\"major_label_orientation\":0.39269908169872414,\"major_label_policy\":{\"type\":\"object\",\"name\":\"AllLabels\",\"id\":\"p38681\"},\"separator_line_alpha\":0,\"group_label_orientation\":0.39269908169872414}}],\"center\":[{\"type\":\"object\",\"name\":\"Grid\",\"id\":\"p38683\",\"attributes\":{\"axis\":{\"id\":\"p38678\"},\"grid_line_color\":null}},{\"type\":\"object\",\"name\":\"Grid\",\"id\":\"p38690\",\"attributes\":{\"dimension\":1,\"axis\":{\"id\":\"p38684\"}}},{\"type\":\"object\",\"name\":\"Whisker\",\"id\":\"p38720\",\"attributes\":{\"level\":\"annotation\",\"source\":{\"id\":\"p38657\"},\"lower\":{\"type\":\"field\",\"field\":\"std_lower_cpu\"},\"lower_head\":{\"type\":\"object\",\"name\":\"TeeHead\",\"id\":\"p38725\",\"attributes\":{\"size\":{\"type\":\"value\",\"value\":20}}},\"upper\":{\"type\":\"field\",\"field\":\"std_upper_cpu\"},\"upper_head\":{\"type\":\"object\",\"name\":\"TeeHead\",\"id\":\"p38724\",\"attributes\":{\"size\":{\"type\":\"value\",\"value\":20}}},\"base\":{\"type\":\"field\",\"field\":\"x\"},\"line_width\":{\"type\":\"value\",\"value\":2}}}]}}]}};\n  const render_items = [{\"docid\":\"24236679-6bab-4a35-a170-75229d0a1266\",\"roots\":{\"p38661\":\"ee9d3a6b-2f61-4d6c-886d-7b6c8e33931d\"},\"root_ids\":[\"p38661\"]}];\n  root.Bokeh.embed.embed_items_notebook(docs_json, render_items);\n  }\n  if (root.Bokeh !== undefined) {\n    embed_document(root);\n  } else {\n    let attempts = 0;\n    const timer = setInterval(function(root) {\n      if (root.Bokeh !== undefined) {\n        clearInterval(timer);\n        embed_document(root);\n      } else {\n        attempts++;\n        if (attempts > 100) {\n          clearInterval(timer);\n          console.log(\"Bokeh: ERROR: Unable to run BokehJS code because BokehJS library is missing\");\n        }\n      }\n    }, 10, root)\n  }\n})(window);",
      "application/vnd.bokehjs_exec.v0+json": ""
     },
     "metadata": {
      "application/vnd.bokehjs_exec.v0+json": {
       "id": "p38661"
      }
     },
     "output_type": "display_data"
    },
    {
     "name": "stdout",
     "output_type": "stream",
     "text": [
      "           clean_module                                                                                                       clean_func     mean_cpu     std_cpu\n",
      "1   libantsUtilities.so                                             itk::VectorLinearInterpolateImageFunction::EvaluateAtContinuousIndex  1391.437158   87.456594\n",
      "2   libantsUtilities.so                                                           itk::LinearInterpolateImageFunction::EvaluateOptimized   536.807891   40.161192\n",
      "3   libantsUtilities.so                                                                  itk::DisplacementFieldTransform::TransformPoint   458.770323   27.181268\n",
      "4   libantsUtilities.so                                                        itk::ImageToImageMetricv4::TransformAndEvaluateFixedPoint   221.366608   14.589860\n",
      "5   libantsUtilities.so  itk::ANTSNeighborhoodCorrelationImageToImageMetricv4GetValueAndDerivativeThreader::UpdateQueuesToNextScanWindow   166.567417   11.507689\n",
      "6   libantsUtilities.so                                                                                                   itk::ImageBase   164.823108  195.338519\n",
      "7   libantsUtilities.so                                                                                             itk::Image::GetPixel   149.622410   24.664429\n",
      "8   libantsUtilities.so                                                                       itk::ConstNeighborhoodIterator::operator++   133.047743    8.760243\n",
      "9   libantsUtilities.so                                                       itk::ImageToImageMetricv4::TransformAndEvaluateMovingPoint   118.512450    8.649589\n",
      "10  libantsUtilities.so                                                                               itk::ImageFunction::IsInsideBuffer   108.921552  111.642171\n"
     ]
    },
    {
     "data": {
      "text/html": [
       "\n",
       "  <div id=\"78dee1fe-da37-4775-8607-b632ba1521ff\" data-root-id=\"p39947\" style=\"display: contents;\"></div>\n"
      ]
     },
     "metadata": {},
     "output_type": "display_data"
    },
    {
     "data": {
      "application/javascript": "(function(root) {\n  function embed_document(root) {\n  const docs_json = {\"4f73145e-c5c2-4436-ae57-d66ca34c253d\":{\"version\":\"3.0.3\",\"title\":\"Bokeh Application\",\"defs\":[],\"roots\":[{\"type\":\"object\",\"name\":\"Figure\",\"id\":\"p39947\",\"attributes\":{\"width\":1200,\"x_range\":{\"type\":\"object\",\"name\":\"FactorRange\",\"id\":\"p39946\",\"attributes\":{\"factors\":[[\"libantsUtilities.so\",\"1\"],[\"libantsUtilities.so\",\"2\"],[\"libantsUtilities.so\",\"3\"],[\"libantsUtilities.so\",\"4\"],[\"libantsUtilities.so\",\"5\"],[\"libantsUtilities.so\",\"6\"],[\"libantsUtilities.so\",\"7\"],[\"libantsUtilities.so\",\"8\"],[\"libantsUtilities.so\",\"9\"],[\"libantsUtilities.so\",\"10\"],[\"libantsUtilities.so\",\"11\"],[\"libantsUtilities.so\",\"12\"]],\"range_padding\":0.1}},\"y_range\":{\"type\":\"object\",\"name\":\"DataRange1d\",\"id\":\"p39949\",\"attributes\":{\"end\":2000}},\"x_scale\":{\"type\":\"object\",\"name\":\"CategoricalScale\",\"id\":\"p39960\"},\"y_scale\":{\"type\":\"object\",\"name\":\"LinearScale\",\"id\":\"p39962\"},\"extra_y_ranges\":{\"type\":\"map\",\"entries\":[[\"percentage\",{\"type\":\"object\",\"name\":\"Range1d\",\"id\":\"p40014\",\"attributes\":{\"end\":100}}]]},\"title\":{\"type\":\"object\",\"name\":\"Title\",\"id\":\"p39950\",\"attributes\":{\"text\":\"Avg. CPU Time: ants.registrationSyN-fp\"}},\"renderers\":[{\"type\":\"object\",\"name\":\"GlyphRenderer\",\"id\":\"p40003\",\"attributes\":{\"data_source\":{\"type\":\"object\",\"name\":\"ColumnDataSource\",\"id\":\"p39943\",\"attributes\":{\"selected\":{\"type\":\"object\",\"name\":\"Selection\",\"id\":\"p39944\",\"attributes\":{\"indices\":[],\"line_indices\":[]}},\"selection_policy\":{\"type\":\"object\",\"name\":\"UnionRenderers\",\"id\":\"p39945\"},\"data\":{\"type\":\"map\",\"entries\":[[\"x\",[[\"libantsUtilities.so\",\"1\"],[\"libantsUtilities.so\",\"2\"],[\"libantsUtilities.so\",\"3\"],[\"libantsUtilities.so\",\"4\"],[\"libantsUtilities.so\",\"5\"],[\"libantsUtilities.so\",\"6\"],[\"libantsUtilities.so\",\"7\"],[\"libantsUtilities.so\",\"8\"],[\"libantsUtilities.so\",\"9\"],[\"libantsUtilities.so\",\"10\"],[\"libantsUtilities.so\",\"11\"],[\"libantsUtilities.so\",\"12\"]]],[\"module\",{\"type\":\"ndarray\",\"array\":[\"libantsUtilities.so\",\"libantsUtilities.so\",\"libantsUtilities.so\",\"libantsUtilities.so\",\"libantsUtilities.so\",\"libantsUtilities.so\",\"libantsUtilities.so\",\"libantsUtilities.so\",\"libantsUtilities.so\",\"libantsUtilities.so\",\"libantsUtilities.so\",\"libantsUtilities.so\"],\"shape\":[12],\"dtype\":\"object\",\"order\":\"little\"}],[\"func\",{\"type\":\"ndarray\",\"array\":[\"itk::VectorLinearInterpolateImageFunction::EvaluateAtContinuousIndex\",\"itk::DisplacementFieldTransform::TransformPoint\",\"itk::LinearInterpolateImageFunction::EvaluateOptimized\",\"itk::ANTSNeighborhoodCorrelationImageToImageMetricv4GetValueAndDerivativeThreader::UpdateQueuesToNextScanWindow\",\"itk::ImageToImageMetricv4::TransformAndEvaluateMovingPoint\",\"itk::ImageBase\",\"itk::InterpolateImageFunction::Evaluate\",\"itk::ConstNeighborhoodIterator::operator++\",\"itk::ImageToImageMetricv4::TransformAndEvaluateFixedPoint\",\"itk::VectorNeighborhoodInnerProduct::operator()\",\"itk::LinearInterpolateImageFunction::EvaluateAtContinuousIndex\",\"itk::Matrix::operator*\"],\"shape\":[12],\"dtype\":\"object\",\"order\":\"little\"}],[\"perc_makespan\",{\"type\":\"ndarray\",\"array\":{\"type\":\"bytes\",\"data\":\"vPyx3SDrQEAymvmbwEguQFngWgG6UCJAMKNQt3O4EUDBF9HFulAGQGPy5KHjyAVAHoFdO/fiAEB+/b6y5ccAQBTvY1ZfEgBAN84AeCnT+z+CkdY0CUr7PyTCQagG8/k/\"},\"shape\":[12],\"dtype\":\"float64\",\"order\":\"little\"}],[\"cumperc_makespan\",{\"type\":\"ndarray\",\"array\":{\"type\":\"bytes\",\"data\":\"vPyx3SDrQEBIY7AEUX1IQF4bB4V/EU1AxC/x+41IT0CgICfUzFZQQDNINvETBVFAPDQRqyuMUUAoLKfYahJSQKFLWtP9klJA2k46eUoCU0AgqQ2ecm9TQCmwrrg+11NA\"},\"shape\":[12],\"dtype\":\"float64\",\"order\":\"little\"}],[\"mean_cpu\",{\"type\":\"ndarray\",\"array\":{\"type\":\"bytes\",\"data\":\"hj95DqNynECDrF3J/HWJQBrdQezsy35ARl9BmuHLbUC+r4D438JiQGcrP2WrUGJApf1qaelkXEBDBk2mZTdcQOte3WcrBltA99voratkV0BRBZJmYvFWQBWL1EEB0VVA\"},\"shape\":[12],\"dtype\":\"float64\",\"order\":\"little\"}],[\"std_cpu\",{\"type\":\"ndarray\",\"array\":{\"type\":\"bytes\",\"data\":\"1OGKKVWyT0AC1WKCilA8QFLvB8z0Wi9ATCTCGpddGkCKfWcnciwUQBP5wCYBCGZAk2B5laJ1EEBFbXqKF4sOQPevEKiHlgVAPd80O9+cCECgk4YzV0QUQBJNN1HlrlVA\"},\"shape\":[12],\"dtype\":\"float64\",\"order\":\"little\"}],[\"std_lower_cpu\",{\"type\":\"ndarray\",\"array\":{\"type\":\"bytes\",\"data\":\"d+gsZRB1m0DblUp1eJOIQJ+d4UUV0X1AJE5r4fT4bEDSc0VnfCFiQGBtDgyuuj3AnGcTQI9dW0DZMvnpDENbQGvZnCp3WVpA/TQPtMSfVkAXnFnzHK1VQIABn074DeE/\"},\"shape\":[12],\"dtype\":\"float64\",\"order\":\"little\"}],[\"std_upper_cpu\",{\"type\":\"ndarray\",\"array\":{\"type\":\"bytes\",\"data\":\"lZbFtzVwnUArw3AdgViKQJUcopLExn9AaHAXU86ebkCq67uJQ2RjQD0SAEZWLHRArpPCkkNsXUCt2aBivitdQGvkHaXfsltA8YLCp5IpWECLbsrZpzVYQBTshUnzv2VA\"},\"shape\":[12],\"dtype\":\"float64\",\"order\":\"little\"}],[\"mean_mem_bound\",{\"type\":\"ndarray\",\"array\":{\"type\":\"bytes\",\"data\":\"SOF6FK4HNkAAAAAAAHA7QDMzMzMz0zBAexSuR+F6DUC4HoXrUfgmQF9WQtWfhzFAXY/C9SjMPUBcj8L1KNwGQHE9CtejECJA61G4HoUrJkAAAAAAADA0QD/wAz/wMyRA\"},\"shape\":[12],\"dtype\":\"float64\",\"order\":\"little\"}],[\"std_mem_bound\",{\"type\":\"ndarray\",\"array\":{\"type\":\"bytes\",\"data\":\"lqQbTwjY4j/+xLd0WQHpPxyxaPIPr/k/8n/E6yB53T9RIqlw+Uf2P+cDIoJWnCxAr7gy73+D9z/8sNyE4NbrPx3n7sN7Z+w/YlgIiSwT8j+IjnxwUl0IQCwycVTzBxlA\"},\"shape\":[12],\"dtype\":\"float64\",\"order\":\"little\"}],[\"mean_fp\",{\"type\":\"ndarray\",\"array\":{\"type\":\"bytes\",\"data\":\"mpmZmZl5IkAehetRuB4sQB6F61G4PiBAzczMzMwMJUAqXI/C9WguQCodVounUjtA16NwPQovQECF61G4HoW7P+J6FK5HQTdAexSuR+H6HEBwPQrXozAbQPGwKL1MNBJA\"},\"shape\":[12],\"dtype\":\"float64\",\"order\":\"little\"}],[\"std_fp\",{\"type\":\"ndarray\",\"array\":{\"type\":\"bytes\",\"data\":\"rCUWhPfNvD9Roum/efjGP2TzSC8IDdY/zjt/Zp6g1j9g0pL253ngP7HzZUak/C1A5jr0EC0u7z+uV/B1SkmoP8KxEEuMQ+Q/f79qVxmdzz8kSSIJPDzoP568+bo8QRdA\"},\"shape\":[12],\"dtype\":\"float64\",\"order\":\"little\"}]]}}},\"view\":{\"type\":\"object\",\"name\":\"CDSView\",\"id\":\"p40004\",\"attributes\":{\"filter\":{\"type\":\"object\",\"name\":\"AllIndices\",\"id\":\"p40005\"}}},\"glyph\":{\"type\":\"object\",\"name\":\"VBar\",\"id\":\"p40000\",\"attributes\":{\"x\":{\"type\":\"field\",\"field\":\"x\"},\"width\":{\"type\":\"value\",\"value\":0.9},\"top\":{\"type\":\"field\",\"field\":\"mean_cpu\"},\"line_color\":{\"type\":\"field\",\"field\":\"mean_mem_bound\",\"transform\":{\"type\":\"object\",\"name\":\"LinearColorMapper\",\"id\":\"p39994\",\"attributes\":{\"palette\":[\"#0C0786\",\"#100787\",\"#130689\",\"#15068A\",\"#18068B\",\"#1B068C\",\"#1D068D\",\"#1F058E\",\"#21058F\",\"#230590\",\"#250591\",\"#270592\",\"#290593\",\"#2B0594\",\"#2D0494\",\"#2F0495\",\"#310496\",\"#330497\",\"#340498\",\"#360498\",\"#380499\",\"#3A049A\",\"#3B039A\",\"#3D039B\",\"#3F039C\",\"#40039C\",\"#42039D\",\"#44039E\",\"#45039E\",\"#47029F\",\"#49029F\",\"#4A02A0\",\"#4C02A1\",\"#4E02A1\",\"#4F02A2\",\"#5101A2\",\"#5201A3\",\"#5401A3\",\"#5601A3\",\"#5701A4\",\"#5901A4\",\"#5A00A5\",\"#5C00A5\",\"#5E00A5\",\"#5F00A6\",\"#6100A6\",\"#6200A6\",\"#6400A7\",\"#6500A7\",\"#6700A7\",\"#6800A7\",\"#6A00A7\",\"#6C00A8\",\"#6D00A8\",\"#6F00A8\",\"#7000A8\",\"#7200A8\",\"#7300A8\",\"#7500A8\",\"#7601A8\",\"#7801A8\",\"#7901A8\",\"#7B02A8\",\"#7C02A7\",\"#7E03A7\",\"#7F03A7\",\"#8104A7\",\"#8204A7\",\"#8405A6\",\"#8506A6\",\"#8607A6\",\"#8807A5\",\"#8908A5\",\"#8B09A4\",\"#8C0AA4\",\"#8E0CA4\",\"#8F0DA3\",\"#900EA3\",\"#920FA2\",\"#9310A1\",\"#9511A1\",\"#9612A0\",\"#9713A0\",\"#99149F\",\"#9A159E\",\"#9B179E\",\"#9D189D\",\"#9E199C\",\"#9F1A9B\",\"#A01B9B\",\"#A21C9A\",\"#A31D99\",\"#A41E98\",\"#A51F97\",\"#A72197\",\"#A82296\",\"#A92395\",\"#AA2494\",\"#AC2593\",\"#AD2692\",\"#AE2791\",\"#AF2890\",\"#B02A8F\",\"#B12B8F\",\"#B22C8E\",\"#B42D8D\",\"#B52E8C\",\"#B62F8B\",\"#B7308A\",\"#B83289\",\"#B93388\",\"#BA3487\",\"#BB3586\",\"#BC3685\",\"#BD3784\",\"#BE3883\",\"#BF3982\",\"#C03B81\",\"#C13C80\",\"#C23D80\",\"#C33E7F\",\"#C43F7E\",\"#C5407D\",\"#C6417C\",\"#C7427B\",\"#C8447A\",\"#C94579\",\"#CA4678\",\"#CB4777\",\"#CC4876\",\"#CD4975\",\"#CE4A75\",\"#CF4B74\",\"#D04D73\",\"#D14E72\",\"#D14F71\",\"#D25070\",\"#D3516F\",\"#D4526E\",\"#D5536D\",\"#D6556D\",\"#D7566C\",\"#D7576B\",\"#D8586A\",\"#D95969\",\"#DA5A68\",\"#DB5B67\",\"#DC5D66\",\"#DC5E66\",\"#DD5F65\",\"#DE6064\",\"#DF6163\",\"#DF6262\",\"#E06461\",\"#E16560\",\"#E26660\",\"#E3675F\",\"#E3685E\",\"#E46A5D\",\"#E56B5C\",\"#E56C5B\",\"#E66D5A\",\"#E76E5A\",\"#E87059\",\"#E87158\",\"#E97257\",\"#EA7356\",\"#EA7455\",\"#EB7654\",\"#EC7754\",\"#EC7853\",\"#ED7952\",\"#ED7B51\",\"#EE7C50\",\"#EF7D4F\",\"#EF7E4E\",\"#F0804D\",\"#F0814D\",\"#F1824C\",\"#F2844B\",\"#F2854A\",\"#F38649\",\"#F38748\",\"#F48947\",\"#F48A47\",\"#F58B46\",\"#F58D45\",\"#F68E44\",\"#F68F43\",\"#F69142\",\"#F79241\",\"#F79341\",\"#F89540\",\"#F8963F\",\"#F8983E\",\"#F9993D\",\"#F99A3C\",\"#FA9C3B\",\"#FA9D3A\",\"#FA9F3A\",\"#FAA039\",\"#FBA238\",\"#FBA337\",\"#FBA436\",\"#FCA635\",\"#FCA735\",\"#FCA934\",\"#FCAA33\",\"#FCAC32\",\"#FCAD31\",\"#FDAF31\",\"#FDB030\",\"#FDB22F\",\"#FDB32E\",\"#FDB52D\",\"#FDB62D\",\"#FDB82C\",\"#FDB92B\",\"#FDBB2B\",\"#FDBC2A\",\"#FDBE29\",\"#FDC029\",\"#FDC128\",\"#FDC328\",\"#FDC427\",\"#FDC626\",\"#FCC726\",\"#FCC926\",\"#FCCB25\",\"#FCCC25\",\"#FCCE25\",\"#FBD024\",\"#FBD124\",\"#FBD324\",\"#FAD524\",\"#FAD624\",\"#FAD824\",\"#F9D924\",\"#F9DB24\",\"#F8DD24\",\"#F8DF24\",\"#F7E024\",\"#F7E225\",\"#F6E425\",\"#F6E525\",\"#F5E726\",\"#F5E926\",\"#F4EA26\",\"#F3EC26\",\"#F3EE26\",\"#F2F026\",\"#F2F126\",\"#F1F326\",\"#F0F525\",\"#F0F623\",\"#EFF821\"],\"low\":0,\"high\":100}}},\"fill_color\":{\"type\":\"field\",\"field\":\"mean_mem_bound\",\"transform\":{\"id\":\"p39994\"}},\"hatch_color\":{\"type\":\"field\",\"field\":\"mean_mem_bound\",\"transform\":{\"id\":\"p39994\"}}}},\"nonselection_glyph\":{\"type\":\"object\",\"name\":\"VBar\",\"id\":\"p40001\",\"attributes\":{\"x\":{\"type\":\"field\",\"field\":\"x\"},\"width\":{\"type\":\"value\",\"value\":0.9},\"top\":{\"type\":\"field\",\"field\":\"mean_cpu\"},\"line_color\":{\"type\":\"field\",\"field\":\"mean_mem_bound\",\"transform\":{\"id\":\"p39994\"}},\"line_alpha\":{\"type\":\"value\",\"value\":0.1},\"fill_color\":{\"type\":\"field\",\"field\":\"mean_mem_bound\",\"transform\":{\"id\":\"p39994\"}},\"fill_alpha\":{\"type\":\"value\",\"value\":0.1},\"hatch_color\":{\"type\":\"field\",\"field\":\"mean_mem_bound\",\"transform\":{\"id\":\"p39994\"}},\"hatch_alpha\":{\"type\":\"value\",\"value\":0.1}}},\"muted_glyph\":{\"type\":\"object\",\"name\":\"VBar\",\"id\":\"p40002\",\"attributes\":{\"x\":{\"type\":\"field\",\"field\":\"x\"},\"width\":{\"type\":\"value\",\"value\":0.9},\"top\":{\"type\":\"field\",\"field\":\"mean_cpu\"},\"line_color\":{\"type\":\"field\",\"field\":\"mean_mem_bound\",\"transform\":{\"id\":\"p39994\"}},\"line_alpha\":{\"type\":\"value\",\"value\":0.2},\"fill_color\":{\"type\":\"field\",\"field\":\"mean_mem_bound\",\"transform\":{\"id\":\"p39994\"}},\"fill_alpha\":{\"type\":\"value\",\"value\":0.2},\"hatch_color\":{\"type\":\"field\",\"field\":\"mean_mem_bound\",\"transform\":{\"id\":\"p39994\"}},\"hatch_alpha\":{\"type\":\"value\",\"value\":0.2}}}}},{\"type\":\"object\",\"name\":\"GlyphRenderer\",\"id\":\"p40025\",\"attributes\":{\"y_range_name\":\"percentage\",\"data_source\":{\"id\":\"p39943\"},\"view\":{\"type\":\"object\",\"name\":\"CDSView\",\"id\":\"p40026\",\"attributes\":{\"filter\":{\"type\":\"object\",\"name\":\"AllIndices\",\"id\":\"p40027\"}}},\"glyph\":{\"type\":\"object\",\"name\":\"Scatter\",\"id\":\"p40022\",\"attributes\":{\"x\":{\"type\":\"field\",\"field\":\"x\"},\"y\":{\"type\":\"field\",\"field\":\"cumperc_makespan\"},\"size\":{\"type\":\"value\",\"value\":15},\"line_color\":{\"type\":\"value\",\"value\":\"lightgreen\"},\"fill_color\":{\"type\":\"value\",\"value\":\"lightgreen\"},\"hatch_color\":{\"type\":\"value\",\"value\":\"lightgreen\"}}},\"nonselection_glyph\":{\"type\":\"object\",\"name\":\"Scatter\",\"id\":\"p40023\",\"attributes\":{\"x\":{\"type\":\"field\",\"field\":\"x\"},\"y\":{\"type\":\"field\",\"field\":\"cumperc_makespan\"},\"size\":{\"type\":\"value\",\"value\":15},\"line_color\":{\"type\":\"value\",\"value\":\"lightgreen\"},\"line_alpha\":{\"type\":\"value\",\"value\":0.1},\"fill_color\":{\"type\":\"value\",\"value\":\"lightgreen\"},\"fill_alpha\":{\"type\":\"value\",\"value\":0.1},\"hatch_color\":{\"type\":\"value\",\"value\":\"lightgreen\"},\"hatch_alpha\":{\"type\":\"value\",\"value\":0.1}}},\"muted_glyph\":{\"type\":\"object\",\"name\":\"Scatter\",\"id\":\"p40024\",\"attributes\":{\"x\":{\"type\":\"field\",\"field\":\"x\"},\"y\":{\"type\":\"field\",\"field\":\"cumperc_makespan\"},\"size\":{\"type\":\"value\",\"value\":15},\"line_color\":{\"type\":\"value\",\"value\":\"lightgreen\"},\"line_alpha\":{\"type\":\"value\",\"value\":0.2},\"fill_color\":{\"type\":\"value\",\"value\":\"lightgreen\"},\"fill_alpha\":{\"type\":\"value\",\"value\":0.2},\"hatch_color\":{\"type\":\"value\",\"value\":\"lightgreen\"},\"hatch_alpha\":{\"type\":\"value\",\"value\":0.2}}}}}],\"toolbar\":{\"type\":\"object\",\"name\":\"Toolbar\",\"id\":\"p39956\",\"attributes\":{\"tools\":[{\"type\":\"object\",\"name\":\"PanTool\",\"id\":\"p39977\"},{\"type\":\"object\",\"name\":\"WheelZoomTool\",\"id\":\"p39978\"},{\"type\":\"object\",\"name\":\"BoxZoomTool\",\"id\":\"p39979\",\"attributes\":{\"overlay\":{\"type\":\"object\",\"name\":\"BoxAnnotation\",\"id\":\"p39980\",\"attributes\":{\"syncable\":false,\"level\":\"overlay\",\"visible\":false,\"left_units\":\"canvas\",\"right_units\":\"canvas\",\"bottom_units\":\"canvas\",\"top_units\":\"canvas\",\"line_color\":\"black\",\"line_alpha\":1.0,\"line_width\":2,\"line_dash\":[4,4],\"fill_color\":\"lightgrey\",\"fill_alpha\":0.5}}}},{\"type\":\"object\",\"name\":\"SaveTool\",\"id\":\"p39981\"},{\"type\":\"object\",\"name\":\"ResetTool\",\"id\":\"p39982\"},{\"type\":\"object\",\"name\":\"HelpTool\",\"id\":\"p39983\"},{\"type\":\"object\",\"name\":\"HoverTool\",\"id\":\"p39992\",\"attributes\":{\"renderers\":\"auto\",\"tooltips\":[[\"Module\",\"@module\"],[\"Function\",\"@func\"],[\"Makespan contribution\",\"@perc_makespan{1.1}%\"],[\"Makespan contribution (cumulative)\",\"@cumperc_makespan{1.1}%\"],[\"CPU Time (mean \\u00b1 std)\",\"@mean_cpu{1.11} \\u00b1 @std_cpu{1.11}\"],[\"% of memory bound (mean \\u00b1 std)\",\"@mean_mem_bound{1.11} \\u00b1 @std_mem_bound{1.11}\"],[\"% of FP ops (mean \\u00b1 std)\",\"@mean_fp{1.11} \\u00b1 @std_fp{1.11}\"]]}}]}},\"toolbar_location\":null,\"left\":[{\"type\":\"object\",\"name\":\"LinearAxis\",\"id\":\"p39970\",\"attributes\":{\"ticker\":{\"type\":\"object\",\"name\":\"BasicTicker\",\"id\":\"p39971\",\"attributes\":{\"mantissas\":[1,2,5]}},\"formatter\":{\"type\":\"object\",\"name\":\"BasicTickFormatter\",\"id\":\"p39972\"},\"major_label_policy\":{\"type\":\"object\",\"name\":\"AllLabels\",\"id\":\"p39973\"}}},{\"type\":\"object\",\"name\":\"ColorBar\",\"id\":\"p39995\",\"attributes\":{\"location\":[0,0],\"title\":\"% of memory bound\",\"major_label_policy\":{\"type\":\"object\",\"name\":\"NoOverlap\",\"id\":\"p39996\"},\"label_standoff\":14,\"color_mapper\":{\"id\":\"p39994\"}}}],\"right\":[{\"type\":\"object\",\"name\":\"LinearAxis\",\"id\":\"p40015\",\"attributes\":{\"y_range_name\":\"percentage\",\"ticker\":{\"type\":\"object\",\"name\":\"BasicTicker\",\"id\":\"p40016\",\"attributes\":{\"mantissas\":[1,2,5]}},\"formatter\":{\"type\":\"object\",\"name\":\"BasicTickFormatter\",\"id\":\"p40017\"},\"major_label_policy\":{\"type\":\"object\",\"name\":\"AllLabels\",\"id\":\"p40018\"}}}],\"below\":[{\"type\":\"object\",\"name\":\"CategoricalAxis\",\"id\":\"p39964\",\"attributes\":{\"ticker\":{\"type\":\"object\",\"name\":\"CategoricalTicker\",\"id\":\"p39965\"},\"formatter\":{\"type\":\"object\",\"name\":\"CategoricalTickFormatter\",\"id\":\"p39966\"},\"major_label_orientation\":0.39269908169872414,\"major_label_policy\":{\"type\":\"object\",\"name\":\"AllLabels\",\"id\":\"p39967\"},\"separator_line_alpha\":0,\"group_label_orientation\":0.39269908169872414}}],\"center\":[{\"type\":\"object\",\"name\":\"Grid\",\"id\":\"p39969\",\"attributes\":{\"axis\":{\"id\":\"p39964\"},\"grid_line_color\":null}},{\"type\":\"object\",\"name\":\"Grid\",\"id\":\"p39976\",\"attributes\":{\"dimension\":1,\"axis\":{\"id\":\"p39970\"}}},{\"type\":\"object\",\"name\":\"Whisker\",\"id\":\"p40006\",\"attributes\":{\"level\":\"annotation\",\"source\":{\"id\":\"p39943\"},\"lower\":{\"type\":\"field\",\"field\":\"std_lower_cpu\"},\"lower_head\":{\"type\":\"object\",\"name\":\"TeeHead\",\"id\":\"p40011\",\"attributes\":{\"size\":{\"type\":\"value\",\"value\":20}}},\"upper\":{\"type\":\"field\",\"field\":\"std_upper_cpu\"},\"upper_head\":{\"type\":\"object\",\"name\":\"TeeHead\",\"id\":\"p40010\",\"attributes\":{\"size\":{\"type\":\"value\",\"value\":20}}},\"base\":{\"type\":\"field\",\"field\":\"x\"},\"line_width\":{\"type\":\"value\",\"value\":2}}}]}}]}};\n  const render_items = [{\"docid\":\"4f73145e-c5c2-4436-ae57-d66ca34c253d\",\"roots\":{\"p39947\":\"78dee1fe-da37-4775-8607-b632ba1521ff\"},\"root_ids\":[\"p39947\"]}];\n  root.Bokeh.embed.embed_items_notebook(docs_json, render_items);\n  }\n  if (root.Bokeh !== undefined) {\n    embed_document(root);\n  } else {\n    let attempts = 0;\n    const timer = setInterval(function(root) {\n      if (root.Bokeh !== undefined) {\n        clearInterval(timer);\n        embed_document(root);\n      } else {\n        attempts++;\n        if (attempts > 100) {\n          clearInterval(timer);\n          console.log(\"Bokeh: ERROR: Unable to run BokehJS code because BokehJS library is missing\");\n        }\n      }\n    }, 10, root)\n  }\n})(window);",
      "application/vnd.bokehjs_exec.v0+json": ""
     },
     "metadata": {
      "application/vnd.bokehjs_exec.v0+json": {
       "id": "p39947"
      }
     },
     "output_type": "display_data"
    },
    {
     "name": "stdout",
     "output_type": "stream",
     "text": [
      "           clean_module                                                                                                       clean_func     mean_cpu     std_cpu\n",
      "1   libantsUtilities.so                                             itk::VectorLinearInterpolateImageFunction::EvaluateAtContinuousIndex  1820.659235   63.393224\n",
      "2   libantsUtilities.so                                                                  itk::DisplacementFieldTransform::TransformPoint   814.748431   28.314613\n",
      "3   libantsUtilities.so                                                           itk::LinearInterpolateImageFunction::EvaluateOptimized   492.745342   15.677649\n",
      "4   libantsUtilities.so  itk::ANTSNeighborhoodCorrelationImageToImageMetricv4GetValueAndDerivativeThreader::UpdateQueuesToNextScanWindow   238.371289    6.591397\n",
      "5   libantsUtilities.so                                                       itk::ImageToImageMetricv4::TransformAndEvaluateMovingPoint   150.089840    5.043404\n",
      "6   libantsUtilities.so                                                                                                   itk::ImageBase   146.520922  176.250141\n",
      "7   libantsUtilities.so                                                                          itk::InterpolateImageFunction::Evaluate   113.576746    4.114878\n",
      "8   libantsUtilities.so                                                                       itk::ConstNeighborhoodIterator::operator++   112.865579    3.817916\n",
      "9   libantsUtilities.so                                                        itk::ImageToImageMetricv4::TransformAndEvaluateFixedPoint   108.096399    2.698501\n",
      "10  libantsUtilities.so                                                                  itk::VectorNeighborhoodInnerProduct::operator()    93.572978    3.076598\n"
     ]
    },
    {
     "data": {
      "text/html": [
       "\n",
       "  <div id=\"f0545e88-2416-4547-a910-3d6f2624b6b2\" data-root-id=\"p41255\" style=\"display: contents;\"></div>\n"
      ]
     },
     "metadata": {},
     "output_type": "display_data"
    },
    {
     "data": {
      "application/javascript": "(function(root) {\n  function embed_document(root) {\n  const docs_json = {\"e36ad29f-f319-451d-a0eb-3eeff6adad70\":{\"version\":\"3.0.3\",\"title\":\"Bokeh Application\",\"defs\":[],\"roots\":[{\"type\":\"object\",\"name\":\"Figure\",\"id\":\"p41255\",\"attributes\":{\"width\":1200,\"x_range\":{\"type\":\"object\",\"name\":\"FactorRange\",\"id\":\"p41254\",\"attributes\":{\"factors\":[[\"fast\",\"1\"],[\"fast\",\"2\"],[\"fast\",\"3\"],[\"fast\",\"4\"],[\"[Outside any module]\",\"5\"],[\"libm-2.31.so\",\"6\"],[\"libm-2.31.so\",\"7\"],[\"libc-2.31.so\",\"8\"],[\"libfsl-newimage.so\",\"9\"]],\"range_padding\":0.1}},\"y_range\":{\"type\":\"object\",\"name\":\"DataRange1d\",\"id\":\"p41257\",\"attributes\":{\"end\":72.33458429362548}},\"x_scale\":{\"type\":\"object\",\"name\":\"CategoricalScale\",\"id\":\"p41268\"},\"y_scale\":{\"type\":\"object\",\"name\":\"LinearScale\",\"id\":\"p41270\"},\"extra_y_ranges\":{\"type\":\"map\",\"entries\":[[\"percentage\",{\"type\":\"object\",\"name\":\"Range1d\",\"id\":\"p41322\",\"attributes\":{\"end\":100}}]]},\"title\":{\"type\":\"object\",\"name\":\"Title\",\"id\":\"p41258\",\"attributes\":{\"text\":\"Avg. CPU Time: fsl.fast\"}},\"renderers\":[{\"type\":\"object\",\"name\":\"GlyphRenderer\",\"id\":\"p41311\",\"attributes\":{\"data_source\":{\"type\":\"object\",\"name\":\"ColumnDataSource\",\"id\":\"p41251\",\"attributes\":{\"selected\":{\"type\":\"object\",\"name\":\"Selection\",\"id\":\"p41252\",\"attributes\":{\"indices\":[],\"line_indices\":[]}},\"selection_policy\":{\"type\":\"object\",\"name\":\"UnionRenderers\",\"id\":\"p41253\"},\"data\":{\"type\":\"map\",\"entries\":[[\"x\",[[\"fast\",\"1\"],[\"fast\",\"2\"],[\"fast\",\"3\"],[\"fast\",\"4\"],[\"[Outside any module]\",\"5\"],[\"libm-2.31.so\",\"6\"],[\"libm-2.31.so\",\"7\"],[\"libc-2.31.so\",\"8\"],[\"libfsl-newimage.so\",\"9\"]]],[\"module\",{\"type\":\"ndarray\",\"array\":[\"fast\",\"fast\",\"fast\",\"fast\",\"[Outside any module]\",\"libm-2.31.so\",\"libm-2.31.so\",\"libc-2.31.so\",\"libfsl-newimage.so\"],\"shape\":[9],\"dtype\":\"object\",\"order\":\"little\"}],[\"func\",{\"type\":\"ndarray\",\"array\":[\"NEWIMAGE::convolve\",\"ZMRISegmentation::MRFWeightsInner\",\"ZMRISegmentation::UpdateMembers\",\"NEWIMAGE::volume::operator()\",\"[Outside any known module]\",\"exp\",\"func@0x80fa4\",\"func@0x18b644\",\"NEWIMAGE::maskedIterator::operator++\"],\"shape\":[9],\"dtype\":\"object\",\"order\":\"little\"}],[\"perc_makespan\",{\"type\":\"ndarray\",\"array\":{\"type\":\"bytes\",\"data\":\"5RQjyIZ9RECPaT/cKVcmQGAAfxD0rwJAguZta2uOAUDurOCcel8fQCj0kW8SChBA+NqmS3tgDkCZtY9YCl4NQCz47euVDQdA\"},\"shape\":[9],\"dtype\":\"float64\",\"order\":\"little\"}],[\"cumperc_makespan\",{\"type\":\"ndarray\",\"array\":{\"type\":\"bytes\",\"data\":\"5RQjyIZ9REBJ7zI/URNKQE/fOoBQPktAt73xNjdXTECq6UZFkyFQQOwIQGw0IlFAxD+dRjgVUkBxvWGZKABTQDItwUiVuFNA\"},\"shape\":[9],\"dtype\":\"float64\",\"order\":\"little\"}],[\"mean_cpu\",{\"type\":\"ndarray\",\"array\":{\"type\":\"bytes\",\"data\":\"rs22RM0KUUBcs/4KvJQyQE2rVEjOFQ9AayqDPy80DUBXmtok7hcqQCtM61cxrhpAA22BH9hDGUBc6gzV5GwYQN6k+Fl1LBNA\"},\"shape\":[9],\"dtype\":\"float64\",\"order\":\"little\"}],[\"std_cpu\",{\"type\":\"ndarray\",\"array\":{\"type\":\"bytes\",\"data\":\"GmcVSOcU5z9lVXb3Y0v9P1+/UDT02dk/Ns6g8MhL2z8UTlDd9a5AQHjgmrRUfu4/I9zgd1av4z97MM91QErHPyJzBA7LfLE/\"},\"shape\":[9],\"dtype\":\"float64\",\"order\":\"little\"}],[\"std_lower_cpu\",{\"type\":\"ndarray\",\"array\":{\"type\":\"bytes\",\"data\":\"4KImdqPcUEAGTofLBcAwQGGTysGP2gtApBBvIbbKCUD8TjOo9FE0wBzwV8Fm3hZAf1GFUO3NFkDYcF7RkrIXQBGTwC2C5hJA\"},\"shape\":[9],\"dtype\":\"float64\",\"order\":\"little\"}],[\"std_upper_cpu\",{\"type\":\"ndarray\",\"array\":{\"type\":\"bytes\",\"data\":\"fPhGE/c4UUCyGHZKcmk0QJxhb2eGKBFAGaLLLtROEECq9IZm8TRHQDqofu77fR5Ah4h97sK5G0DgY7vYNicZQKu2MIZochNA\"},\"shape\":[9],\"dtype\":\"float64\",\"order\":\"little\"}],[\"mean_mem_bound\",{\"type\":\"ndarray\",\"array\":{\"type\":\"bytes\",\"data\":\"j/EYj/EYEUCXb/mWb/n+PzmHcziHs1BA4Qd+4Ad+OECVWqmVWqkpQGnHCoSR9iNAKK+hvIbyJ0BqVFuuksZOQHqhF3qhFyBA\"},\"shape\":[9],\"dtype\":\"float64\",\"order\":\"little\"}],[\"std_mem_bound\",{\"type\":\"ndarray\",\"array\":{\"type\":\"bytes\",\"data\":\"Oi2JUG8u2z/LfxyVZEHpP4YphiLkVxhALodtvpfgH0DQhdDrAzQzQD8PIdgs9gVAvWClRGuhDEBIl++VHvYDQIHtC68lIwtA\"},\"shape\":[9],\"dtype\":\"float64\",\"order\":\"little\"}],[\"mean_fp\",{\"type\":\"ndarray\",\"array\":{\"type\":\"bytes\",\"data\":\"SpiESZiECUB5jMd4jMcMQHIjN3IjN/I/8O7u7u7uPkCqlVqplVoBQNhQXkN5jThAwkg7ViCMKUBsQlD2vibkP4qd2Imd2Ok/\"},\"shape\":[9],\"dtype\":\"float64\",\"order\":\"little\"}],[\"std_fp\",{\"type\":\"ndarray\",\"array\":{\"type\":\"bytes\",\"data\":\"dYP27MLhpj+s/dlOYhrYP+emkcv06uw/T5kHJ0riE0DHSQ5DcbcRQAgWyafHigdAW8yi0Pxs9z+lRaps1U38P809qjLkmds/\"},\"shape\":[9],\"dtype\":\"float64\",\"order\":\"little\"}]]}}},\"view\":{\"type\":\"object\",\"name\":\"CDSView\",\"id\":\"p41312\",\"attributes\":{\"filter\":{\"type\":\"object\",\"name\":\"AllIndices\",\"id\":\"p41313\"}}},\"glyph\":{\"type\":\"object\",\"name\":\"VBar\",\"id\":\"p41308\",\"attributes\":{\"x\":{\"type\":\"field\",\"field\":\"x\"},\"width\":{\"type\":\"value\",\"value\":0.9},\"top\":{\"type\":\"field\",\"field\":\"mean_cpu\"},\"line_color\":{\"type\":\"field\",\"field\":\"mean_mem_bound\",\"transform\":{\"type\":\"object\",\"name\":\"LinearColorMapper\",\"id\":\"p41302\",\"attributes\":{\"palette\":[\"#0C0786\",\"#100787\",\"#130689\",\"#15068A\",\"#18068B\",\"#1B068C\",\"#1D068D\",\"#1F058E\",\"#21058F\",\"#230590\",\"#250591\",\"#270592\",\"#290593\",\"#2B0594\",\"#2D0494\",\"#2F0495\",\"#310496\",\"#330497\",\"#340498\",\"#360498\",\"#380499\",\"#3A049A\",\"#3B039A\",\"#3D039B\",\"#3F039C\",\"#40039C\",\"#42039D\",\"#44039E\",\"#45039E\",\"#47029F\",\"#49029F\",\"#4A02A0\",\"#4C02A1\",\"#4E02A1\",\"#4F02A2\",\"#5101A2\",\"#5201A3\",\"#5401A3\",\"#5601A3\",\"#5701A4\",\"#5901A4\",\"#5A00A5\",\"#5C00A5\",\"#5E00A5\",\"#5F00A6\",\"#6100A6\",\"#6200A6\",\"#6400A7\",\"#6500A7\",\"#6700A7\",\"#6800A7\",\"#6A00A7\",\"#6C00A8\",\"#6D00A8\",\"#6F00A8\",\"#7000A8\",\"#7200A8\",\"#7300A8\",\"#7500A8\",\"#7601A8\",\"#7801A8\",\"#7901A8\",\"#7B02A8\",\"#7C02A7\",\"#7E03A7\",\"#7F03A7\",\"#8104A7\",\"#8204A7\",\"#8405A6\",\"#8506A6\",\"#8607A6\",\"#8807A5\",\"#8908A5\",\"#8B09A4\",\"#8C0AA4\",\"#8E0CA4\",\"#8F0DA3\",\"#900EA3\",\"#920FA2\",\"#9310A1\",\"#9511A1\",\"#9612A0\",\"#9713A0\",\"#99149F\",\"#9A159E\",\"#9B179E\",\"#9D189D\",\"#9E199C\",\"#9F1A9B\",\"#A01B9B\",\"#A21C9A\",\"#A31D99\",\"#A41E98\",\"#A51F97\",\"#A72197\",\"#A82296\",\"#A92395\",\"#AA2494\",\"#AC2593\",\"#AD2692\",\"#AE2791\",\"#AF2890\",\"#B02A8F\",\"#B12B8F\",\"#B22C8E\",\"#B42D8D\",\"#B52E8C\",\"#B62F8B\",\"#B7308A\",\"#B83289\",\"#B93388\",\"#BA3487\",\"#BB3586\",\"#BC3685\",\"#BD3784\",\"#BE3883\",\"#BF3982\",\"#C03B81\",\"#C13C80\",\"#C23D80\",\"#C33E7F\",\"#C43F7E\",\"#C5407D\",\"#C6417C\",\"#C7427B\",\"#C8447A\",\"#C94579\",\"#CA4678\",\"#CB4777\",\"#CC4876\",\"#CD4975\",\"#CE4A75\",\"#CF4B74\",\"#D04D73\",\"#D14E72\",\"#D14F71\",\"#D25070\",\"#D3516F\",\"#D4526E\",\"#D5536D\",\"#D6556D\",\"#D7566C\",\"#D7576B\",\"#D8586A\",\"#D95969\",\"#DA5A68\",\"#DB5B67\",\"#DC5D66\",\"#DC5E66\",\"#DD5F65\",\"#DE6064\",\"#DF6163\",\"#DF6262\",\"#E06461\",\"#E16560\",\"#E26660\",\"#E3675F\",\"#E3685E\",\"#E46A5D\",\"#E56B5C\",\"#E56C5B\",\"#E66D5A\",\"#E76E5A\",\"#E87059\",\"#E87158\",\"#E97257\",\"#EA7356\",\"#EA7455\",\"#EB7654\",\"#EC7754\",\"#EC7853\",\"#ED7952\",\"#ED7B51\",\"#EE7C50\",\"#EF7D4F\",\"#EF7E4E\",\"#F0804D\",\"#F0814D\",\"#F1824C\",\"#F2844B\",\"#F2854A\",\"#F38649\",\"#F38748\",\"#F48947\",\"#F48A47\",\"#F58B46\",\"#F58D45\",\"#F68E44\",\"#F68F43\",\"#F69142\",\"#F79241\",\"#F79341\",\"#F89540\",\"#F8963F\",\"#F8983E\",\"#F9993D\",\"#F99A3C\",\"#FA9C3B\",\"#FA9D3A\",\"#FA9F3A\",\"#FAA039\",\"#FBA238\",\"#FBA337\",\"#FBA436\",\"#FCA635\",\"#FCA735\",\"#FCA934\",\"#FCAA33\",\"#FCAC32\",\"#FCAD31\",\"#FDAF31\",\"#FDB030\",\"#FDB22F\",\"#FDB32E\",\"#FDB52D\",\"#FDB62D\",\"#FDB82C\",\"#FDB92B\",\"#FDBB2B\",\"#FDBC2A\",\"#FDBE29\",\"#FDC029\",\"#FDC128\",\"#FDC328\",\"#FDC427\",\"#FDC626\",\"#FCC726\",\"#FCC926\",\"#FCCB25\",\"#FCCC25\",\"#FCCE25\",\"#FBD024\",\"#FBD124\",\"#FBD324\",\"#FAD524\",\"#FAD624\",\"#FAD824\",\"#F9D924\",\"#F9DB24\",\"#F8DD24\",\"#F8DF24\",\"#F7E024\",\"#F7E225\",\"#F6E425\",\"#F6E525\",\"#F5E726\",\"#F5E926\",\"#F4EA26\",\"#F3EC26\",\"#F3EE26\",\"#F2F026\",\"#F2F126\",\"#F1F326\",\"#F0F525\",\"#F0F623\",\"#EFF821\"],\"low\":0,\"high\":100}}},\"fill_color\":{\"type\":\"field\",\"field\":\"mean_mem_bound\",\"transform\":{\"id\":\"p41302\"}},\"hatch_color\":{\"type\":\"field\",\"field\":\"mean_mem_bound\",\"transform\":{\"id\":\"p41302\"}}}},\"nonselection_glyph\":{\"type\":\"object\",\"name\":\"VBar\",\"id\":\"p41309\",\"attributes\":{\"x\":{\"type\":\"field\",\"field\":\"x\"},\"width\":{\"type\":\"value\",\"value\":0.9},\"top\":{\"type\":\"field\",\"field\":\"mean_cpu\"},\"line_color\":{\"type\":\"field\",\"field\":\"mean_mem_bound\",\"transform\":{\"id\":\"p41302\"}},\"line_alpha\":{\"type\":\"value\",\"value\":0.1},\"fill_color\":{\"type\":\"field\",\"field\":\"mean_mem_bound\",\"transform\":{\"id\":\"p41302\"}},\"fill_alpha\":{\"type\":\"value\",\"value\":0.1},\"hatch_color\":{\"type\":\"field\",\"field\":\"mean_mem_bound\",\"transform\":{\"id\":\"p41302\"}},\"hatch_alpha\":{\"type\":\"value\",\"value\":0.1}}},\"muted_glyph\":{\"type\":\"object\",\"name\":\"VBar\",\"id\":\"p41310\",\"attributes\":{\"x\":{\"type\":\"field\",\"field\":\"x\"},\"width\":{\"type\":\"value\",\"value\":0.9},\"top\":{\"type\":\"field\",\"field\":\"mean_cpu\"},\"line_color\":{\"type\":\"field\",\"field\":\"mean_mem_bound\",\"transform\":{\"id\":\"p41302\"}},\"line_alpha\":{\"type\":\"value\",\"value\":0.2},\"fill_color\":{\"type\":\"field\",\"field\":\"mean_mem_bound\",\"transform\":{\"id\":\"p41302\"}},\"fill_alpha\":{\"type\":\"value\",\"value\":0.2},\"hatch_color\":{\"type\":\"field\",\"field\":\"mean_mem_bound\",\"transform\":{\"id\":\"p41302\"}},\"hatch_alpha\":{\"type\":\"value\",\"value\":0.2}}}}},{\"type\":\"object\",\"name\":\"GlyphRenderer\",\"id\":\"p41333\",\"attributes\":{\"y_range_name\":\"percentage\",\"data_source\":{\"id\":\"p41251\"},\"view\":{\"type\":\"object\",\"name\":\"CDSView\",\"id\":\"p41334\",\"attributes\":{\"filter\":{\"type\":\"object\",\"name\":\"AllIndices\",\"id\":\"p41335\"}}},\"glyph\":{\"type\":\"object\",\"name\":\"Scatter\",\"id\":\"p41330\",\"attributes\":{\"x\":{\"type\":\"field\",\"field\":\"x\"},\"y\":{\"type\":\"field\",\"field\":\"cumperc_makespan\"},\"size\":{\"type\":\"value\",\"value\":15},\"line_color\":{\"type\":\"value\",\"value\":\"lightgreen\"},\"fill_color\":{\"type\":\"value\",\"value\":\"lightgreen\"},\"hatch_color\":{\"type\":\"value\",\"value\":\"lightgreen\"}}},\"nonselection_glyph\":{\"type\":\"object\",\"name\":\"Scatter\",\"id\":\"p41331\",\"attributes\":{\"x\":{\"type\":\"field\",\"field\":\"x\"},\"y\":{\"type\":\"field\",\"field\":\"cumperc_makespan\"},\"size\":{\"type\":\"value\",\"value\":15},\"line_color\":{\"type\":\"value\",\"value\":\"lightgreen\"},\"line_alpha\":{\"type\":\"value\",\"value\":0.1},\"fill_color\":{\"type\":\"value\",\"value\":\"lightgreen\"},\"fill_alpha\":{\"type\":\"value\",\"value\":0.1},\"hatch_color\":{\"type\":\"value\",\"value\":\"lightgreen\"},\"hatch_alpha\":{\"type\":\"value\",\"value\":0.1}}},\"muted_glyph\":{\"type\":\"object\",\"name\":\"Scatter\",\"id\":\"p41332\",\"attributes\":{\"x\":{\"type\":\"field\",\"field\":\"x\"},\"y\":{\"type\":\"field\",\"field\":\"cumperc_makespan\"},\"size\":{\"type\":\"value\",\"value\":15},\"line_color\":{\"type\":\"value\",\"value\":\"lightgreen\"},\"line_alpha\":{\"type\":\"value\",\"value\":0.2},\"fill_color\":{\"type\":\"value\",\"value\":\"lightgreen\"},\"fill_alpha\":{\"type\":\"value\",\"value\":0.2},\"hatch_color\":{\"type\":\"value\",\"value\":\"lightgreen\"},\"hatch_alpha\":{\"type\":\"value\",\"value\":0.2}}}}}],\"toolbar\":{\"type\":\"object\",\"name\":\"Toolbar\",\"id\":\"p41264\",\"attributes\":{\"tools\":[{\"type\":\"object\",\"name\":\"PanTool\",\"id\":\"p41285\"},{\"type\":\"object\",\"name\":\"WheelZoomTool\",\"id\":\"p41286\"},{\"type\":\"object\",\"name\":\"BoxZoomTool\",\"id\":\"p41287\",\"attributes\":{\"overlay\":{\"type\":\"object\",\"name\":\"BoxAnnotation\",\"id\":\"p41288\",\"attributes\":{\"syncable\":false,\"level\":\"overlay\",\"visible\":false,\"left_units\":\"canvas\",\"right_units\":\"canvas\",\"bottom_units\":\"canvas\",\"top_units\":\"canvas\",\"line_color\":\"black\",\"line_alpha\":1.0,\"line_width\":2,\"line_dash\":[4,4],\"fill_color\":\"lightgrey\",\"fill_alpha\":0.5}}}},{\"type\":\"object\",\"name\":\"SaveTool\",\"id\":\"p41289\"},{\"type\":\"object\",\"name\":\"ResetTool\",\"id\":\"p41290\"},{\"type\":\"object\",\"name\":\"HelpTool\",\"id\":\"p41291\"},{\"type\":\"object\",\"name\":\"HoverTool\",\"id\":\"p41300\",\"attributes\":{\"renderers\":\"auto\",\"tooltips\":[[\"Module\",\"@module\"],[\"Function\",\"@func\"],[\"Makespan contribution\",\"@perc_makespan{1.1}%\"],[\"Makespan contribution (cumulative)\",\"@cumperc_makespan{1.1}%\"],[\"CPU Time (mean \\u00b1 std)\",\"@mean_cpu{1.11} \\u00b1 @std_cpu{1.11}\"],[\"% of memory bound (mean \\u00b1 std)\",\"@mean_mem_bound{1.11} \\u00b1 @std_mem_bound{1.11}\"],[\"% of FP ops (mean \\u00b1 std)\",\"@mean_fp{1.11} \\u00b1 @std_fp{1.11}\"]]}}]}},\"toolbar_location\":null,\"left\":[{\"type\":\"object\",\"name\":\"LinearAxis\",\"id\":\"p41278\",\"attributes\":{\"ticker\":{\"type\":\"object\",\"name\":\"BasicTicker\",\"id\":\"p41279\",\"attributes\":{\"mantissas\":[1,2,5]}},\"formatter\":{\"type\":\"object\",\"name\":\"BasicTickFormatter\",\"id\":\"p41280\"},\"major_label_policy\":{\"type\":\"object\",\"name\":\"AllLabels\",\"id\":\"p41281\"}}},{\"type\":\"object\",\"name\":\"ColorBar\",\"id\":\"p41303\",\"attributes\":{\"location\":[0,0],\"title\":\"% of memory bound\",\"major_label_policy\":{\"type\":\"object\",\"name\":\"NoOverlap\",\"id\":\"p41304\"},\"label_standoff\":14,\"color_mapper\":{\"id\":\"p41302\"}}}],\"right\":[{\"type\":\"object\",\"name\":\"LinearAxis\",\"id\":\"p41323\",\"attributes\":{\"y_range_name\":\"percentage\",\"ticker\":{\"type\":\"object\",\"name\":\"BasicTicker\",\"id\":\"p41324\",\"attributes\":{\"mantissas\":[1,2,5]}},\"formatter\":{\"type\":\"object\",\"name\":\"BasicTickFormatter\",\"id\":\"p41325\"},\"major_label_policy\":{\"type\":\"object\",\"name\":\"AllLabels\",\"id\":\"p41326\"}}}],\"below\":[{\"type\":\"object\",\"name\":\"CategoricalAxis\",\"id\":\"p41272\",\"attributes\":{\"ticker\":{\"type\":\"object\",\"name\":\"CategoricalTicker\",\"id\":\"p41273\"},\"formatter\":{\"type\":\"object\",\"name\":\"CategoricalTickFormatter\",\"id\":\"p41274\"},\"major_label_orientation\":0.39269908169872414,\"major_label_policy\":{\"type\":\"object\",\"name\":\"AllLabels\",\"id\":\"p41275\"},\"separator_line_alpha\":0,\"group_label_orientation\":0.39269908169872414}}],\"center\":[{\"type\":\"object\",\"name\":\"Grid\",\"id\":\"p41277\",\"attributes\":{\"axis\":{\"id\":\"p41272\"},\"grid_line_color\":null}},{\"type\":\"object\",\"name\":\"Grid\",\"id\":\"p41284\",\"attributes\":{\"dimension\":1,\"axis\":{\"id\":\"p41278\"}}},{\"type\":\"object\",\"name\":\"Whisker\",\"id\":\"p41314\",\"attributes\":{\"level\":\"annotation\",\"source\":{\"id\":\"p41251\"},\"lower\":{\"type\":\"field\",\"field\":\"std_lower_cpu\"},\"lower_head\":{\"type\":\"object\",\"name\":\"TeeHead\",\"id\":\"p41319\",\"attributes\":{\"size\":{\"type\":\"value\",\"value\":20}}},\"upper\":{\"type\":\"field\",\"field\":\"std_upper_cpu\"},\"upper_head\":{\"type\":\"object\",\"name\":\"TeeHead\",\"id\":\"p41318\",\"attributes\":{\"size\":{\"type\":\"value\",\"value\":20}}},\"base\":{\"type\":\"field\",\"field\":\"x\"},\"line_width\":{\"type\":\"value\",\"value\":2}}}]}}]}};\n  const render_items = [{\"docid\":\"e36ad29f-f319-451d-a0eb-3eeff6adad70\",\"roots\":{\"p41255\":\"f0545e88-2416-4547-a910-3d6f2624b6b2\"},\"root_ids\":[\"p41255\"]}];\n  root.Bokeh.embed.embed_items_notebook(docs_json, render_items);\n  }\n  if (root.Bokeh !== undefined) {\n    embed_document(root);\n  } else {\n    let attempts = 0;\n    const timer = setInterval(function(root) {\n      if (root.Bokeh !== undefined) {\n        clearInterval(timer);\n        embed_document(root);\n      } else {\n        attempts++;\n        if (attempts > 100) {\n          clearInterval(timer);\n          console.log(\"Bokeh: ERROR: Unable to run BokehJS code because BokehJS library is missing\");\n        }\n      }\n    }, 10, root)\n  }\n})(window);",
      "application/vnd.bokehjs_exec.v0+json": ""
     },
     "metadata": {
      "application/vnd.bokehjs_exec.v0+json": {
       "id": "p41255"
      }
     },
     "output_type": "display_data"
    },
    {
     "name": "stdout",
     "output_type": "stream",
     "text": [
      "           clean_module                            clean_func   mean_cpu    std_cpu\n",
      "1                  fast                    NEWIMAGE::convolve  68.168779   0.721302\n",
      "2                  fast     ZMRISegmentation::MRFWeightsInner  18.580994   1.830906\n",
      "3                  fast       ZMRISegmentation::UpdateMembers   3.885647   0.403928\n",
      "4                  fast          NEWIMAGE::volume::operator()   3.650481   0.426501\n",
      "5  [Outside any module]            [Outside any known module]  13.046739  33.366878\n",
      "6          libm-2.31.so                                   exp   6.670110   0.952921\n",
      "7          libm-2.31.so                          func@0x80fa4   6.316254   0.615154\n",
      "8          libc-2.31.so                         func@0x18b644   6.106342   0.181953\n",
      "9    libfsl-newimage.so  NEWIMAGE::maskedIterator::operator++   4.793416   0.068310\n"
     ]
    }
   ],
   "source": [
    "experiments: dict[str, tuple[tuple[str, float | None]]] = {\n",
    "    \"ants\": (\n",
    "        (\"brainExtraction\", 700),\n",
    "        (\"brainExtraction-fp\", 700),\n",
    "        (\"registrationSyN\", 2000),\n",
    "        (\"registrationSyN-fp\", 2000),\n",
    "    ),\n",
    "    \"fsl\": ((\"fast\", None),),\n",
    "}\n",
    "\n",
    "for toolkit, pipelines in experiments.items():\n",
    "    for pipeline, y_limit in pipelines:\n",
    "        profiling_data = read_profiling_data(profiling_dir / toolkit / pipeline)\n",
    "        data = data_preparation(profiling_data, keep_ratio=0.8)\n",
    "        plot_hotspots(\n",
    "            data,\n",
    "            pipeline=f\"{toolkit}.{pipeline}\",\n",
    "            y_limit=y_limit,\n",
    "            colorbar_on=\"mean_mem_bound\",\n",
    "            colorbar_title=\"% of memory bound\",\n",
    "            colorbar_color=\"Plasma256\",\n",
    "        )\n",
    "        print(\n",
    "            data[[\"clean_module\", \"clean_func\", \"mean_cpu\", \"std_cpu\"]]\n",
    "            .head(10)\n",
    "            .to_string()\n",
    "        )"
   ]
  },
  {
   "attachments": {},
   "cell_type": "markdown",
   "metadata": {},
   "source": [
    "# Multi-threaded (32 threads)"
   ]
  },
  {
   "cell_type": "code",
   "execution_count": 73,
   "metadata": {},
   "outputs": [
    {
     "data": {
      "text/html": [
       "\n",
       "  <div id=\"e43cb63c-331d-427f-976d-d10b2498dcf5\" data-root-id=\"p42585\" style=\"display: contents;\"></div>\n"
      ]
     },
     "metadata": {},
     "output_type": "display_data"
    },
    {
     "data": {
      "application/javascript": "(function(root) {\n  function embed_document(root) {\n  const docs_json = {\"90d69248-f742-4310-a990-ce56ec3f473a\":{\"version\":\"3.0.3\",\"title\":\"Bokeh Application\",\"defs\":[],\"roots\":[{\"type\":\"object\",\"name\":\"Figure\",\"id\":\"p42585\",\"attributes\":{\"width\":1200,\"x_range\":{\"type\":\"object\",\"name\":\"FactorRange\",\"id\":\"p42595\",\"attributes\":{\"factors\":[\"ants/brainExtraction\",\"ants/brainExtraction-fp\"]}},\"y_range\":{\"type\":\"object\",\"name\":\"DataRange1d\",\"id\":\"p42587\",\"attributes\":{\"start\":0,\"end\":274.9090652953023}},\"x_scale\":{\"type\":\"object\",\"name\":\"CategoricalScale\",\"id\":\"p42599\"},\"y_scale\":{\"type\":\"object\",\"name\":\"LinearScale\",\"id\":\"p42601\"},\"title\":{\"type\":\"object\",\"name\":\"Title\",\"id\":\"p42588\",\"attributes\":{\"text\":\"Average Makespan\"}},\"outline_line_color\":null,\"renderers\":[{\"type\":\"object\",\"name\":\"GlyphRenderer\",\"id\":\"p42637\",\"attributes\":{\"data_source\":{\"type\":\"object\",\"name\":\"ColumnDataSource\",\"id\":\"p42581\",\"attributes\":{\"selected\":{\"type\":\"object\",\"name\":\"Selection\",\"id\":\"p42582\",\"attributes\":{\"indices\":[],\"line_indices\":[]}},\"selection_policy\":{\"type\":\"object\",\"name\":\"UnionRenderers\",\"id\":\"p42583\"},\"data\":{\"type\":\"map\",\"entries\":[[\"pipeline\",{\"type\":\"ndarray\",\"array\":[\"ants/brainExtraction\",\"ants/brainExtraction-fp\"],\"shape\":[2],\"dtype\":\"object\",\"order\":\"little\"}],[\"mean\",{\"type\":\"ndarray\",\"array\":{\"type\":\"bytes\",\"data\":\"az5T1DIHbEC8zLBR2mFvQA==\"},\"shape\":[2],\"dtype\":\"float64\",\"order\":\"little\"}],[\"std\",{\"type\":\"ndarray\",\"array\":{\"type\":\"bytes\",\"data\":\"v4wgjf3YKkAPKZpsQIUlQA==\"},\"shape\":[2],\"dtype\":\"float64\",\"order\":\"little\"}],[\"std_lower\",{\"type\":\"ndarray\",\"array\":{\"type\":\"bytes\",\"data\":\"nzWB+6JZakArKudKhgluQA==\"},\"shape\":[2],\"dtype\":\"float64\",\"order\":\"little\"}],[\"std_upper\",{\"type\":\"ndarray\",\"array\":{\"type\":\"bytes\",\"data\":\"N0clrcK0bUCmNz0sF11wQA==\"},\"shape\":[2],\"dtype\":\"float64\",\"order\":\"little\"}]]}}},\"view\":{\"type\":\"object\",\"name\":\"CDSView\",\"id\":\"p42638\",\"attributes\":{\"filter\":{\"type\":\"object\",\"name\":\"AllIndices\",\"id\":\"p42639\"}}},\"glyph\":{\"type\":\"object\",\"name\":\"VBar\",\"id\":\"p42634\",\"attributes\":{\"x\":{\"type\":\"field\",\"field\":\"pipeline\"},\"width\":{\"type\":\"value\",\"value\":0.9},\"top\":{\"type\":\"field\",\"field\":\"mean\"},\"line_color\":{\"type\":\"field\",\"field\":\"pipeline\",\"transform\":{\"type\":\"object\",\"name\":\"CategoricalColorMapper\",\"id\":\"p42584\",\"attributes\":{\"palette\":[\"#0072B2\",\"#E69F00\",\"#F0E442\",\"#009E73\",\"#56B4E9\",\"#D55E00\",\"#CC79A7\",\"#000000\"],\"factors\":[\"ants/brainExtraction\",\"ants/brainExtraction-fp\"]}}},\"fill_color\":{\"type\":\"field\",\"field\":\"pipeline\",\"transform\":{\"id\":\"p42584\"}}}},\"nonselection_glyph\":{\"type\":\"object\",\"name\":\"VBar\",\"id\":\"p42635\",\"attributes\":{\"x\":{\"type\":\"field\",\"field\":\"pipeline\"},\"width\":{\"type\":\"value\",\"value\":0.9},\"top\":{\"type\":\"field\",\"field\":\"mean\"},\"line_color\":{\"type\":\"field\",\"field\":\"pipeline\",\"transform\":{\"id\":\"p42584\"}},\"line_alpha\":{\"type\":\"value\",\"value\":0.1},\"fill_color\":{\"type\":\"field\",\"field\":\"pipeline\",\"transform\":{\"id\":\"p42584\"}},\"fill_alpha\":{\"type\":\"value\",\"value\":0.1},\"hatch_alpha\":{\"type\":\"value\",\"value\":0.1}}},\"muted_glyph\":{\"type\":\"object\",\"name\":\"VBar\",\"id\":\"p42636\",\"attributes\":{\"x\":{\"type\":\"field\",\"field\":\"pipeline\"},\"width\":{\"type\":\"value\",\"value\":0.9},\"top\":{\"type\":\"field\",\"field\":\"mean\"},\"line_color\":{\"type\":\"field\",\"field\":\"pipeline\",\"transform\":{\"id\":\"p42584\"}},\"line_alpha\":{\"type\":\"value\",\"value\":0.2},\"fill_color\":{\"type\":\"field\",\"field\":\"pipeline\",\"transform\":{\"id\":\"p42584\"}},\"fill_alpha\":{\"type\":\"value\",\"value\":0.2},\"hatch_alpha\":{\"type\":\"value\",\"value\":0.2}}}}}],\"toolbar\":{\"type\":\"object\",\"name\":\"Toolbar\",\"id\":\"p42594\",\"attributes\":{\"tools\":[{\"type\":\"object\",\"name\":\"PanTool\",\"id\":\"p42616\"},{\"type\":\"object\",\"name\":\"WheelZoomTool\",\"id\":\"p42617\"},{\"type\":\"object\",\"name\":\"BoxZoomTool\",\"id\":\"p42618\",\"attributes\":{\"overlay\":{\"type\":\"object\",\"name\":\"BoxAnnotation\",\"id\":\"p42619\",\"attributes\":{\"syncable\":false,\"level\":\"overlay\",\"visible\":false,\"left_units\":\"canvas\",\"right_units\":\"canvas\",\"bottom_units\":\"canvas\",\"top_units\":\"canvas\",\"line_color\":\"black\",\"line_alpha\":1.0,\"line_width\":2,\"line_dash\":[4,4],\"fill_color\":\"lightgrey\",\"fill_alpha\":0.5}}}},{\"type\":\"object\",\"name\":\"SaveTool\",\"id\":\"p42620\"},{\"type\":\"object\",\"name\":\"ResetTool\",\"id\":\"p42621\"},{\"type\":\"object\",\"name\":\"HelpTool\",\"id\":\"p42622\"},{\"type\":\"object\",\"name\":\"HoverTool\",\"id\":\"p42648\",\"attributes\":{\"renderers\":\"auto\",\"tooltips\":[[\"Pipeline\",\"@pipeline\"],[\"Makespan (mean \\u00b1 std)\",\"@mean{1.11} \\u00b1 @std{1.11}\"]]}}]}},\"toolbar_location\":null,\"left\":[{\"type\":\"object\",\"name\":\"LinearAxis\",\"id\":\"p42609\",\"attributes\":{\"ticker\":{\"type\":\"object\",\"name\":\"BasicTicker\",\"id\":\"p42610\",\"attributes\":{\"mantissas\":[1,2,5]}},\"formatter\":{\"type\":\"object\",\"name\":\"BasicTickFormatter\",\"id\":\"p42611\"},\"axis_label\":\"Makespan (seconds)\",\"major_label_policy\":{\"type\":\"object\",\"name\":\"AllLabels\",\"id\":\"p42612\"}}}],\"below\":[{\"type\":\"object\",\"name\":\"CategoricalAxis\",\"id\":\"p42603\",\"attributes\":{\"ticker\":{\"type\":\"object\",\"name\":\"CategoricalTicker\",\"id\":\"p42604\"},\"formatter\":{\"type\":\"object\",\"name\":\"CategoricalTickFormatter\",\"id\":\"p42605\"},\"major_label_policy\":{\"type\":\"object\",\"name\":\"AllLabels\",\"id\":\"p42606\"}}}],\"center\":[{\"type\":\"object\",\"name\":\"Grid\",\"id\":\"p42608\",\"attributes\":{\"axis\":{\"id\":\"p42603\"},\"grid_line_color\":null}},{\"type\":\"object\",\"name\":\"Grid\",\"id\":\"p42615\",\"attributes\":{\"dimension\":1,\"axis\":{\"id\":\"p42609\"}}},{\"type\":\"object\",\"name\":\"Whisker\",\"id\":\"p42640\",\"attributes\":{\"level\":\"annotation\",\"source\":{\"id\":\"p42581\"},\"lower\":{\"type\":\"field\",\"field\":\"std_lower\"},\"lower_head\":{\"type\":\"object\",\"name\":\"TeeHead\",\"id\":\"p42645\",\"attributes\":{\"size\":{\"type\":\"value\",\"value\":20}}},\"upper\":{\"type\":\"field\",\"field\":\"std_upper\"},\"upper_head\":{\"type\":\"object\",\"name\":\"TeeHead\",\"id\":\"p42644\",\"attributes\":{\"size\":{\"type\":\"value\",\"value\":20}}},\"base\":{\"type\":\"field\",\"field\":\"pipeline\"},\"line_width\":{\"type\":\"value\",\"value\":2}}}]}}]}};\n  const render_items = [{\"docid\":\"90d69248-f742-4310-a990-ce56ec3f473a\",\"roots\":{\"p42585\":\"e43cb63c-331d-427f-976d-d10b2498dcf5\"},\"root_ids\":[\"p42585\"]}];\n  root.Bokeh.embed.embed_items_notebook(docs_json, render_items);\n  }\n  if (root.Bokeh !== undefined) {\n    embed_document(root);\n  } else {\n    let attempts = 0;\n    const timer = setInterval(function(root) {\n      if (root.Bokeh !== undefined) {\n        clearInterval(timer);\n        embed_document(root);\n      } else {\n        attempts++;\n        if (attempts > 100) {\n          clearInterval(timer);\n          console.log(\"Bokeh: ERROR: Unable to run BokehJS code because BokehJS library is missing\");\n        }\n      }\n    }, 10, root)\n  }\n})(window);",
      "application/vnd.bokehjs_exec.v0+json": ""
     },
     "metadata": {
      "application/vnd.bokehjs_exec.v0+json": {
       "id": "p42585"
      }
     },
     "output_type": "display_data"
    }
   ],
   "source": [
    "profiling_dir = Path(\n",
    "    \"/\", \"mnt\", \"lustre\", \"mathdugre\", \"mri-bottleneck\", \"vtune_output\", \"32-threads\"\n",
    ")\n",
    "\n",
    "plot_makespan(profiling_dir, nthreads=32)"
   ]
  },
  {
   "cell_type": "code",
   "execution_count": 74,
   "metadata": {},
   "outputs": [
    {
     "data": {
      "text/html": [
       "\n",
       "  <div id=\"b2c47b49-d686-4d4f-a190-a7f5baf9fe2a\" data-root-id=\"p43873\" style=\"display: contents;\"></div>\n"
      ]
     },
     "metadata": {},
     "output_type": "display_data"
    },
    {
     "data": {
      "application/javascript": "(function(root) {\n  function embed_document(root) {\n  const docs_json = {\"54c82301-af00-47ff-8cc0-545e3f607a93\":{\"version\":\"3.0.3\",\"title\":\"Bokeh Application\",\"defs\":[],\"roots\":[{\"type\":\"object\",\"name\":\"Figure\",\"id\":\"p43873\",\"attributes\":{\"width\":1200,\"x_range\":{\"type\":\"object\",\"name\":\"FactorRange\",\"id\":\"p43872\",\"attributes\":{\"factors\":[[\"libantsUtilities.so\",\"1\"],[\"libantsUtilities.so\",\"2\"],[\"libantsUtilities.so\",\"3\"],[\"libantsUtilities.so\",\"4\"],[\"libantsUtilities.so\",\"5\"],[\"libantsUtilities.so\",\"6\"],[\"libantsUtilities.so\",\"7\"],[\"libantsUtilities.so\",\"8\"],[\"libantsUtilities.so\",\"9\"],[\"libantsUtilities.so\",\"10\"],[\"libantsUtilities.so\",\"11\"],[\"libantsUtilities.so\",\"12\"],[\"libantsUtilities.so\",\"13\"],[\"libantsUtilities.so\",\"14\"],[\"libantsUtilities.so\",\"15\"],[\"libantsUtilities.so\",\"16\"],[\"libantsUtilities.so\",\"17\"],[\"libantsUtilities.so\",\"18\"],[\"libantsUtilities.so\",\"19\"],[\"libantsUtilities.so\",\"20\"],[\"libantsUtilities.so\",\"21\"],[\"libantsUtilities.so\",\"22\"],[\"libantsUtilities.so\",\"23\"],[\"libantsUtilities.so\",\"24\"],[\"libantsUtilities.so\",\"25\"],[\"libantsUtilities.so\",\"26\"],[\"libantsUtilities.so\",\"27\"],[\"libantsUtilities.so\",\"28\"],[\"libantsUtilities.so\",\"29\"],[\"libantsUtilities.so\",\"30\"],[\"libantsUtilities.so\",\"31\"],[\"libantsUtilities.so\",\"32\"],[\"libantsUtilities.so\",\"33\"],[\"libantsUtilities.so\",\"34\"],[\"libl_antsAI.so\",\"35\"],[\"libl_antsAI.so\",\"36\"],[\"libl_N4BiasFieldCorrection.so\",\"37\"],[\"libl_N4BiasFieldCorrection.so\",\"38\"],[\"vmlinux\",\"39\"]],\"range_padding\":0.1}},\"y_range\":{\"type\":\"object\",\"name\":\"DataRange1d\",\"id\":\"p43875\",\"attributes\":{\"end\":1000}},\"x_scale\":{\"type\":\"object\",\"name\":\"CategoricalScale\",\"id\":\"p43886\"},\"y_scale\":{\"type\":\"object\",\"name\":\"LinearScale\",\"id\":\"p43888\"},\"extra_y_ranges\":{\"type\":\"map\",\"entries\":[[\"percentage\",{\"type\":\"object\",\"name\":\"Range1d\",\"id\":\"p43940\",\"attributes\":{\"end\":100}}]]},\"title\":{\"type\":\"object\",\"name\":\"Title\",\"id\":\"p43876\",\"attributes\":{\"text\":\"Avg. CPU Time: ants.brainExtraction\"}},\"renderers\":[{\"type\":\"object\",\"name\":\"GlyphRenderer\",\"id\":\"p43929\",\"attributes\":{\"data_source\":{\"type\":\"object\",\"name\":\"ColumnDataSource\",\"id\":\"p43869\",\"attributes\":{\"selected\":{\"type\":\"object\",\"name\":\"Selection\",\"id\":\"p43870\",\"attributes\":{\"indices\":[],\"line_indices\":[]}},\"selection_policy\":{\"type\":\"object\",\"name\":\"UnionRenderers\",\"id\":\"p43871\"},\"data\":{\"type\":\"map\",\"entries\":[[\"x\",[[\"libantsUtilities.so\",\"1\"],[\"libantsUtilities.so\",\"2\"],[\"libantsUtilities.so\",\"3\"],[\"libantsUtilities.so\",\"4\"],[\"libantsUtilities.so\",\"5\"],[\"libantsUtilities.so\",\"6\"],[\"libantsUtilities.so\",\"7\"],[\"libantsUtilities.so\",\"8\"],[\"libantsUtilities.so\",\"9\"],[\"libantsUtilities.so\",\"10\"],[\"libantsUtilities.so\",\"11\"],[\"libantsUtilities.so\",\"12\"],[\"libantsUtilities.so\",\"13\"],[\"libantsUtilities.so\",\"14\"],[\"libantsUtilities.so\",\"15\"],[\"libantsUtilities.so\",\"16\"],[\"libantsUtilities.so\",\"17\"],[\"libantsUtilities.so\",\"18\"],[\"libantsUtilities.so\",\"19\"],[\"libantsUtilities.so\",\"20\"],[\"libantsUtilities.so\",\"21\"],[\"libantsUtilities.so\",\"22\"],[\"libantsUtilities.so\",\"23\"],[\"libantsUtilities.so\",\"24\"],[\"libantsUtilities.so\",\"25\"],[\"libantsUtilities.so\",\"26\"],[\"libantsUtilities.so\",\"27\"],[\"libantsUtilities.so\",\"28\"],[\"libantsUtilities.so\",\"29\"],[\"libantsUtilities.so\",\"30\"],[\"libantsUtilities.so\",\"31\"],[\"libantsUtilities.so\",\"32\"],[\"libantsUtilities.so\",\"33\"],[\"libantsUtilities.so\",\"34\"],[\"libl_antsAI.so\",\"35\"],[\"libl_antsAI.so\",\"36\"],[\"libl_N4BiasFieldCorrection.so\",\"37\"],[\"libl_N4BiasFieldCorrection.so\",\"38\"],[\"vmlinux\",\"39\"]]],[\"module\",{\"type\":\"ndarray\",\"array\":[\"libantsUtilities.so\",\"libantsUtilities.so\",\"libantsUtilities.so\",\"libantsUtilities.so\",\"libantsUtilities.so\",\"libantsUtilities.so\",\"libantsUtilities.so\",\"libantsUtilities.so\",\"libantsUtilities.so\",\"libantsUtilities.so\",\"libantsUtilities.so\",\"libantsUtilities.so\",\"libantsUtilities.so\",\"libantsUtilities.so\",\"libantsUtilities.so\",\"libantsUtilities.so\",\"libantsUtilities.so\",\"libantsUtilities.so\",\"libantsUtilities.so\",\"libantsUtilities.so\",\"libantsUtilities.so\",\"libantsUtilities.so\",\"libantsUtilities.so\",\"libantsUtilities.so\",\"libantsUtilities.so\",\"libantsUtilities.so\",\"libantsUtilities.so\",\"libantsUtilities.so\",\"libantsUtilities.so\",\"libantsUtilities.so\",\"libantsUtilities.so\",\"libantsUtilities.so\",\"libantsUtilities.so\",\"libantsUtilities.so\",\"libl_antsAI.so\",\"libl_antsAI.so\",\"libl_N4BiasFieldCorrection.so\",\"libl_N4BiasFieldCorrection.so\",\"vmlinux\"],\"shape\":[39],\"dtype\":\"object\",\"order\":\"little\"}],[\"func\",{\"type\":\"ndarray\",\"array\":[\"itk::LinearInterpolateImageFunction::EvaluateOptimized\",\"itk::VectorLinearInterpolateImageFunction::EvaluateAtContinuousIndex\",\"itk::MattesMutualInformationImageToImageMetricv4GetValueAndDerivativeThreader::ProcessPoint\",\"itk::DisplacementFieldTransform::TransformPoint\",\"itk::CompositeTransform::TransformPoint\",\"itk::CompositeTransform::ComputeJacobianWithRespectToParametersCachedTemporaries\",\"itk::ImageToImageMetricv4::TransformAndEvaluateFixedPoint\",\"itk::ImageToImageMetricv4::TransformAndEvaluateMovingPoint\",\"itk::ImageBase\",\"itk::Image::GetPixel\",\"itk::LinearInterpolateImageFunction::EvaluateAtContinuousIndex\",\"itk::Matrix::operator*\",\"itk::ANTSNeighborhoodCorrelationImageToImageMetricv4GetValueAndDerivativeThreader::UpdateQueuesToNextScanWindow\",\"itk::ConstNeighborhoodIterator::operator++\",\"itk::PointSet::GetPoint\",\"itk::ImageToImageMetricv4GetValueAndDerivativeThreaderBase::ProcessVirtualPoint\",\"itk::ImageFunction::IsInsideBuffer\",\"itk::ConstNeighborhoodIterator::IndexInBounds\",\"itk::InterpolateImageFunction::Evaluate\",\"itk::MattesMutualInformationImageToImageMetricv4::DerivativeBufferManager::ReduceBuffer\",\"itk::BSplineKernelFunction::Evaluate\",\"itk::Point::operator+\",\"itk::ImageFunction::IsInsideBuffer\",\"itk::ObjectToObjectMetric::TransformVirtualIndexToPhysicalPoint\",\"itk::MattesMutualInformationImageToImageMetricv4::DerivativeBufferManager::GetNextElementAndAddOffset\",\"itk::MatrixOffsetTransformBase::TransformPoint\",\"itk::MattesMutualInformationImageToImageMetricv4::DerivativeBufferManager::CheckAndReduceIfNecessary\",\"itk::MultiTransform::IsLinear\",\"itk::VectorNeighborhoodInnerProduct::operator()\",\"itk::CentralDifferenceImageFunction\",\"itk::Math::Detail::Floor_64\",\"itk::ImageToImageMetricv4::LocalTransformPoint\",\"itk::ImageBase\",\"itk::ImageBase\",\"itk::LinearInterpolateImageFunction::EvaluateOptimized\",\"itk::MattesMutualInformationImageToImageMetricv4GetValueAndDerivativeThreader::ProcessPoint\",\"itk::BSplineScatteredDataPointSetToImageFilter::ThreadedGenerateDataForFitting\",\"itk::BSplineKernelFunction::Evaluate\",\"apic_timer_interrupt\"],\"shape\":[39],\"dtype\":\"object\",\"order\":\"little\"}],[\"perc_makespan\",{\"type\":\"ndarray\",\"array\":{\"type\":\"bytes\",\"data\":\"WaNEm5JXM0CXj/4biL0mQF57cIOs6RFA8XFWnfq8DkD4UyllUDcIQB4O+FImxAZAAD6pJeqcBUCkVcHigPj8P1qY4sw9hfo/XmmKKPcG+j8yVD1B1Nz4P+sMhqsTgvc/avOSjnw39j98Bwt0C33yPyJfANZEOPI/9b2xIQHt7z8baAVSp1LtP5GAlMXrYuw/Uhq7cWoI7D9OG5eyJADrP1ZfDWXAFuk/4L92iLQu5z+BEahUnhLmP3YD13cSsuU/aFxRNEmn5T/TgeXh6R3lPxyGGfPm6OQ/gmFbb+ZA4z+HUlvgXf7iPwEs2GII3uE/RsjB9yce4T9Iwg4w1Q7gPxu7Wr441d4/qPMjKu6z3T95JLiqxPj+P5UgZmd/nfU/8g/yCeK0BECZPqMZuE/fP25SY2rI4+c/\"},\"shape\":[39],\"dtype\":\"float64\",\"order\":\"little\"}],[\"cumperc_makespan\",{\"type\":\"ndarray\",\"array\":{\"type\":\"bytes\",\"data\":\"WaNEm5JXM0Ak60OpVrY+QP4EEOVgmEFAHWzljjCEQ0BcATiVpQdFQD6CZ/rnc0ZAHhbCnLbNR0DLINijerVIQI41P5KkiUlA2YiDS9xZSkB7c43twiBLQOKj6YrT3EtAfTteb4+OTEC5k/7KdyJNQLKWrvE5tE1Aql019u0zTkBKc32TOKlOQEzFk0LEGk9AtbFa7OWKT0AiDiV/5vZPQNChXMCgLVBAUI9tKf5bUEBz3xZmI4hQQHqNBouHs1BAMzBvHdbeUEA3+zLxEQlRQEMuGb/jMlFABuX3i2VZUUCrm7hHYn9RQANMflgeo1FAlM9tqFrFUUAZ7c1SeOVRQNRHjItNBFJAyGu2eQEiUkBaTGGM5J1SQNzk/ola9FJAXHVOmgGaU0CbGGhSUblTQEDfPOMY6VNA\"},\"shape\":[39],\"dtype\":\"float64\",\"order\":\"little\"}],[\"mean_cpu\",{\"type\":\"ndarray\",\"array\":{\"type\":\"bytes\",\"data\":\"EC4un46qi0DcFOpEdUOAQKOk0S4wn2lA8Yf6uMH7ZUDuLUA2pFFhQKYnLPEwSGBA3ZSXoRbqXkBmv+50J7hUQKgrUheM91JA2eLBozydUkD1xv/TA8hRQOYE/xQG0FBAelluxC7HT0DzENd7+3FKQDDrapebD0pAzNvHwDDVRkCvAljAoPhEQH8Bc+MsTURARqHAlnIMREAcJa/OcU9DQEAY06dw8UFAq32V12WUQEAlIj6ocpI/QCCduvJZCD9AglAoVez4PkBiX1c4bjQ+QGqcl9Sa6D1AZuN3iSCKO0Be/CPC9So7QMaANoOJjjlArPl8YBV8OEABZfj0/fc2QPDc6TwYDTZA/kb21DI+NUD6fDlYhCZWQEtreB/s6k5ANbD6yDKeXUBOaVjns2Q2QCUYGMPmFUFA\"},\"shape\":[39],\"dtype\":\"float64\",\"order\":\"little\"}],[\"std_cpu\",{\"type\":\"ndarray\",\"array\":{\"type\":\"bytes\",\"data\":\"y/YDBTp4YkDASe82n4wTQHt8KMyhH0JAe+GU0iGUCUBJI0WtC6AxQDND5XI3pDRAvVFEA4L4GUD3uIcQeEwUQGUD91BSQ1ZA8kscyJ58PUDt4x/CyKEYQLtF80qY105AUzuje2dMDUBYpi/pAoPtPxroxIjHby5AYOQayuYRGEDj8zgtcFdEQLunL9uLoTJAhkJgvh7nAkAcDpOrOksZQCo45u7GnxlAVV0EcE5mEECf6J/AxQQ1QAm8BUCQovs/AvmfyDCUF0CgC8AnGxwQQAR3TmbDHxZALPfCkcN/HEBcdRuSmnrjPxHkWth2KhBASYsQN9QuO0DzMdFRht4GQGnglo+L0T9AAILCk97oQkC6yqjf6hkaQOkwv3qQGRJAqj941fsW/T/Fkbv+WFUyQERHCVh4pgVA\"},\"shape\":[39],\"dtype\":\"float64\",\"order\":\"little\"}],[\"std_lower_cpu\",{\"type\":\"ndarray\",\"array\":{\"type\":\"bytes\",\"data\":\"XTDtHYAMh0BINnwGXByAQISFx7tHF2VAazSwMXGVZUAKEy+BRTteQH/+ngVUZ1tAwU9jgY5KXUDXQ+bzX3NTQOi9Js0xXirAuZ914yl8RkC2yN1H5z1QQIggVvieQxZAxSW0TGjyTUBaUjJw7/tJQCqxObWpc0JAQH+E5/PSQ0CA2eFjEib0P0NbtuvN+DVAHp3aqgDeQkBYwzx5CiZAQHai7JPvej1AAeQpEzgPPUAMczzPWRslQF9Buu4wTj1AQlIAI+ATOUB6XGduZy06QKn+A/upYDhAmyUHpS9qNECzIJPtII86QMLHH83rgzVA6IyctPaVBcDDPr4qLRw0QPIGWqXmiCPAAr2OUoqTMMBO8D6q5YRUQC6FIBC6p0xANs+k2dYpXUAkXnOiaz0QQGIHL3v+dj9A\"},\"shape\":[39],\"dtype\":\"float64\",\"order\":\"little\"}],[\"std_upper_cpu\",{\"type\":\"ndarray\",\"array\":{\"type\":\"bytes\",\"data\":\"4ZU3kE4kkEBw81eDjmqAQMLD26EYJ25Ad9tEQBJiZkBX0uirpYVjQAzQiN+33GJA/OzlYM9EYED1Ovf17vxVQIaXJDRvnWRA1vXIVWT8WUA0xSFgIFJTQOJTPB3pHWBAmEYUnvrNUECMz3uHB+hKQJsSzrzG1VBAWDgLmm3XSUBJe8h2CKhUQFzVCtHynU1AbqWmguQ6RUDghiEk2XhGQEXfr4VpJUVAVgmWpS+hQkBiBW80nEtKQHB8XXtBYUBAYSeoQ/xuQkAlsSOBuh1BQBadFddFuEFAmFD0tghVQUAJ2LSWysY7QMo5TTknmT1AesLGy3TVSUA/izK/ztM5QKxeQOZR70pAf6U9/veHTUCmCTQGI8hXQLQoaBcPl1BANJFQuI4SXkCK/QlzBl1EQJmsmEhOcEJA\"},\"shape\":[39],\"dtype\":\"float64\",\"order\":\"little\"}],[\"mean_mem_bound\",{\"type\":\"ndarray\",\"array\":{\"type\":\"bytes\",\"data\":\"KlyPwvXoS0BxPQrXo2AwQFK4HoXroTFAZmZmZmYmMUAzMzMzM2MxQB6F61G4PidAPgrXo3DdN0DC9Shcj2I4QCuarqLpKipATCofxv06MkCamZmZmQkzQObYbY7dBilAexSuR+F6K0DrUbgehesTQFK4HoXrGUdAcT0K16NANEDpGF6ch44tQOtRuB6Fix1A61G4HoVbNkDrUbgehVs3QFK4HoXr0RRAMzMzMzNzG0A2edxZwq4yQLgehetROC9AKVyPwvU0VECamZmZmdkoQFK4HoXrFVBAexSuR+HaJECamZmZmbkpQMP1KFyPEjxA2CfYJ9gnMUCkcD0K10M1QPADP/ADvydAMmWYy/4xHEA9CtejcF0sQOJ6FK5HoTJAHoXrUbiONEAAAAAAAIAgQD4K16NwVURA\"},\"shape\":[39],\"dtype\":\"float64\",\"order\":\"little\"}],[\"std_mem_bound\",{\"type\":\"ndarray\",\"array\":{\"type\":\"bytes\",\"data\":\"cSd2Rk+REUCZYLH4BazsPximf6QYkwlAoT6Zd6n08j9mRqpWkCgLQHuY5oabxAVAWIJwCioGBUAZsSKl7JEIQAtwr1tF5SJAi4syhOdXHUAHiJGJvzUGQKsa8pjvZCFAMPihRILaDUBDiZuvJpH2P8fo7gcZRCVAg6pk2i5GDUCz/FiTULAtQCbaPXTuLAlA4ZQNK+wjBUBleB6vR3wGQL+IJ9cElvo/RYclbRUW9j/hKwKT0BopQEu+/wWonxhAQlEZEtYSEkAsZpWEAK8AQBRfi3d2wRBA4yBJ0dGwKEBu07Qy2S8DQA3iPQQ8qRRAB5g1e2FMMEBp5giIuvAeQNSTS7SwNDdA0g8u+5laHkBXrDCrC2EEQPXzCIs4DRFALzh7tP+I8z+PEn6CwXYOQKsLVAEAfg1A\"},\"shape\":[39],\"dtype\":\"float64\",\"order\":\"little\"}],[\"mean_fp\",{\"type\":\"ndarray\",\"array\":{\"type\":\"bytes\",\"data\":\"rkfhehT+MUDWo3A9CncqQArXo3A9ii1AKVyPwvU4NUBSuB6F67E2QKRwPQrXwzJArkfhehQeNUDNzMzMzCw5QDxq6XHvCDVAZCELWchChj+amZmZmeFJQIPbP5DD6RJAZmZmZmaWMUBmZmZmZma2P3E9CtejADNAuB6F61F4QkA20GkDnYY3QAAAAAAAAPI/16NwPQr3OECkcD0K16MlQJqZmZmZmSlApHA9CtdjNUB3vp8aL41AQPYoXI/CVTNAKVyPwvX4M0AK16NwPWo3QArXo3A9+jZA4noUrkdhDUDNzMzMzAwdQArXo3A9yjlARM59dgHRK0Bdj8L1KJwrQHd3d3d3txlAwXMEirZ6IUDrUbgehcskQML1KFyPAiFAXI/C9SicFkCkcD0K14MZQChcj8L1KMw/\"},\"shape\":[39],\"dtype\":\"float64\",\"order\":\"little\"}],[\"std_fp\",{\"type\":\"ndarray\",\"array\":{\"type\":\"bytes\",\"data\":\"+1pX2HkB4j+5NPUtUrjUP1ZXGDXR8eE/ieAgwjRr6D8epehxyBPoPzzkG/J6S+Y/bkIzsKnm9j86Fs1Nyk79Pw7mKE/efClA0Nio2skcoD+nj9bHlfoBQHgWhcsvRBdAfcAntClQ6T96n1L3bpKxPziHszNS9gJAejAFj4sz/j8HZZmRbjw1QO6RAvkXL/M/xg0d/9GwDEAbIBBCNnXwP0J28m/Da/M/ZxcOaPU1BkC49AqJIJcwQHvfKTs17fM/owol37RdEUBwF0U29SMAQIScAnmQfgRA34zx+OCA4j9gPTu65T3vP8X9RI/moQBA/6suGALMLkA8rjk2Nr72P0NgFoyppi5A9epSpf/OJkDZ9BRWwl30P6c0WF3Dquw//oGUbzZp5T+BnfxUe5f3PyCTmV2VidA/\"},\"shape\":[39],\"dtype\":\"float64\",\"order\":\"little\"}]]}}},\"view\":{\"type\":\"object\",\"name\":\"CDSView\",\"id\":\"p43930\",\"attributes\":{\"filter\":{\"type\":\"object\",\"name\":\"AllIndices\",\"id\":\"p43931\"}}},\"glyph\":{\"type\":\"object\",\"name\":\"VBar\",\"id\":\"p43926\",\"attributes\":{\"x\":{\"type\":\"field\",\"field\":\"x\"},\"width\":{\"type\":\"value\",\"value\":0.9},\"top\":{\"type\":\"field\",\"field\":\"mean_cpu\"},\"line_color\":{\"type\":\"field\",\"field\":\"mean_mem_bound\",\"transform\":{\"type\":\"object\",\"name\":\"LinearColorMapper\",\"id\":\"p43920\",\"attributes\":{\"palette\":[\"#0C0786\",\"#100787\",\"#130689\",\"#15068A\",\"#18068B\",\"#1B068C\",\"#1D068D\",\"#1F058E\",\"#21058F\",\"#230590\",\"#250591\",\"#270592\",\"#290593\",\"#2B0594\",\"#2D0494\",\"#2F0495\",\"#310496\",\"#330497\",\"#340498\",\"#360498\",\"#380499\",\"#3A049A\",\"#3B039A\",\"#3D039B\",\"#3F039C\",\"#40039C\",\"#42039D\",\"#44039E\",\"#45039E\",\"#47029F\",\"#49029F\",\"#4A02A0\",\"#4C02A1\",\"#4E02A1\",\"#4F02A2\",\"#5101A2\",\"#5201A3\",\"#5401A3\",\"#5601A3\",\"#5701A4\",\"#5901A4\",\"#5A00A5\",\"#5C00A5\",\"#5E00A5\",\"#5F00A6\",\"#6100A6\",\"#6200A6\",\"#6400A7\",\"#6500A7\",\"#6700A7\",\"#6800A7\",\"#6A00A7\",\"#6C00A8\",\"#6D00A8\",\"#6F00A8\",\"#7000A8\",\"#7200A8\",\"#7300A8\",\"#7500A8\",\"#7601A8\",\"#7801A8\",\"#7901A8\",\"#7B02A8\",\"#7C02A7\",\"#7E03A7\",\"#7F03A7\",\"#8104A7\",\"#8204A7\",\"#8405A6\",\"#8506A6\",\"#8607A6\",\"#8807A5\",\"#8908A5\",\"#8B09A4\",\"#8C0AA4\",\"#8E0CA4\",\"#8F0DA3\",\"#900EA3\",\"#920FA2\",\"#9310A1\",\"#9511A1\",\"#9612A0\",\"#9713A0\",\"#99149F\",\"#9A159E\",\"#9B179E\",\"#9D189D\",\"#9E199C\",\"#9F1A9B\",\"#A01B9B\",\"#A21C9A\",\"#A31D99\",\"#A41E98\",\"#A51F97\",\"#A72197\",\"#A82296\",\"#A92395\",\"#AA2494\",\"#AC2593\",\"#AD2692\",\"#AE2791\",\"#AF2890\",\"#B02A8F\",\"#B12B8F\",\"#B22C8E\",\"#B42D8D\",\"#B52E8C\",\"#B62F8B\",\"#B7308A\",\"#B83289\",\"#B93388\",\"#BA3487\",\"#BB3586\",\"#BC3685\",\"#BD3784\",\"#BE3883\",\"#BF3982\",\"#C03B81\",\"#C13C80\",\"#C23D80\",\"#C33E7F\",\"#C43F7E\",\"#C5407D\",\"#C6417C\",\"#C7427B\",\"#C8447A\",\"#C94579\",\"#CA4678\",\"#CB4777\",\"#CC4876\",\"#CD4975\",\"#CE4A75\",\"#CF4B74\",\"#D04D73\",\"#D14E72\",\"#D14F71\",\"#D25070\",\"#D3516F\",\"#D4526E\",\"#D5536D\",\"#D6556D\",\"#D7566C\",\"#D7576B\",\"#D8586A\",\"#D95969\",\"#DA5A68\",\"#DB5B67\",\"#DC5D66\",\"#DC5E66\",\"#DD5F65\",\"#DE6064\",\"#DF6163\",\"#DF6262\",\"#E06461\",\"#E16560\",\"#E26660\",\"#E3675F\",\"#E3685E\",\"#E46A5D\",\"#E56B5C\",\"#E56C5B\",\"#E66D5A\",\"#E76E5A\",\"#E87059\",\"#E87158\",\"#E97257\",\"#EA7356\",\"#EA7455\",\"#EB7654\",\"#EC7754\",\"#EC7853\",\"#ED7952\",\"#ED7B51\",\"#EE7C50\",\"#EF7D4F\",\"#EF7E4E\",\"#F0804D\",\"#F0814D\",\"#F1824C\",\"#F2844B\",\"#F2854A\",\"#F38649\",\"#F38748\",\"#F48947\",\"#F48A47\",\"#F58B46\",\"#F58D45\",\"#F68E44\",\"#F68F43\",\"#F69142\",\"#F79241\",\"#F79341\",\"#F89540\",\"#F8963F\",\"#F8983E\",\"#F9993D\",\"#F99A3C\",\"#FA9C3B\",\"#FA9D3A\",\"#FA9F3A\",\"#FAA039\",\"#FBA238\",\"#FBA337\",\"#FBA436\",\"#FCA635\",\"#FCA735\",\"#FCA934\",\"#FCAA33\",\"#FCAC32\",\"#FCAD31\",\"#FDAF31\",\"#FDB030\",\"#FDB22F\",\"#FDB32E\",\"#FDB52D\",\"#FDB62D\",\"#FDB82C\",\"#FDB92B\",\"#FDBB2B\",\"#FDBC2A\",\"#FDBE29\",\"#FDC029\",\"#FDC128\",\"#FDC328\",\"#FDC427\",\"#FDC626\",\"#FCC726\",\"#FCC926\",\"#FCCB25\",\"#FCCC25\",\"#FCCE25\",\"#FBD024\",\"#FBD124\",\"#FBD324\",\"#FAD524\",\"#FAD624\",\"#FAD824\",\"#F9D924\",\"#F9DB24\",\"#F8DD24\",\"#F8DF24\",\"#F7E024\",\"#F7E225\",\"#F6E425\",\"#F6E525\",\"#F5E726\",\"#F5E926\",\"#F4EA26\",\"#F3EC26\",\"#F3EE26\",\"#F2F026\",\"#F2F126\",\"#F1F326\",\"#F0F525\",\"#F0F623\",\"#EFF821\"],\"low\":0,\"high\":100}}},\"fill_color\":{\"type\":\"field\",\"field\":\"mean_mem_bound\",\"transform\":{\"id\":\"p43920\"}},\"hatch_color\":{\"type\":\"field\",\"field\":\"mean_mem_bound\",\"transform\":{\"id\":\"p43920\"}}}},\"nonselection_glyph\":{\"type\":\"object\",\"name\":\"VBar\",\"id\":\"p43927\",\"attributes\":{\"x\":{\"type\":\"field\",\"field\":\"x\"},\"width\":{\"type\":\"value\",\"value\":0.9},\"top\":{\"type\":\"field\",\"field\":\"mean_cpu\"},\"line_color\":{\"type\":\"field\",\"field\":\"mean_mem_bound\",\"transform\":{\"id\":\"p43920\"}},\"line_alpha\":{\"type\":\"value\",\"value\":0.1},\"fill_color\":{\"type\":\"field\",\"field\":\"mean_mem_bound\",\"transform\":{\"id\":\"p43920\"}},\"fill_alpha\":{\"type\":\"value\",\"value\":0.1},\"hatch_color\":{\"type\":\"field\",\"field\":\"mean_mem_bound\",\"transform\":{\"id\":\"p43920\"}},\"hatch_alpha\":{\"type\":\"value\",\"value\":0.1}}},\"muted_glyph\":{\"type\":\"object\",\"name\":\"VBar\",\"id\":\"p43928\",\"attributes\":{\"x\":{\"type\":\"field\",\"field\":\"x\"},\"width\":{\"type\":\"value\",\"value\":0.9},\"top\":{\"type\":\"field\",\"field\":\"mean_cpu\"},\"line_color\":{\"type\":\"field\",\"field\":\"mean_mem_bound\",\"transform\":{\"id\":\"p43920\"}},\"line_alpha\":{\"type\":\"value\",\"value\":0.2},\"fill_color\":{\"type\":\"field\",\"field\":\"mean_mem_bound\",\"transform\":{\"id\":\"p43920\"}},\"fill_alpha\":{\"type\":\"value\",\"value\":0.2},\"hatch_color\":{\"type\":\"field\",\"field\":\"mean_mem_bound\",\"transform\":{\"id\":\"p43920\"}},\"hatch_alpha\":{\"type\":\"value\",\"value\":0.2}}}}},{\"type\":\"object\",\"name\":\"GlyphRenderer\",\"id\":\"p43951\",\"attributes\":{\"y_range_name\":\"percentage\",\"data_source\":{\"id\":\"p43869\"},\"view\":{\"type\":\"object\",\"name\":\"CDSView\",\"id\":\"p43952\",\"attributes\":{\"filter\":{\"type\":\"object\",\"name\":\"AllIndices\",\"id\":\"p43953\"}}},\"glyph\":{\"type\":\"object\",\"name\":\"Scatter\",\"id\":\"p43948\",\"attributes\":{\"x\":{\"type\":\"field\",\"field\":\"x\"},\"y\":{\"type\":\"field\",\"field\":\"cumperc_makespan\"},\"size\":{\"type\":\"value\",\"value\":15},\"line_color\":{\"type\":\"value\",\"value\":\"lightgreen\"},\"fill_color\":{\"type\":\"value\",\"value\":\"lightgreen\"},\"hatch_color\":{\"type\":\"value\",\"value\":\"lightgreen\"}}},\"nonselection_glyph\":{\"type\":\"object\",\"name\":\"Scatter\",\"id\":\"p43949\",\"attributes\":{\"x\":{\"type\":\"field\",\"field\":\"x\"},\"y\":{\"type\":\"field\",\"field\":\"cumperc_makespan\"},\"size\":{\"type\":\"value\",\"value\":15},\"line_color\":{\"type\":\"value\",\"value\":\"lightgreen\"},\"line_alpha\":{\"type\":\"value\",\"value\":0.1},\"fill_color\":{\"type\":\"value\",\"value\":\"lightgreen\"},\"fill_alpha\":{\"type\":\"value\",\"value\":0.1},\"hatch_color\":{\"type\":\"value\",\"value\":\"lightgreen\"},\"hatch_alpha\":{\"type\":\"value\",\"value\":0.1}}},\"muted_glyph\":{\"type\":\"object\",\"name\":\"Scatter\",\"id\":\"p43950\",\"attributes\":{\"x\":{\"type\":\"field\",\"field\":\"x\"},\"y\":{\"type\":\"field\",\"field\":\"cumperc_makespan\"},\"size\":{\"type\":\"value\",\"value\":15},\"line_color\":{\"type\":\"value\",\"value\":\"lightgreen\"},\"line_alpha\":{\"type\":\"value\",\"value\":0.2},\"fill_color\":{\"type\":\"value\",\"value\":\"lightgreen\"},\"fill_alpha\":{\"type\":\"value\",\"value\":0.2},\"hatch_color\":{\"type\":\"value\",\"value\":\"lightgreen\"},\"hatch_alpha\":{\"type\":\"value\",\"value\":0.2}}}}}],\"toolbar\":{\"type\":\"object\",\"name\":\"Toolbar\",\"id\":\"p43882\",\"attributes\":{\"tools\":[{\"type\":\"object\",\"name\":\"PanTool\",\"id\":\"p43903\"},{\"type\":\"object\",\"name\":\"WheelZoomTool\",\"id\":\"p43904\"},{\"type\":\"object\",\"name\":\"BoxZoomTool\",\"id\":\"p43905\",\"attributes\":{\"overlay\":{\"type\":\"object\",\"name\":\"BoxAnnotation\",\"id\":\"p43906\",\"attributes\":{\"syncable\":false,\"level\":\"overlay\",\"visible\":false,\"left_units\":\"canvas\",\"right_units\":\"canvas\",\"bottom_units\":\"canvas\",\"top_units\":\"canvas\",\"line_color\":\"black\",\"line_alpha\":1.0,\"line_width\":2,\"line_dash\":[4,4],\"fill_color\":\"lightgrey\",\"fill_alpha\":0.5}}}},{\"type\":\"object\",\"name\":\"SaveTool\",\"id\":\"p43907\"},{\"type\":\"object\",\"name\":\"ResetTool\",\"id\":\"p43908\"},{\"type\":\"object\",\"name\":\"HelpTool\",\"id\":\"p43909\"},{\"type\":\"object\",\"name\":\"HoverTool\",\"id\":\"p43918\",\"attributes\":{\"renderers\":\"auto\",\"tooltips\":[[\"Module\",\"@module\"],[\"Function\",\"@func\"],[\"Makespan contribution\",\"@perc_makespan{1.1}%\"],[\"Makespan contribution (cumulative)\",\"@cumperc_makespan{1.1}%\"],[\"CPU Time (mean \\u00b1 std)\",\"@mean_cpu{1.11} \\u00b1 @std_cpu{1.11}\"],[\"% of memory bound (mean \\u00b1 std)\",\"@mean_mem_bound{1.11} \\u00b1 @std_mem_bound{1.11}\"],[\"% of FP ops (mean \\u00b1 std)\",\"@mean_fp{1.11} \\u00b1 @std_fp{1.11}\"]]}}]}},\"toolbar_location\":null,\"left\":[{\"type\":\"object\",\"name\":\"LinearAxis\",\"id\":\"p43896\",\"attributes\":{\"ticker\":{\"type\":\"object\",\"name\":\"BasicTicker\",\"id\":\"p43897\",\"attributes\":{\"mantissas\":[1,2,5]}},\"formatter\":{\"type\":\"object\",\"name\":\"BasicTickFormatter\",\"id\":\"p43898\"},\"major_label_policy\":{\"type\":\"object\",\"name\":\"AllLabels\",\"id\":\"p43899\"}}},{\"type\":\"object\",\"name\":\"ColorBar\",\"id\":\"p43921\",\"attributes\":{\"location\":[0,0],\"title\":\"% of memory bound\",\"major_label_policy\":{\"type\":\"object\",\"name\":\"NoOverlap\",\"id\":\"p43922\"},\"label_standoff\":14,\"color_mapper\":{\"id\":\"p43920\"}}}],\"right\":[{\"type\":\"object\",\"name\":\"LinearAxis\",\"id\":\"p43941\",\"attributes\":{\"y_range_name\":\"percentage\",\"ticker\":{\"type\":\"object\",\"name\":\"BasicTicker\",\"id\":\"p43942\",\"attributes\":{\"mantissas\":[1,2,5]}},\"formatter\":{\"type\":\"object\",\"name\":\"BasicTickFormatter\",\"id\":\"p43943\"},\"major_label_policy\":{\"type\":\"object\",\"name\":\"AllLabels\",\"id\":\"p43944\"}}}],\"below\":[{\"type\":\"object\",\"name\":\"CategoricalAxis\",\"id\":\"p43890\",\"attributes\":{\"ticker\":{\"type\":\"object\",\"name\":\"CategoricalTicker\",\"id\":\"p43891\"},\"formatter\":{\"type\":\"object\",\"name\":\"CategoricalTickFormatter\",\"id\":\"p43892\"},\"major_label_orientation\":0.39269908169872414,\"major_label_policy\":{\"type\":\"object\",\"name\":\"AllLabels\",\"id\":\"p43893\"},\"separator_line_alpha\":0,\"group_label_orientation\":0.39269908169872414}}],\"center\":[{\"type\":\"object\",\"name\":\"Grid\",\"id\":\"p43895\",\"attributes\":{\"axis\":{\"id\":\"p43890\"},\"grid_line_color\":null}},{\"type\":\"object\",\"name\":\"Grid\",\"id\":\"p43902\",\"attributes\":{\"dimension\":1,\"axis\":{\"id\":\"p43896\"}}},{\"type\":\"object\",\"name\":\"Whisker\",\"id\":\"p43932\",\"attributes\":{\"level\":\"annotation\",\"source\":{\"id\":\"p43869\"},\"lower\":{\"type\":\"field\",\"field\":\"std_lower_cpu\"},\"lower_head\":{\"type\":\"object\",\"name\":\"TeeHead\",\"id\":\"p43937\",\"attributes\":{\"size\":{\"type\":\"value\",\"value\":20}}},\"upper\":{\"type\":\"field\",\"field\":\"std_upper_cpu\"},\"upper_head\":{\"type\":\"object\",\"name\":\"TeeHead\",\"id\":\"p43936\",\"attributes\":{\"size\":{\"type\":\"value\",\"value\":20}}},\"base\":{\"type\":\"field\",\"field\":\"x\"},\"line_width\":{\"type\":\"value\",\"value\":2}}}]}}]}};\n  const render_items = [{\"docid\":\"54c82301-af00-47ff-8cc0-545e3f607a93\",\"roots\":{\"p43873\":\"b2c47b49-d686-4d4f-a190-a7f5baf9fe2a\"},\"root_ids\":[\"p43873\"]}];\n  root.Bokeh.embed.embed_items_notebook(docs_json, render_items);\n  }\n  if (root.Bokeh !== undefined) {\n    embed_document(root);\n  } else {\n    let attempts = 0;\n    const timer = setInterval(function(root) {\n      if (root.Bokeh !== undefined) {\n        clearInterval(timer);\n        embed_document(root);\n      } else {\n        attempts++;\n        if (attempts > 100) {\n          clearInterval(timer);\n          console.log(\"Bokeh: ERROR: Unable to run BokehJS code because BokehJS library is missing\");\n        }\n      }\n    }, 10, root)\n  }\n})(window);",
      "application/vnd.bokehjs_exec.v0+json": ""
     },
     "metadata": {
      "application/vnd.bokehjs_exec.v0+json": {
       "id": "p43873"
      }
     },
     "output_type": "display_data"
    },
    {
     "name": "stdout",
     "output_type": "stream",
     "text": [
      "           clean_module                                                                                   clean_func    mean_cpu     std_cpu\n",
      "1   libantsUtilities.so                                       itk::LinearInterpolateImageFunction::EvaluateOptimized  885.319640  147.757082\n",
      "2   libantsUtilities.so                         itk::VectorLinearInterpolateImageFunction::EvaluateAtContinuousIndex  520.432260    4.887326\n",
      "3   libantsUtilities.so  itk::MattesMutualInformationImageToImageMetricv4GetValueAndDerivativeThreader::ProcessPoint  204.974632   36.247125\n",
      "4   libantsUtilities.so                                              itk::DisplacementFieldTransform::TransformPoint  175.867398    3.197330\n",
      "5   libantsUtilities.so                                                      itk::CompositeTransform::TransformPoint  138.551295   17.625178\n",
      "6   libantsUtilities.so             itk::CompositeTransform::ComputeJacobianWithRespectToParametersCachedTemporaries  130.255974   20.641471\n",
      "7   libantsUtilities.so                                    itk::ImageToImageMetricv4::TransformAndEvaluateFixedPoint  123.657631    6.492683\n",
      "8   libantsUtilities.so                                   itk::ImageToImageMetricv4::TransformAndEvaluateMovingPoint   82.877408    5.074677\n",
      "9   libantsUtilities.so                                                                               itk::ImageBase   75.867925   89.051899\n",
      "10  libantsUtilities.so                                                                         itk::Image::GetPixel   74.456826   29.486798\n"
     ]
    }
   ],
   "source": [
    "experiments: dict[str, tuple[tuple[str, float | None]]] = {\n",
    "    \"ants\": (\n",
    "        (\"brainExtraction\", 1000),\n",
    "    #     (\"brainExtraction-fp\", 700),\n",
    "    #     (\"registrationSyN\", 1600),\n",
    "    #     (\"registrationSyN-fp\", 1600),\n",
    "    ),\n",
    "    # \"fsl\": ((\"fast\", None),),\n",
    "}\n",
    "\n",
    "for toolkit, pipelines in experiments.items():\n",
    "    for pipeline, y_limit in pipelines:\n",
    "        profiling_data = read_profiling_data(profiling_dir / toolkit / pipeline)\n",
    "        data = data_preparation(profiling_data, keep_ratio=0.8)\n",
    "        plot_hotspots(\n",
    "            data,\n",
    "            pipeline=f\"{toolkit}.{pipeline}\",\n",
    "            y_limit=y_limit,\n",
    "            colorbar_on=\"mean_mem_bound\",\n",
    "            colorbar_title=\"% of memory bound\",\n",
    "            colorbar_color=\"Plasma256\",\n",
    "        )\n",
    "        print(\n",
    "            data[[\"clean_module\", \"clean_func\", \"mean_cpu\", \"std_cpu\"]]\n",
    "            .head(10)\n",
    "            .to_string()\n",
    "        )"
   ]
  },
  {
   "attachments": {},
   "cell_type": "markdown",
   "metadata": {},
   "source": [
    "# Test"
   ]
  },
  {
   "cell_type": "code",
   "execution_count": null,
   "metadata": {},
   "outputs": [],
   "source": [
    "data = data_preparation(\n",
    "    read_profiling_data(\n",
    "        Path(\n",
    "            \"/\",\n",
    "            \"mnt\",\n",
    "            \"lustre\",\n",
    "            \"mathdugre\",\n",
    "            \"mri-bottleneck\",\n",
    "            \"vtune_output\",\n",
    "            \"1-threads\",\n",
    "        )\n",
    "        / \"ants\"\n",
    "        / \"registrationSyN\"\n",
    "    ),\n",
    "    keep_ratio=0.99,\n",
    ")"
   ]
  },
  {
   "cell_type": "code",
   "execution_count": null,
   "metadata": {},
   "outputs": [
    {
     "name": "stdout",
     "output_type": "stream",
     "text": [
      "                                                                                                              clean_func  \\\n",
      "1                                                   itk::VectorLinearInterpolateImageFunction::EvaluateAtContinuousIndex   \n",
      "2                                                                 itk::LinearInterpolateImageFunction::EvaluateOptimized   \n",
      "3                                                                        itk::DisplacementFieldTransform::TransformPoint   \n",
      "4                                                              itk::ImageToImageMetricv4::TransformAndEvaluateFixedPoint   \n",
      "5        itk::ANTSNeighborhoodCorrelationImageToImageMetricv4GetValueAndDerivativeThreader::UpdateQueuesToNextScanWindow   \n",
      "6                                                                                                         itk::ImageBase   \n",
      "7                                                                                                   itk::Image::GetPixel   \n",
      "8                                                                             itk::ConstNeighborhoodIterator::operator++   \n",
      "9                                                             itk::ImageToImageMetricv4::TransformAndEvaluateMovingPoint   \n",
      "10                                                                                    itk::ImageFunction::IsInsideBuffer   \n",
      "11                                                                                                itk::Matrix::operator*   \n",
      "12                                                                       itk::VectorNeighborhoodInnerProduct::operator()   \n",
      "13                                                        itk::LinearInterpolateImageFunction::EvaluateAtContinuousIndex   \n",
      "14                                                                         itk::ConstNeighborhoodIterator::IndexInBounds   \n",
      "15                                                       itk::ObjectToObjectMetric::TransformVirtualIndexToPhysicalPoint   \n",
      "16                                                                               itk::InterpolateImageFunction::Evaluate   \n",
      "17                                                                                    itk::ImageFunction::IsInsideBuffer   \n",
      "18                                                                                                        itk::ImageBase   \n",
      "19                                                                                           itk::Math::Detail::Floor_64   \n",
      "20                                                                         itk::ConstNeighborhoodIterator::IndexInBounds   \n",
      "21                                                                        itk::ImageToImageMetricv4::LocalTransformPoint   \n",
      "23                                                                               itk::CompositeTransform::TransformPoint   \n",
      "24                                                                                                            itk::Point   \n",
      "25                                                                  itk::ConstNeighborhoodIterator::ComputeInternalIndex   \n",
      "26                           itk::MattesMutualInformationImageToImageMetricv4GetValueAndDerivativeThreader::ProcessPoint   \n",
      "27                                                                                          itk::Neighborhood::GetStride   \n",
      "28                                                                  itk::ConstNeighborhoodIterator::ComputeInternalIndex   \n",
      "29                                                                                                           std::fill_n   \n",
      "30                                                                                 itk::NeighborhoodAccessorFunctor::Get   \n",
      "31                                                                                                        _mm_cvtsd_si64   \n",
      "32       itk::ANTSNeighborhoodCorrelationImageToImageMetricv4GetValueAndDerivativeThreader::ComputeInformationFromQueues   \n",
      "33                                      itk::CompositeTransform::ComputeJacobianWithRespectToParametersCachedTemporaries   \n",
      "34                                                                                   itk::CentralDifferenceImageFunction   \n",
      "35                                                                                                             std::copy   \n",
      "36                                                                                          itk::Neighborhood::GetStride   \n",
      "37                                                                              itk::ConstNeighborhoodIterator::InBounds   \n",
      "38                                                itk::ComposeDisplacementFieldsImageFilter::DynamicThreadedGenerateData   \n",
      "39                                                                                                 itk::Index::operator+   \n",
      "40                                                                                          itk::Neighborhood::GetOffset   \n",
      "41                                                                                                        func@0x12d7654   \n",
      "43                                                                                                        func@0x12d7660   \n",
      "44                                                                                  itk::ImageHelper::ComputeOffsetInner   \n",
      "45                                                                                                        func@0x12d7894   \n",
      "46                                                                                  itk::ImageHelper::ComputeOffsetInner   \n",
      "47                                                                                                           std::fill_n   \n",
      "48                                                  itk::InvertDisplacementFieldImageFilter::DynamicThreadedGenerateData   \n",
      "49                                                                                  itk::ImageHelper::ComputeOffsetInner   \n",
      "50                                                                            itk::ConstNeighborhoodIterator::operator++   \n",
      "51      itk::ANTSNeighborhoodCorrelationImageToImageMetricv4GetValueAndDerivativeThreader::UpdateQueuesAtBeginningOfLine   \n",
      "52   itk::ANTSNeighborhoodCorrelationImageToImageMetricv4GetValueAndDerivativeThreader::ComputeMovingTransformDerivative   \n",
      "53                                       itk::ImageToImageMetricv4GetValueAndDerivativeThreaderBase::ProcessVirtualPoint   \n",
      "54                                                                                                 itk::Point::operator+   \n",
      "55                                                                                           itk::FixedArray::operator[]   \n",
      "56                                itk::ImageToImageMetricv4GetValueAndDerivativeThreaderBase::StorePointDerivativeResult   \n",
      "57                                                                        itk::MatrixOffsetTransformBase::TransformPoint   \n",
      "58                               itk::MattesMutualInformationImageToImageMetricv4::DerivativeBufferManager::ReduceBuffer   \n",
      "59                                                                                  itk::BSplineKernelFunction::Evaluate   \n",
      "60                                                                     itk::ZeroFluxNeumannBoundaryCondition::operator()   \n",
      "61                                                                                 itk::ImportImageContainer::operator[]   \n",
      "63                                                                                               itk::PointSet::GetPoint   \n",
      "65                                                                                   itk::ImageHelper::ComputeIndexInner   \n",
      "66                                                                                                itk::Image::FillBuffer   \n",
      "67                                                                                         itk::MultiTransform::IsLinear   \n",
      "68                                                                                                      itk::ImageRegion   \n",
      "69                                                                                    itk::ImageFunction::IsInsideBuffer   \n",
      "70                                                                    itk::ImageRegionConstIteratorWithIndex::operator++   \n",
      "72                                                                                   itk::ImageHelper::ComputeIndexInner   \n",
      "73                                                                              itk::ConstNeighborhoodIterator::GetPixel   \n",
      "76                                                      itk::SyNImageRegistrationMethod::GaussianSmoothDisplacementField   \n",
      "78                                                                                                        itk::ImageBase   \n",
      "80                                                                                           std::unique_ptr::operator[]   \n",
      "82                                                                              itk::Math::Detail::RoundHalfIntegerUp_64   \n",
      "83                                                          itk::ImageToImageMetricv4::ComputeMovingImageGradientAtPoint   \n",
      "84             itk::ANTSNeighborhoodCorrelationImageToImageMetricv4GetValueAndDerivativeThreader::ThreadedExecution_impl   \n",
      "85                                                                              itk::ConstNeighborhoodIterator::GetIndex   \n",
      "88                                                               itk::ResampleImageFilter::NonlinearThreadedGenerateData   \n",
      "89                                               itk::VectorNeighborhoodOperatorImageFilter::DynamicThreadedGenerateData   \n",
      "90                                                                                       itk::NeighborhoodAllocator::end   \n",
      "91                                                                     itk::SyNImageRegistrationMethod::ScaleUpdateField   \n",
      "94                                                                                                        func@0x12d8724   \n",
      "95                                      itk::ImageToImageMetricv4GetValueAndDerivativeThreaderBase::GetComputeDerivative   \n",
      "96                                                                                                        func@0x12d7664   \n",
      "98                                                                              itk::ConstNeighborhoodIterator::InBounds   \n",
      "99                                                                                                        func@0x12d7670   \n",
      "101                                                                                        itk::ImageRegionIterator::Set   \n",
      "102                                                                                     std::_Deque_iterator::operator++   \n",
      "103                                                                                                 itk::Image::GetPixel   \n",
      "104                                                    itk::ObjectToObjectMetric::ComputeParameterOffsetFromVirtualIndex   \n",
      "105                                                                                     itk::NeighborhoodAccessorFunctor   \n",
      "106                                                                        itk::CompositeTransform::GetTransformCategory   \n",
      "107                                               itk::MatrixOffsetTransformBase::ComputeJacobianWithRespectToParameters   \n",
      "109                                                                                                     std::deque::size   \n",
      "111                                                                                 itk::Statistics::Histogram::GetIndex   \n",
      "113                                                                                                      itk::FixedArray   \n",
      "114                                            itk::ImageToImageMetricv4GetValueAndDerivativeThreader::ThreadedExecution   \n",
      "115                 itk::MattesMutualInformationImageToImageMetricv4::DerivativeBufferManager::CheckAndReduceIfNecessary   \n",
      "117                                                                       itk::BSplineDerivativeKernelFunction::Evaluate   \n",
      "118                                                        itk::Euler3DTransform::ComputeJacobianWithRespectToParameters   \n",
      "120                                                                                itk::ImageConstIteratorWithIndex::Get   \n",
      "121                                                                             itk::MatrixOffsetTransformBase::IsLinear   \n",
      "123                                                      itk::RecursiveSeparableImageFilter::DynamicThreadedGenerateData   \n",
      "124                                                                                               std::deque::operator[]   \n",
      "126                                                                                                       func@0x12d9694   \n",
      "127                                                                   itk::ImageRegionConstIteratorWithIndex::operator++   \n",
      "128                                                                                                       func@0x12d96a0   \n",
      "129                                                                                   itk::RecursiveSeparableImageFilter   \n",
      "130                                                                                                    std::vector::size   \n",
      "131                                                      itk::RecursiveSeparableImageFilter::DynamicThreadedGenerateData   \n",
      "132                                                                               itk::IdentityTransform::TransformPoint   \n",
      "22                                                                                                  apic_timer_interrupt   \n",
      "42                                                                                                            page_fault   \n",
      "71                                                                                                           retint_user   \n",
      "86                                                                                               call_function_interrupt   \n",
      "112                                                                                                      interrupt_entry   \n",
      "116                                                                           swapgs_restore_regs_and_return_to_usermode   \n",
      "122                                                                                                         zlib_inflate   \n",
      "62                                                                                                             std::copy   \n",
      "77                                                                                                      vnl_vector::fill   \n",
      "79                                                                                                    vnl_matrix::update   \n",
      "87                                                                                                           std::fill_n   \n",
      "93                                                                                                vnl_matrix::operator()   \n",
      "100                                                                                                     vnl_matrix::fill   \n",
      "125                                                                                                 vnl_matrix::set_size   \n",
      "75                                                                                                        deflate_medium   \n",
      "81                                                                                                    longest_match_avx2   \n",
      "97                                                                                                      zng_tr_tally_lit   \n",
      "108                                                                                             quick_insert_string_sse4   \n",
      "64                                                                                         std::condition_variable::wait   \n",
      "92                                                                                                          operator new   \n",
      "119                                                                                  std::condition_variable::notify_one   \n",
      "74                                                                                                             sincosf64   \n",
      "110                                                                                                  __pthread_once_slow   \n",
      "133                                                                                                                [kvm]   \n",
      "\n",
      "        mean_cpu  \n",
      "1    1391.437158  \n",
      "2     536.807891  \n",
      "3     458.770323  \n",
      "4     221.366608  \n",
      "5     166.567417  \n",
      "6     164.823108  \n",
      "7     149.622410  \n",
      "8     133.047743  \n",
      "9     118.512450  \n",
      "10    108.921552  \n",
      "11    108.495660  \n",
      "12    102.740966  \n",
      "13     93.326702  \n",
      "14     76.207609  \n",
      "15     74.577873  \n",
      "16     73.953972  \n",
      "17     54.907421  \n",
      "18     51.055909  \n",
      "19     44.459904  \n",
      "20     36.080250  \n",
      "21     31.456423  \n",
      "23     26.986310  \n",
      "24     24.214263  \n",
      "25     23.596779  \n",
      "26     22.939873  \n",
      "27     22.367678  \n",
      "28     21.267538  \n",
      "29     21.210025  \n",
      "30     17.448463  \n",
      "31     17.382456  \n",
      "32     17.005107  \n",
      "33     16.627026  \n",
      "34     14.597512  \n",
      "35     14.202195  \n",
      "36     13.008054  \n",
      "37     11.730242  \n",
      "38     10.850435  \n",
      "39     10.365459  \n",
      "40      9.969712  \n",
      "41      9.949285  \n",
      "43      9.709428  \n",
      "44      9.331992  \n",
      "45      8.817133  \n",
      "46      8.468661  \n",
      "47      7.994472  \n",
      "48      7.955845  \n",
      "49      6.908448  \n",
      "50      6.108710  \n",
      "51      5.859468  \n",
      "52      5.592134  \n",
      "53      5.304019  \n",
      "54      5.215397  \n",
      "55      5.118401  \n",
      "56      4.879365  \n",
      "57      4.372934  \n",
      "58      4.296658  \n",
      "59      4.144105  \n",
      "60      4.120391  \n",
      "61      4.087321  \n",
      "63      3.904763  \n",
      "65      3.794744  \n",
      "66      3.715784  \n",
      "67      3.427669  \n",
      "68      3.242234  \n",
      "69      3.223135  \n",
      "70      3.000448  \n",
      "72      2.667288  \n",
      "73      2.608310  \n",
      "76      2.367134  \n",
      "78      2.237951  \n",
      "80      2.071991  \n",
      "82      1.848447  \n",
      "83      1.777582  \n",
      "84      1.765847  \n",
      "85      1.638084  \n",
      "88      1.429082  \n",
      "89      1.428226  \n",
      "90      1.426882  \n",
      "91      1.390333  \n",
      "94      1.286431  \n",
      "95      1.200986  \n",
      "96      1.199275  \n",
      "98      1.132126  \n",
      "99      1.130651  \n",
      "101     1.109308  \n",
      "102     1.101648  \n",
      "103     1.083760  \n",
      "104     1.071047  \n",
      "105     1.070070  \n",
      "106     1.029487  \n",
      "107     1.026553  \n",
      "109     0.928925  \n",
      "111     0.850531  \n",
      "113     0.829771  \n",
      "114     0.821805  \n",
      "115     0.815571  \n",
      "117     0.799557  \n",
      "118     0.770343  \n",
      "120     0.755552  \n",
      "121     0.752740  \n",
      "123     0.724015  \n",
      "124     0.706962  \n",
      "126     0.658210  \n",
      "127     0.654644  \n",
      "128     0.643862  \n",
      "129     0.618151  \n",
      "130     0.613137  \n",
      "131     0.612411  \n",
      "132     0.611311  \n",
      "22     29.162020  \n",
      "42      9.857865  \n",
      "71      2.727858  \n",
      "86      1.528583  \n",
      "112     0.837573  \n",
      "116     0.805425  \n",
      "122     0.737950  \n",
      "62      4.048126  \n",
      "77      2.262499  \n",
      "79      2.153829  \n",
      "87      1.481400  \n",
      "93      1.302371  \n",
      "100     1.127155  \n",
      "125     0.684776  \n",
      "75      2.440721  \n",
      "81      1.979104  \n",
      "97      1.184026  \n",
      "108     1.015416  \n",
      "64      3.833988  \n",
      "92      1.346449  \n",
      "119     0.761786  \n",
      "74      2.504163  \n",
      "110     0.877056  \n",
      "133     0.608989  \n"
     ]
    }
   ],
   "source": [
    "with pd.option_context('display.max_colwidth', None, 'display.max_rows', None):\n",
    "    print(data[[\"clean_func\", \"mean_cpu\"]])"
   ]
  },
  {
   "cell_type": "code",
   "execution_count": null,
   "metadata": {},
   "outputs": [],
   "source": []
  }
 ],
 "metadata": {
  "kernelspec": {
   "display_name": "neuro-bottleneck",
   "language": "python",
   "name": "python3"
  },
  "language_info": {
   "codemirror_mode": {
    "name": "ipython",
    "version": 3
   },
   "file_extension": ".py",
   "mimetype": "text/x-python",
   "name": "python",
   "nbconvert_exporter": "python",
   "pygments_lexer": "ipython3",
   "version": "3.10.8"
  },
  "orig_nbformat": 4
 },
 "nbformat": 4,
 "nbformat_minor": 2
}
